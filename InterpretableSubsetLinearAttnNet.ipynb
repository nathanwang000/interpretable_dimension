{
 "cells": [
  {
   "cell_type": "markdown",
   "metadata": {},
   "source": [
    "# Interpretable Subset Linear Attn Network Decision (ISLAND)\n",
    "## AKA The super sparse (only 1 on) linear classifier"
   ]
  },
  {
   "cell_type": "markdown",
   "metadata": {},
   "source": [
    "The aim of this work is to *build* a network with *attention* such that the neuron used for the final layer of classification is *interpretable*. This approach is used to explain computer vision tasks. The decision made is *subset linear* meaning that only a subset of concepts classes are selected for decision and the interactiion between concepts and output is linear. Note that this is different from a linear classifier in that subset linear classifiers can choose which subset of concepts to use (essentially setting the weight for all other concepts to zero). \n",
    "\n",
    "## Contributions\n",
    "\n",
    "1. First method to investigate subset linear classifier (makes even nonlinear relationship representable)\n",
    "2. Easily spot confounding by looking at attention (no need for concept dataset to be unbiased)\n",
    "3. Useful regularization via self regularization (refer to extension 1)\n",
    "4. subset linear attention corresponds to human cognitive ability (we don't look at all evidence but focus on important ones)\n",
    "\n",
    "## Advantage of subset linear classifier\n",
    "\n",
    "1. Don't have to model attention and concept correctly for not important concepts (efficiency)\n",
    "2. Can account for certain nonlinear relationships: e.g. certain features are not reliable for one situation, while certain feature are reliable to other situations (make sure the weight for a decision have the same sign, but not necessarily the same magnitude)\n",
    "\n",
    "## Limitations\n",
    "\n",
    "1. If spatial relation will completely reverse the linear weights, then subset linear won't be able to capture that relationship (this can be mitigated by modeling a few mode of operation and modeling for each model give a set of weight)\n",
    "\n",
    "## Assumptions\n",
    "\n",
    "1. We have annotation of image segmentation (the segmentation is used to penalyze attention). \n",
    "2. The sign of the weight don't change (a concept can only be good or bad for the classification, if it is in the middle ground, ISLAND will choose more robust features via attention)\n",
    "\n",
    "## Evaluation\n",
    "\n",
    "It's hard to evaluate the interpretability of individual neurons, but we can measure \n",
    "\n",
    "1. attention accuracy (as for image segmentation)\n",
    "2. classification accuracy of the concept network\n",
    "3. attention switch frequency (lower switch of frequency means more robust)\n",
    "4. classification accuracy of the main network\n",
    "\n",
    "1-3 guarantees the interpretability of individual neurons, 4 guarantees the usefulness of the network.\n",
    "\n",
    "Back to the wolf vs. snow example. If the attention is always on the snow, it means the network confuses wolf from snow.\n",
    "\n",
    "## Extensions\n",
    "\n",
    "1. use an uninterpretable network to learn feature mapping and the classification task; essentially use that network to guide better attention\n",
    "2. add in human guidence on attention (a module that makes penalty order agnostic) for interactive learning (make it credible)\n",
    "3. take state of the art segmentation method to segment data an compare the utility\n",
    "4. Add self attention (global receptive field) before inputing to attention module\n",
    "5. Try ACT on self attention module\n",
    "6. RNN can be similarly trained but put attention on time instead"
   ]
  },
  {
   "cell_type": "code",
   "execution_count": 1,
   "metadata": {},
   "outputs": [],
   "source": [
    "import itertools\n",
    "import matplotlib.pyplot as plt\n",
    "import numpy as np\n",
    "import os, math\n",
    "import matplotlib.image as mpimg\n",
    "import glob, torch\n",
    "import matplotlib as mpl\n",
    "import torch.nn as nn\n",
    "import torch.nn.functional as F\n",
    "from torch.autograd import Variable\n",
    "from skimage import io\n",
    "from torchvision import transforms\n",
    "from torch.utils.data import Dataset, DataLoader\n",
    "from torchvision import transforms, utils\n",
    "from torch.utils.data.sampler import SubsetRandomSampler, RandomSampler\n",
    "import torch.optim as optim\n",
    "import copy\n",
    "from sklearn.decomposition import PCA\n",
    "import seaborn as sns\n",
    "import math"
   ]
  },
  {
   "cell_type": "code",
   "execution_count": 2,
   "metadata": {},
   "outputs": [],
   "source": [
    "def to_var(x, *args, **kwargs):\n",
    "    if type(x) is list or type(x) is tuple:\n",
    "        x = [Variable(x_, *args, **kwargs) for x_ in x]\n",
    "    else:\n",
    "        x = Variable(x, *args, **kwargs)\n",
    "    return x"
   ]
  },
  {
   "cell_type": "markdown",
   "metadata": {},
   "source": [
    "## toy domain: 0-3 items on 3x3 grid "
   ]
  },
  {
   "cell_type": "code",
   "execution_count": 3,
   "metadata": {},
   "outputs": [],
   "source": [
    "class Board:\n",
    "    def __init__(self, max_obj=3, w=3, h=3, repr_list=None):\n",
    "        '''\n",
    "        repr_list is a mapping from object number to name\n",
    "        0 is always the default background\n",
    "        '''\n",
    "        if repr_list is not None:\n",
    "            assert len(repr_list) == max_obj+1\n",
    "        else:\n",
    "            repr_list = [str(i) for i in range(max_obj+1)]\n",
    "        self.repr_list = repr_list\n",
    "            \n",
    "        self.w, self.h = w, h\n",
    "        self.board = np.zeros(w*h).astype(np.int)\n",
    "        self.max_obj = max_obj\n",
    "        self.board = self.board.reshape([w, h])\n",
    "\n",
    "    def __repr__(self):\n",
    "        res = \"\"\n",
    "        for r in self.board:\n",
    "            res += '['\n",
    "            res += \", \".join(list(map(lambda x: self.repr_list[x], r)))\n",
    "            res += ']\\n'\n",
    "        return res\n",
    "    \n",
    "    def to_input(self):\n",
    "        return self.board.ravel()\n",
    "    \n",
    "def fillBoard(b): # drop in objects 1 at a time, same type only 1\n",
    "    b.board = b.board.ravel()\n",
    "    # either there is an item or not\n",
    "    exist = []\n",
    "    for i in range(1, b.max_obj+1):\n",
    "        if np.random.rand() > 0.5:\n",
    "            exist.append(i)\n",
    "    exist = np.random.permutation(exist)\n",
    "    # choose where to put those item\n",
    "    where = np.random.choice(b.w*b.h, len(exist), replace=False)\n",
    "    for i, p in enumerate(where):\n",
    "        b.board[p] = exist[i]\n",
    "    b.board = b.board.reshape([b.w, b.h])\n"
   ]
  },
  {
   "cell_type": "code",
   "execution_count": 4,
   "metadata": {},
   "outputs": [
    {
     "name": "stdout",
     "output_type": "stream",
     "text": [
      "[[1 0 0]\n",
      " [0 0 0]\n",
      " [0 0 0]]\n",
      "[A, 0, 0]\n",
      "[0, 0, 0]\n",
      "[0, 0, 0]\n",
      "\n"
     ]
    }
   ],
   "source": [
    "w, h = 3, 3\n",
    "max_obj = 3\n",
    "b = Board(max_obj, w, h, ['0', 'A', 'B', 'C'])\n",
    "fillBoard(b)\n",
    "print(b.to_input().reshape(h, w))\n",
    "print(b)"
   ]
  },
  {
   "cell_type": "markdown",
   "metadata": {},
   "source": [
    "Assume the relationship is\n",
    "\n",
    "y = sign(1A + 2B - 3C)\n",
    "\n",
    "In other word, we don't care where A, B, C are\n",
    "\n",
    "Further, for simplicity, we only consider 1 attention head"
   ]
  },
  {
   "cell_type": "code",
   "execution_count": 5,
   "metadata": {},
   "outputs": [],
   "source": [
    "class BoardDataset(Dataset):\n",
    "    \n",
    "    def __init__(self, length, weight, fillBoard=fillBoard):\n",
    "        '''weight is class weight: the real weight for each class'''\n",
    "        self.length = length\n",
    "        self.w, self.h, self.max_obj = 3, 3, 3\n",
    "        self.weight = weight\n",
    "        self.fillBoard = fillBoard\n",
    "        \n",
    "    def __len__(self):\n",
    "        return self.length\n",
    "\n",
    "    def __getitem__(self, idx):\n",
    "        b = Board(self.max_obj, self.w, self.h)\n",
    "        self.fillBoard(b)\n",
    "        x = b.to_input()\n",
    "        #y = sum([self.weight[i] for i in x])\n",
    "        y = int(sum([self.weight[i] for i in x])>0)\n",
    "        return x, y"
   ]
  },
  {
   "cell_type": "code",
   "execution_count": 6,
   "metadata": {},
   "outputs": [],
   "source": [
    "train_portion = 0.8\n",
    "\n",
    "board_data = BoardDataset(10000, [0, 1, 2, -3])\n",
    "dataset_size = len(board_data)\n",
    "splitpoint = math.floor(train_portion*dataset_size)\n",
    "\n",
    "iter_order = np.random.permutation(dataset_size)\n",
    "train_subset = iter_order[:splitpoint]\n",
    "test_subset = iter_order[splitpoint:]"
   ]
  },
  {
   "cell_type": "code",
   "execution_count": 7,
   "metadata": {
    "scrolled": true
   },
   "outputs": [
    {
     "name": "stdout",
     "output_type": "stream",
     "text": [
      "\n",
      "    0     2     0     0     0     0     0     0     0\n",
      "    3     0     0     0     0     0     0     0     1\n",
      "    1     0     2     0     0     0     0     0     0\n",
      "    0     0     0     0     0     0     2     0     1\n",
      "    0     0     0     0     3     0     0     0     0\n",
      "    3     2     0     0     0     0     0     0     1\n",
      "    2     0     0     0     0     0     0     0     0\n",
      "    0     0     0     0     0     0     0     0     0\n",
      "    0     0     0     0     2     3     0     0     0\n",
      "    3     0     0     0     0     0     2     0     0\n",
      "[torch.LongTensor of size 10x9]\n",
      "\n"
     ]
    }
   ],
   "source": [
    "board_dataloader = DataLoader(board_data, batch_size=10, \n",
    "                              sampler=SubsetRandomSampler(train_subset),\n",
    "                              num_workers=1)\n",
    "\n",
    "x, y = next(iter(board_dataloader))\n",
    "print(x)"
   ]
  },
  {
   "cell_type": "code",
   "execution_count": 8,
   "metadata": {},
   "outputs": [],
   "source": [
    "class SelfAttn(nn.Module):\n",
    "    def __init__(self, hidden_size, num_head=1):\n",
    "        super(SelfAttn, self).__init__()\n",
    "        self.hidden_size = hidden_size\n",
    "        self.num_head = num_head\n",
    "        \n",
    "        self.WQs = []\n",
    "        for i in range(num_head): # multihead attention shares K and V\n",
    "            self.WQs.append(nn.Linear(hidden_size, hidden_size))\n",
    "        self.WK = nn.Linear(hidden_size, hidden_size)\n",
    "        self.WV = nn.Linear(hidden_size, hidden_size)        \n",
    "        self.sm = nn.Softmax(dim=2)\n",
    "    \n",
    "    def forward(self, H): # H is of size bsx9xhidden_size\n",
    "        Qs = [WQ(H) for WQ in self.WQs]\n",
    "        K = self.WK(H)        \n",
    "        V = self.WV(H) \n",
    "        Zs = [torch.matmul(self.sm(torch.matmul(Q, K.transpose(1,2)) / np.sqrt(self.hidden_size)), V) for Q in Qs]\n",
    "        return Zs\n",
    "\n",
    "class Attn(nn.Module):\n",
    "    \n",
    "    def __init__(self, hidden_size, num_head=1, w=3, h=3):\n",
    "        super(Attn, self).__init__()\n",
    "        self.hidden_size = hidden_size\n",
    "        self.num_head = num_head\n",
    "        \n",
    "        # summarize all spatial vectors to 1 vector\n",
    "        self.Wcombine = nn.Linear(hidden_size*w*h, num_head*hidden_size)\n",
    "        self.relu = nn.ReLU(inplace=True)\n",
    "        self.WQ = nn.Linear(hidden_size, hidden_size)\n",
    "        self.WK = nn.Linear(hidden_size, hidden_size)\n",
    "        self.WV = nn.Linear(hidden_size, hidden_size)        \n",
    "        self.sm = nn.Softmax(dim=2)\n",
    "    \n",
    "    def forward(self, H): # H is of size bsx9xhidden_size\n",
    "        bs = H.shape[0]\n",
    "        H_combined = self.relu(self.Wcombine(H.view(bs,-1)).view(bs, self.num_head, self.hidden_size))\n",
    "        Q = self.WQ(H_combined)\n",
    "        K = self.WK(H)        \n",
    "        V = self.WV(H) \n",
    "        attn_weight = self.sm(torch.matmul(Q, K.transpose(1,2)) / np.sqrt(self.hidden_size))\n",
    "        Z = torch.matmul(attn_weight, V)\n",
    "        Zs = [Z[:,i,:] for i in range(Z.shape[1])]\n",
    "        attn_weights = [attn_weight[:,i,:] for i in range(attn_weight.shape[1])]\n",
    "        return Zs, attn_weights, V\n",
    "\n",
    "class Island(nn.Module):\n",
    "\n",
    "    def __init__(self, num_class=2, hidden_size=4, num_head=1, max_obj=3, w=3, h=3):\n",
    "        super(Island, self).__init__()\n",
    "        self.max_obj = max_obj\n",
    "        self.num_class = num_class\n",
    "        self.hidden_size = hidden_size\n",
    "        \n",
    "        self.embed = nn.Embedding(max_obj+1, hidden_size)\n",
    "        self.attn = Attn(hidden_size, num_head, w, h)\n",
    "        self.sm = nn.Softmax(dim=1)\n",
    "        \n",
    "        self.concept_classifier = nn.Sequential(\n",
    "            nn.Linear(hidden_size, hidden_size),\n",
    "            nn.ReLU(inplace=True),\n",
    "            nn.Linear(hidden_size, hidden_size),            \n",
    "        )\n",
    "        self.classifier = nn.Linear(max_obj+1, self.num_class)\n",
    "        \n",
    "    def forward(self, x):\n",
    "        # preprocess\n",
    "        H = self.embed(x)\n",
    "        # get attention: [bs x hidden_size] of length num_heads\n",
    "        Zs, attn_weights, V = self.attn(H)\n",
    "        # compute concept for each attention head\n",
    "        concepts = [self.sm(self.concept_classifier(Z)) for Z in Zs]\n",
    "        # compute final linear decision\n",
    "        o = self.classifier(sum(concepts))\n",
    "        return concepts, attn_weights, o, V"
   ]
  },
  {
   "cell_type": "code",
   "execution_count": 9,
   "metadata": {},
   "outputs": [],
   "source": [
    "trainloader = DataLoader(board_data, batch_size=32, \n",
    "                         sampler=SubsetRandomSampler(train_subset),\n",
    "                         num_workers=1)\n",
    "testloader = DataLoader(board_data, batch_size=32, \n",
    "                        sampler=SubsetRandomSampler(test_subset),\n",
    "                        num_workers=1)\n"
   ]
  },
  {
   "cell_type": "code",
   "execution_count": 10,
   "metadata": {},
   "outputs": [],
   "source": [
    "def criterion_crossentropy(outputs, y):\n",
    "    concepts, attentions, outputs, V = outputs\n",
    "    loss = nn.CrossEntropyLoss()(outputs, y) \n",
    "    return loss\n",
    "\n",
    "def train(net, trainloader, criterion, optimizer, print_every=10, epochs=2):\n",
    "\n",
    "    for epoch in range(epochs):  # loop over the dataset multiple times\n",
    "\n",
    "        running_loss = 0.0\n",
    "        for i, data in enumerate(trainloader, 0):\n",
    "            # get the inputs\n",
    "            inputs, labels = data\n",
    "\n",
    "            # zero the parameter gradients\n",
    "            optimizer.zero_grad()\n",
    "\n",
    "            # forward + backward + optimize\n",
    "            outputs = net(to_var(inputs))\n",
    "            loss = criterion(outputs, to_var(labels))\n",
    "            loss.backward()\n",
    "            optimizer.step()\n",
    "\n",
    "            # print statistics\n",
    "            running_loss += loss.data[0]\n",
    "            if i % print_every == (print_every-1): \n",
    "                print('[%d, %5d] loss: %.10f' %\n",
    "                      (epoch + 1, i + 1, running_loss / print_every))\n",
    "                running_loss = 0.0\n",
    "\n",
    "    print('Finished Training')\n",
    "\n",
    "def formatFloatList(l, decimal=5):\n",
    "    fstring = \"%%.%df\" % decimal\n",
    "    res = \", \".join([fstring % i for i in l])\n",
    "    return '[' + res + ']'\n",
    "\n",
    "def plotAttn(a_s, x, c):\n",
    "    for k, a in enumerate(a_s):\n",
    "        plt.figure(figsize=(10,10))\n",
    "        #plt.figure()\n",
    "        ax2=plt.subplot(1,2,2, aspect='equal', adjustable='box-forced')\n",
    "        sns.heatmap(c[k].data.numpy(), annot=True, fmt=\".1f\", vmin=0, vmax=1, cbar=False)\n",
    "        plt.title('concepts softmax')\n",
    "        \n",
    "        ax1 = plt.subplot(1,2,1, aspect='equal', adjustable='box-forced', sharex=ax2)#, sharey=ax2)\n",
    "        ax1.get_xaxis().set_visible(False)\n",
    "        plt.imshow(a.data.numpy(), vmin=0, vmax=1)\n",
    "        for (i, j), z in np.ndenumerate(x):\n",
    "            plt.gca().text(j, i, '{:d}'.format(z), ha='center', va='center', color='r')\n",
    "        plt.title('attention map %d' % k)\n",
    "        \n",
    "        #print(\"concepts:\", torch.max(c[k], 1)[1].data.numpy())\n",
    "        plt.show()\n",
    "    \n",
    "def show_acc(net, loader, name=\"\"):\n",
    "    correct = 0\n",
    "    total = 0\n",
    "\n",
    "    for data in loader:\n",
    "        x, y = data\n",
    "        x, y = to_var(x), to_var(y)\n",
    "        _, _, outputs, _ = net(x)\n",
    "        _, predicted = torch.max(outputs.data, 1)\n",
    "        total += y.size(0)\n",
    "        correct += (predicted == y.data).sum()\n",
    "\n",
    "    print('Accuracy of the network on %d %s images: %d %%' % (len(loader.sampler), name, 100 * correct / total))"
   ]
  },
  {
   "cell_type": "code",
   "execution_count": 307,
   "metadata": {},
   "outputs": [],
   "source": [
    "net = Island(num_class=2, max_obj=max_obj, w=w, h=h)\n",
    "concepts, attn_weights, o, V = net(to_var(x))    "
   ]
  },
  {
   "cell_type": "code",
   "execution_count": 308,
   "metadata": {
    "scrolled": true
   },
   "outputs": [
    {
     "name": "stdout",
     "output_type": "stream",
     "text": [
      "[1,   100] loss: 0.7039335102\n",
      "[1,   200] loss: 0.6717050695\n",
      "[2,   100] loss: 0.5163158038\n",
      "[2,   200] loss: 0.2935130680\n",
      "[3,   100] loss: 0.1988237984\n",
      "[3,   200] loss: 0.1667022406\n",
      "[4,   100] loss: 0.1311290351\n",
      "[4,   200] loss: 0.1150407853\n",
      "[5,   100] loss: 0.0946024955\n",
      "[5,   200] loss: 0.0848615810\n",
      "[6,   100] loss: 0.0716269880\n",
      "[6,   200] loss: 0.0651748717\n",
      "[7,   100] loss: 0.0560044838\n",
      "[7,   200] loss: 0.0514803455\n",
      "[8,   100] loss: 0.0448253796\n",
      "[8,   200] loss: 0.0415210498\n",
      "[9,   100] loss: 0.0365228223\n",
      "[9,   200] loss: 0.0340330668\n",
      "[10,   100] loss: 0.0301774988\n",
      "[10,   200] loss: 0.0282545376\n",
      "Finished Training\n"
     ]
    }
   ],
   "source": [
    "criterion = criterion_crossentropy\n",
    "optimizer = optim.Adam(net.parameters())\n",
    "train(net, trainloader, criterion, optimizer, print_every=100, epochs=10)"
   ]
  },
  {
   "cell_type": "code",
   "execution_count": 309,
   "metadata": {},
   "outputs": [
    {
     "name": "stdout",
     "output_type": "stream",
     "text": [
      "Accuracy of the network on 2000 test images: 100 %\n",
      "Accuracy of the network on 8000 train images: 100 %\n"
     ]
    }
   ],
   "source": [
    "show_acc(net, testloader, 'test')\n",
    "show_acc(net, trainloader, 'train')"
   ]
  },
  {
   "cell_type": "code",
   "execution_count": 378,
   "metadata": {},
   "outputs": [
    {
     "name": "stdout",
     "output_type": "stream",
     "text": [
      "weight: [-0.18, -3.82, -0.77, 3.38]\n"
     ]
    },
    {
     "data": {
      "image/png": "[encoded data removed]",
      "text/plain": [
       "<matplotlib.figure.Figure at 0x7f42b426eb70>"
      ]
     },
     "metadata": {},
     "output_type": "display_data"
    },
    {
     "name": "stdout",
     "output_type": "stream",
     "text": [
      "output 0: [0.03, 0.97]\n",
      "output 1: [0.03, 0.97]\n",
      "output 2: [0.98, 0.02]\n",
      "output 3: [0.98, 0.02]\n",
      "output 4: [0.03, 0.97]\n",
      "output 5: [0.98, 0.02]\n",
      "output 6: [0.98, 0.02]\n",
      "output 7: [0.98, 0.02]\n"
     ]
    }
   ],
   "source": [
    "x1 = torch.LongTensor([[1,0,0,0,0,0,0,0,0],\n",
    "                       [2,0,0,0,0,0,0,0,0],\n",
    "                       [3,0,0,0,0,0,0,0,0],\n",
    "                       [0,0,0,0,0,0,0,0,0],\n",
    "                       [1,2,0,0,0,0,0,0,0],\n",
    "                       [1,3,0,0,0,0,0,0,0],\n",
    "                       [2,3,0,0,0,0,0,0,0],\n",
    "                       [1,2,3,0,0,0,0,0,0]])\n",
    "\n",
    "c, a, o, v = net(to_var(x1))\n",
    "W = net.classifier.weight\n",
    "\n",
    "weight = (W[1] - W[0]).data.numpy()\n",
    "print('weight:', formatFloatList(weight,2))\n",
    "plotAttn(a, x1, c)\n",
    "for i, r in enumerate(net.sm(o).data.numpy()):\n",
    "    print('output %d:' % i, formatFloatList(r, 2))\n"
   ]
  },
  {
   "cell_type": "markdown",
   "metadata": {},
   "source": [
    "# 2 attention heads"
   ]
  },
  {
   "cell_type": "code",
   "execution_count": 68,
   "metadata": {},
   "outputs": [],
   "source": [
    "net2 = Island(num_class=2, max_obj=max_obj, w=w, h=h, num_head=2)\n",
    "concepts, attn_weights, o, v = net2(to_var(x))"
   ]
  },
  {
   "cell_type": "code",
   "execution_count": 69,
   "metadata": {},
   "outputs": [
    {
     "name": "stdout",
     "output_type": "stream",
     "text": [
      "[1,   100] loss: 0.7512523633\n",
      "[1,   200] loss: 0.6676279795\n",
      "[2,   100] loss: 0.4409058568\n",
      "[2,   200] loss: 0.2011030808\n",
      "[3,   100] loss: 0.1069216533\n",
      "[3,   200] loss: 0.0810727461\n",
      "[4,   100] loss: 0.0583447956\n",
      "[4,   200] loss: 0.0484185069\n",
      "[5,   100] loss: 0.0378682734\n",
      "[5,   200] loss: 0.0327093891\n",
      "[6,   100] loss: 0.0267408696\n",
      "[6,   200] loss: 0.0236523376\n",
      "[7,   100] loss: 0.0198896001\n",
      "[7,   200] loss: 0.0178735854\n",
      "[8,   100] loss: 0.0153280504\n",
      "[8,   200] loss: 0.0139317121\n",
      "[9,   100] loss: 0.0121210679\n",
      "[9,   200] loss: 0.0111109923\n",
      "[10,   100] loss: 0.0097738076\n",
      "[10,   200] loss: 0.0090184441\n",
      "Finished Training\n"
     ]
    }
   ],
   "source": [
    "criterion = criterion_crossentropy\n",
    "optimizer2 = optim.Adam(net2.parameters())\n",
    "\n",
    "train(net2, trainloader, criterion, optimizer2, print_every=100, epochs=10)"
   ]
  },
  {
   "cell_type": "code",
   "execution_count": 70,
   "metadata": {},
   "outputs": [
    {
     "name": "stdout",
     "output_type": "stream",
     "text": [
      "Accuracy of the network on 2000 test images: 100 %\n",
      "Accuracy of the network on 8000 train images: 100 %\n"
     ]
    }
   ],
   "source": [
    "show_acc(net2, testloader, 'test')\n",
    "show_acc(net2, trainloader, 'train')"
   ]
  },
  {
   "cell_type": "code",
   "execution_count": 377,
   "metadata": {},
   "outputs": [
    {
     "name": "stdout",
     "output_type": "stream",
     "text": [
      "weight: [-0.41, -2.33, -0.19, 2.45]\n"
     ]
    },
    {
     "data": {
      "image/png": "[encoded data removed]",
      "text/plain": [
       "<matplotlib.figure.Figure at 0x7f42b426ecf8>"
      ]
     },
     "metadata": {},
     "output_type": "display_data"
    },
    {
     "data": {
      "image/png": "[encoded data removed]",
      "text/plain": [
       "<matplotlib.figure.Figure at 0x7f42bb1471d0>"
      ]
     },
     "metadata": {},
     "output_type": "display_data"
    },
    {
     "name": "stdout",
     "output_type": "stream",
     "text": [
      "output 0: [0.01, 0.99]\n",
      "output 1: [0.01, 0.99]\n",
      "output 2: [0.99, 0.01]\n",
      "output 3: [0.99, 0.01]\n",
      "output 4: [0.01, 0.99]\n",
      "output 5: [0.99, 0.01]\n",
      "output 6: [0.99, 0.01]\n",
      "output 7: [0.99, 0.01]\n"
     ]
    }
   ],
   "source": [
    "x1 = torch.LongTensor([[1,0,0,0,0,0,0,0,0],\n",
    "                       [2,0,0,0,0,0,0,0,0],\n",
    "                       [3,0,0,0,0,0,0,0,0],\n",
    "                       [0,0,0,0,0,0,0,0,0],\n",
    "                       [1,2,0,0,0,0,0,0,0],\n",
    "                       [1,3,0,0,0,0,0,0,0],\n",
    "                       [2,3,0,0,0,0,0,0,0],\n",
    "                       [1,2,3,0,0,0,0,0,0]])\n",
    "\n",
    "c, a, o, v = net2(to_var(x1))\n",
    "W = net2.classifier.weight\n",
    "\n",
    "weight = (W[1] - W[0]).data.numpy()\n",
    "print('weight:', formatFloatList(weight,2))\n",
    "plotAttn(a, x1, c)\n",
    "for i, r in enumerate(net.sm(o).data.numpy()):\n",
    "    print('output %d:' % i, formatFloatList(r, 2))\n"
   ]
  },
  {
   "cell_type": "markdown",
   "metadata": {},
   "source": [
    "# train with multiple objective: fix attention to concept association"
   ]
  },
  {
   "cell_type": "code",
   "execution_count": 438,
   "metadata": {},
   "outputs": [
    {
     "data": {
      "image/png": "[encoded data removed]",
      "text/plain": [
       "<matplotlib.figure.Figure at 0x7f42b42eac50>"
      ]
     },
     "metadata": {},
     "output_type": "display_data"
    },
    {
     "data": {
      "text/plain": [
       "[Variable containing:\n",
       "  1.1146e-02  1.4821e-02  9.4837e-03  9.6455e-01\n",
       "  1.1024e-04  6.7259e-05  3.4432e-05  9.9979e-01\n",
       "  7.9888e-05  4.6876e-05  2.3216e-05  9.9985e-01\n",
       "  1.0699e-04  9.9968e-01  2.0375e-04  6.2288e-06\n",
       "  1.2131e-04  9.9964e-01  2.3112e-04  7.3894e-06\n",
       "  2.3940e-02  9.1258e-01  3.7249e-02  2.6232e-02\n",
       " [torch.FloatTensor of size 6x4]]"
      ]
     },
     "execution_count": 438,
     "metadata": {},
     "output_type": "execute_result"
    }
   ],
   "source": [
    "c, a, o, v = net(to_var(x1))\n",
    "plotAttn(a, x1, c)\n",
    "c"
   ]
  },
  {
   "cell_type": "markdown",
   "metadata": {},
   "source": [
    "## A documentation of the concept loss below\n",
    "\n",
    "0. data_loss\n",
    "1. concept_classification_loss\n",
    "2. weight_decay\n",
    "\n",
    "1.1 max_attn_concept\n",
    "\n",
    "Force the detected concept towards the maximum attention concept in image annotation.\n",
    "- Attention could be too large that the maximum attn concept is not the true target\n",
    "\n",
    "1.2 max_attn_concept_pixel\n",
    "\n",
    "Similar to 1.1, but opens a new channel and penalyze the concept detected only using the maximum detection concept bounding box, thus avoiding problem in 1.1\n",
    "\n",
    "1.3 not_in_attention\n",
    "\n",
    "prevent the network from reporting concepts not in attention by finding objects in region with attention >= median sample attention and penalyze concept activation for those not in the set of objects\n",
    "\n",
    "2.1 weighted_l2_decay\n",
    "\n",
    "penalyze last layer weight with weighted l2\n",
    "\n",
    "2.2 weighted_concept_decay\n",
    "\n",
    "penalyze last layer input to not activate for certain concepts\n",
    "- in conflict with objective 1.3\n",
    "\n",
    "criteria_name | data_loss (0) | max_attn_concept (1.1) | max_attn_concept_pixel (1.2) | not_in_attention (1.3) | weighted_l2_decay (2.1) | weighted_concept_decay (2.2)\n",
    "---|---|---|---|---\n",
    "criterion_cross_entropy|1|0|0|0|0|0\n",
    "mode0|1|1|0|0|0|0\n",
    "mode1|1|0|1|0|1|0\n",
    "mode2|1|0|1|0|0|1\n",
    "mode3|1|0|1|1|0|1\n",
    "mode4|1|0|1|1|1|0\n",
    "\n",
    "My recommendation is to use mode 4\n",
    "\n"
   ]
  },
  {
   "cell_type": "code",
   "execution_count": 11,
   "metadata": {},
   "outputs": [],
   "source": [
    "def ConceptLoss(weight=1, mode=4, risk_factor=None):\n",
    "    '''weight: weight to differnt losses, if 1 means all equal'''\n",
    "    \n",
    "    def criterion_concept0(net, x, outputs, y): # doesn't make concept detector work with overall goal\n",
    "        concepts, attentions, outputs, v = outputs\n",
    "        losses = []\n",
    "        losses.append(nn.CrossEntropyLoss()(outputs, y))  # dataloss\n",
    "        # use attention to determine concepts\n",
    "        for c, a in zip(concepts, attentions):\n",
    "            # take the max of attention and see what's there\n",
    "            _, m = torch.max(a, dim=1)\n",
    "            real_c = x[torch.arange(len(m)).long(), m.data]\n",
    "            losses.append(nn.CrossEntropyLoss()(c, real_c))\n",
    "        if weight == 1:\n",
    "            return losses\n",
    "        else:\n",
    "            assert len(weight) == len(losses)\n",
    "            return [w * l for w, l in zip(weight, losses)]\n",
    "\n",
    "    def criterion_concept1(net, x, outputs, y): # add in attention to concept loss\n",
    "        concepts, attentions, outputs, v = outputs\n",
    "        losses = []\n",
    "        losses.append(nn.CrossEntropyLoss()(outputs, y))  # dataloss\n",
    "        # use attention to determine concepts\n",
    "        for c, a in zip(concepts, attentions):\n",
    "            # take the max of attention and see what's there\n",
    "            _, m = torch.max(a, dim=1)\n",
    "            real_c = x[torch.arange(len(m)).long(), m.data]\n",
    "            # penalyze the real bounding box bounded concept: v: bs x 9 x hidden_size\n",
    "            #                                                 a: bs x 1 x 9\n",
    "            bs, ndigits = a.shape\n",
    "            newa = torch.zeros(bs, ndigits)\n",
    "            newa[torch.arange(len(m)).long(), m.data] = 1\n",
    "            newa = to_var(newa.unsqueeze(1))\n",
    "            \n",
    "            value = torch.matmul(newa, v).squeeze(1)\n",
    "            c = net.concept_classifier(value)\n",
    "\n",
    "            losses.append(nn.CrossEntropyLoss()(c, real_c))\n",
    "            \n",
    "        if risk_factor is not None:\n",
    "            W = net.classifier.weight\n",
    "            losses.append(sum((W[1] - W[0])**2 * risk_factor))\n",
    "            \n",
    "        if weight == 1:\n",
    "            return losses\n",
    "        else:\n",
    "            assert len(weight) == len(losses)\n",
    "            return [w * l for w, l in zip(weight, losses)]\n",
    "        \n",
    "    def criterion_concept2(net, x, outputs, y): # constrain risk factor with less attention\n",
    "        concepts, attentions, outputs, v = outputs\n",
    "        losses = []\n",
    "        losses.append(nn.CrossEntropyLoss()(outputs, y))  # dataloss\n",
    "        # use attention to determine concepts\n",
    "        for c, a in zip(concepts, attentions):\n",
    "            # take the max of attention and see what's there\n",
    "            _, m = torch.max(a, dim=1)\n",
    "            real_c = x[torch.arange(len(m)).long(), m.data]\n",
    "            # penalyze the real bounding box bounded concept: v: bs x 9 x hidden_size\n",
    "            #                                                 a: bs x 1 x 9\n",
    "            bs, ndigits = a.shape\n",
    "            newa = torch.zeros(bs, ndigits)\n",
    "            newa[torch.arange(len(m)).long(), m.data] = 1\n",
    "            newa = to_var(newa.unsqueeze(1))\n",
    "            \n",
    "            value = torch.matmul(newa, v).squeeze(1)\n",
    "            c_ = net.concept_classifier(value)\n",
    "\n",
    "            losses.append(nn.CrossEntropyLoss()(c_, real_c))\n",
    "            \n",
    "        if risk_factor is not None:\n",
    "            losses.append(torch.sum(sum(concepts) * risk_factor))\n",
    "            \n",
    "        if weight == 1:\n",
    "            return losses\n",
    "        else:\n",
    "            assert len(weight) == len(losses)\n",
    "            return [w * l for w, l in zip(weight, losses)]\n",
    "\n",
    "\n",
    "    def criterion_concept3(net, x, outputs, y): # constrain attention leads to concept not in attention\n",
    "        concepts, attentions, outputs, v = outputs\n",
    "        losses = []\n",
    "        losses.append(nn.CrossEntropyLoss()(outputs, y))  # dataloss\n",
    "        # use attention to determine concepts\n",
    "        for c, a in zip(concepts, attentions):\n",
    "            # todo: form a mask m on c based on attention over median in each example\n",
    "            mask_a = a.ge(torch.median(a, dim=1)[0].unsqueeze(1))\n",
    "            # find out what's not there\n",
    "            mask_c = torch.ones_like(c)\n",
    "            maska_selected = (x+1) * mask_a.long() - 1\n",
    "\n",
    "            for i, r in enumerate(maska_selected.data):\n",
    "                for j in set(r):\n",
    "                    if j != -1:\n",
    "                        mask_c[i, j] = 0\n",
    "            losses.append(torch.sum(mask_c * c))\n",
    "            \n",
    "            # take the max of attention and see what's there\n",
    "            _, m = torch.max(a, dim=1)\n",
    "            real_c = x[torch.arange(len(m)).long(), m.data]\n",
    "            # penalyze the real bounding box bounded concept: v: bs x 9 x hidden_size\n",
    "            #                                                 a: bs x 1 x 9\n",
    "            bs, ndigits = a.shape\n",
    "            newa = torch.zeros(bs, ndigits)\n",
    "            newa[torch.arange(len(m)).long(), m.data] = 1\n",
    "            newa = to_var(newa.unsqueeze(1))\n",
    "            \n",
    "            value = torch.matmul(newa, v).squeeze(1)\n",
    "            c_ = net.concept_classifier(value)\n",
    "\n",
    "            losses.append(nn.CrossEntropyLoss()(c_, real_c))\n",
    "            \n",
    "        if risk_factor is not None:\n",
    "            losses.append(torch.sum(sum(concepts) * risk_factor))\n",
    "            \n",
    "        if weight == 1:\n",
    "            return losses\n",
    "        else:\n",
    "            assert len(weight) == len(losses)\n",
    "            return [w * l for w, l in zip(weight, losses)]\n",
    "\n",
    "    def criterion_concept4(net, x, outputs, y): # concept3 with penalyze W instead of activation of concept\n",
    "        concepts, attentions, outputs, v = outputs\n",
    "        losses = []\n",
    "        losses.append(nn.CrossEntropyLoss()(outputs, y))  # dataloss\n",
    "        # use attention to determine concepts\n",
    "        for c, a in zip(concepts, attentions):\n",
    "            # todo: form a mask m on c based on attention over median in each example\n",
    "            mask_a = a.ge(torch.median(a, dim=1)[0].unsqueeze(1))\n",
    "            # find out what's not there\n",
    "            mask_c = torch.ones_like(c)\n",
    "            maska_selected = (x+1) * mask_a.long() - 1\n",
    "\n",
    "            for i, r in enumerate(maska_selected.data):\n",
    "                for j in set(r):\n",
    "                    if j != -1:\n",
    "                        mask_c[i, j] = 0\n",
    "            losses.append(torch.sum(mask_c * c))\n",
    "            \n",
    "            # take the max of attention and see what's there\n",
    "            _, m = torch.max(a, dim=1)\n",
    "            real_c = x[torch.arange(len(m)).long(), m.data]\n",
    "            # penalyze the real bounding box bounded concept: v: bs x 9 x hidden_size\n",
    "            #                                                 a: bs x 1 x 9\n",
    "            bs, ndigits = a.shape\n",
    "            newa = torch.zeros(bs, ndigits)\n",
    "            newa[torch.arange(len(m)).long(), m.data] = 1\n",
    "            newa = to_var(newa.unsqueeze(1))\n",
    "            \n",
    "            value = torch.matmul(newa, v).squeeze(1)\n",
    "            c_ = net.concept_classifier(value)\n",
    "\n",
    "            losses.append(nn.CrossEntropyLoss()(c_, real_c))\n",
    "            \n",
    "        if risk_factor is not None:\n",
    "            W = net.classifier.weight\n",
    "            losses.append(sum((W[1] - W[0])**2 * risk_factor))\n",
    "            \n",
    "        if weight == 1:\n",
    "            return losses\n",
    "        else:\n",
    "            assert len(weight) == len(losses)\n",
    "            return [w * l for w, l in zip(weight, losses)]\n",
    "\n",
    "    mode_changer = [criterion_concept0, criterion_concept1, criterion_concept2, \n",
    "                    criterion_concept3, criterion_concept4]\n",
    "    return mode_changer[mode]\n",
    "\n",
    "def train3(net, trainloader, criterion, optimizer, print_every=10, epochs=2):\n",
    "\n",
    "    for epoch in range(epochs):  # loop over the dataset multiple times\n",
    "\n",
    "        running_loss = []\n",
    "        for i, data in enumerate(trainloader, 0):\n",
    "            # get the inputs\n",
    "            inputs, labels = data\n",
    "            inputs, labels = to_var(inputs), to_var(labels)\n",
    "\n",
    "            # zero the parameter gradients\n",
    "            optimizer.zero_grad()\n",
    "\n",
    "            # forward + backward + optimize\n",
    "            outputs = net(inputs)\n",
    "            losses = criterion(net, inputs, outputs, labels)\n",
    "            sum(losses).backward()\n",
    "            optimizer.step()\n",
    "\n",
    "            # print statistics\n",
    "            if len(running_loss) != len(losses):\n",
    "                running_loss = np.zeros(len(losses))\n",
    "            running_loss += np.array(list(map(lambda loss: loss.data[0], losses)))\n",
    "            if i % print_every == (print_every-1): \n",
    "                print('[%d, %5d] losses: %s' %\n",
    "                      (epoch + 1, i + 1, formatFloatList(running_loss / print_every)))\n",
    "                running_loss = []\n",
    "\n",
    "    print('Finished Training')\n"
   ]
  },
  {
   "cell_type": "code",
   "execution_count": 88,
   "metadata": {},
   "outputs": [],
   "source": [
    "net3 = Island(num_class=2, max_obj=max_obj, w=w, h=h, num_head=1)"
   ]
  },
  {
   "cell_type": "code",
   "execution_count": 89,
   "metadata": {},
   "outputs": [
    {
     "name": "stdout",
     "output_type": "stream",
     "text": [
      "[1,   100] losses: [0.66406, 0.09805]\n",
      "[1,   200] losses: [0.66209, 0.11972]\n",
      "[2,   100] losses: [0.62428, 0.08003]\n",
      "[2,   200] losses: [0.53533, 0.06338]\n",
      "[3,   100] losses: [0.44233, 0.04819]\n",
      "[3,   200] losses: [0.41043, 0.02815]\n",
      "[4,   100] losses: [0.29900, 0.00747]\n",
      "[4,   200] losses: [0.21379, 0.00208]\n",
      "[5,   100] losses: [0.15864, 0.00129]\n",
      "[5,   200] losses: [0.12990, 0.00245]\n",
      "[6,   100] losses: [0.10021, 0.00797]\n",
      "[6,   200] losses: [0.08693, 0.00833]\n",
      "[7,   100] losses: [0.07577, 0.00698]\n",
      "[7,   200] losses: [0.06807, 0.00589]\n",
      "[8,   100] losses: [0.06091, 0.00392]\n",
      "[8,   200] losses: [0.05513, 0.00305]\n",
      "[9,   100] losses: [0.04960, 0.00192]\n",
      "[9,   200] losses: [0.04503, 0.00132]\n",
      "[10,   100] losses: [0.04054, 0.00076]\n",
      "[10,   200] losses: [0.03685, 0.00051]\n",
      "Finished Training\n"
     ]
    }
   ],
   "source": [
    "criterion3 = ConceptLoss(weight=[1, 0.1], mode=1)\n",
    "optimizer3 = optim.Adam(net3.parameters())\n",
    "\n",
    "train3(net3, trainloader, criterion3, optimizer3, print_every=100, epochs=10)"
   ]
  },
  {
   "cell_type": "code",
   "execution_count": 225,
   "metadata": {},
   "outputs": [
    {
     "name": "stdout",
     "output_type": "stream",
     "text": [
      "Accuracy of the network on 2000 test images: 100 %\n",
      "Accuracy of the network on 8000 train images: 100 %\n"
     ]
    }
   ],
   "source": [
    "show_acc(net3, testloader, 'test')\n",
    "show_acc(net3, trainloader, 'train')"
   ]
  },
  {
   "cell_type": "code",
   "execution_count": 376,
   "metadata": {},
   "outputs": [
    {
     "name": "stdout",
     "output_type": "stream",
     "text": [
      "weight: [-3.72, 3.52, 2.29, -0.31]\n"
     ]
    },
    {
     "data": {
      "image/png": "[encoded data removed]",
      "text/plain": [
       "<matplotlib.figure.Figure at 0x7f42bafdff60>"
      ]
     },
     "metadata": {},
     "output_type": "display_data"
    },
    {
     "name": "stdout",
     "output_type": "stream",
     "text": [
      "output 0: [0.03, 0.97]\n",
      "output 1: [0.08, 0.92]\n",
      "output 2: [0.97, 0.03]\n",
      "output 3: [0.97, 0.03]\n",
      "output 4: [0.03, 0.97]\n",
      "output 5: [0.97, 0.03]\n",
      "output 6: [0.97, 0.03]\n",
      "output 7: [0.97, 0.03]\n"
     ]
    }
   ],
   "source": [
    "x1 = torch.LongTensor([[1,0,0,0,0,0,0,0,0],\n",
    "                       [2,0,0,0,0,0,0,0,0],\n",
    "                       [3,0,0,0,0,0,0,0,0],\n",
    "                       [0,0,0,0,0,0,0,0,0],\n",
    "                       [1,2,0,0,0,0,0,0,0],\n",
    "                       [1,3,0,0,0,0,0,0,0],\n",
    "                       [2,3,0,0,0,0,0,0,0],\n",
    "                       [1,2,3,0,0,0,0,0,0]])\n",
    "\n",
    "c, a, o, v = net3(to_var(x1))\n",
    "W = net3.classifier.weight\n",
    "\n",
    "weight = (W[1] - W[0]).data.numpy()\n",
    "print('weight:', formatFloatList(weight,2))\n",
    "plotAttn(a, x1, c)\n",
    "for i, r in enumerate(net.sm(o).data.numpy()):\n",
    "    print('output %d:' % i, formatFloatList(r, 2))\n"
   ]
  },
  {
   "cell_type": "code",
   "execution_count": 230,
   "metadata": {},
   "outputs": [
    {
     "name": "stdout",
     "output_type": "stream",
     "text": [
      "weight: [-3.72, 3.52, 2.29, -0.31]\n"
     ]
    },
    {
     "data": {
      "image/png": "[encoded data removed]",
      "text/plain": [
       "<matplotlib.figure.Figure at 0x7f42b42b99e8>"
      ]
     },
     "metadata": {},
     "output_type": "display_data"
    },
    {
     "name": "stdout",
     "output_type": "stream",
     "text": [
      "output 0: [0.03, 0.97]\n",
      "weight: [-3.72, 3.52, 2.29, -0.31]\n"
     ]
    },
    {
     "data": {
      "image/png": "[encoded data removed]",
      "text/plain": [
       "<matplotlib.figure.Figure at 0x7f42b42b9eb8>"
      ]
     },
     "metadata": {},
     "output_type": "display_data"
    },
    {
     "name": "stdout",
     "output_type": "stream",
     "text": [
      "output 0: [0.97, 0.03]\n",
      "weight: [-3.72, 3.52, 2.29, -0.31]\n"
     ]
    },
    {
     "data": {
      "image/png": "[encoded data removed]",
      "text/plain": [
       "<matplotlib.figure.Figure at 0x7f42bacfe6a0>"
      ]
     },
     "metadata": {},
     "output_type": "display_data"
    },
    {
     "name": "stdout",
     "output_type": "stream",
     "text": [
      "output 0: [0.97, 0.03]\n"
     ]
    }
   ],
   "source": [
    "x1 = torch.LongTensor([1,0,0,0,0,0,0,0,0])\n",
    "x1 = x1.unsqueeze(0)\n",
    "c, a, o, v = net3(to_var(x1))\n",
    "\n",
    "weight = (W[1] - W[0]).data.numpy()\n",
    "print('weight:', formatFloatList(weight,2))\n",
    "plotAttn(a, x1, c)\n",
    "for i, r in enumerate(net.sm(o).data.numpy()):\n",
    "    print('output %d:' % i, formatFloatList(r, 2))\n",
    "\n",
    "############################################\n",
    "x1 = torch.LongTensor([1,1,0,0,0,0,0,0,0])\n",
    "x1 = x1.unsqueeze(0)\n",
    "c, a, o, v = net3(to_var(x1))\n",
    "\n",
    "weight = (W[1] - W[0]).data.numpy()\n",
    "print('weight:', formatFloatList(weight,2))\n",
    "plotAttn(a, x1, c)\n",
    "for i, r in enumerate(net.sm(o).data.numpy()):\n",
    "    print('output %d:' % i, formatFloatList(r, 2))\n",
    "    \n",
    "############################################\n",
    "x1 = torch.LongTensor([1,1,1,1,1,1,1,1,0])\n",
    "x1 = x1.unsqueeze(0)\n",
    "c, a, o, v = net3(to_var(x1))\n",
    "\n",
    "weight = (W[1] - W[0]).data.numpy()\n",
    "print('weight:', formatFloatList(weight,2))\n",
    "plotAttn(a, x1, c)\n",
    "for i, r in enumerate(net.sm(o).data.numpy()):\n",
    "    print('output %d:' % i, formatFloatList(r, 2))"
   ]
  },
  {
   "cell_type": "markdown",
   "metadata": {},
   "source": [
    "The above example shows that ISLAND's attention is really hard to predict. But it is still ok, I mean it's a perfectly fine interpretation. It just means the network thinks the example is negative because it sees 0 and 0 is in general negative.\n",
    "\n",
    "# fix wrong attention"
   ]
  },
  {
   "cell_type": "code",
   "execution_count": 482,
   "metadata": {},
   "outputs": [],
   "source": [
    "#net4 = copy.deepcopy(net3) # not really able to fix a wrong net3\n",
    "net4 = Island(num_class=2, max_obj=max_obj, w=w, h=h, num_head=1)"
   ]
  },
  {
   "cell_type": "code",
   "execution_count": 489,
   "metadata": {},
   "outputs": [
    {
     "name": "stdout",
     "output_type": "stream",
     "text": [
      "[1,   100] losses: [0.01176, 0.02540, 0.00537, 0.02887]\n",
      "[1,   200] losses: [0.01217, 0.01260, 0.00104, 0.03364]\n",
      "[2,   100] losses: [0.01218, 0.00591, 0.00044, 0.04074]\n",
      "[2,   200] losses: [0.01203, 0.00227, 0.00024, 0.03606]\n",
      "[3,   100] losses: [0.00936, 0.00054, 0.00015, 0.04162]\n",
      "[3,   200] losses: [0.00776, 0.00033, 0.00010, 0.03649]\n",
      "[4,   100] losses: [0.00623, 0.00024, 0.00007, 0.04187]\n",
      "[4,   200] losses: [0.00540, 0.00017, 0.00005, 0.03664]\n",
      "[5,   100] losses: [0.00458, 0.00014, 0.00004, 0.04196]\n",
      "[5,   200] losses: [0.00404, 0.00010, 0.00003, 0.03670]\n",
      "[6,   100] losses: [0.00353, 0.00009, 0.00003, 0.04201]\n",
      "[6,   200] losses: [0.00315, 0.00006, 0.00002, 0.03674]\n",
      "[7,   100] losses: [0.00281, 0.00006, 0.00002, 0.04204]\n",
      "[7,   200] losses: [0.00253, 0.00004, 0.00001, 0.03676]\n",
      "[8,   100] losses: [0.00228, 0.00004, 0.00001, 0.04206]\n",
      "[8,   200] losses: [0.00207, 0.00003, 0.00001, 0.03677]\n",
      "[9,   100] losses: [0.00188, 0.00003, 0.00001, 0.04207]\n",
      "[9,   200] losses: [0.00172, 0.00002, 0.00001, 0.03678]\n",
      "[10,   100] losses: [0.00157, 0.00002, 0.00001, 0.04208]\n",
      "[10,   200] losses: [0.00144, 0.00002, 0.00001, 0.03678]\n",
      "Finished Training\n"
     ]
    }
   ],
   "source": [
    "# data_loss, not link loss, link loss, risk_factor_loss\n",
    "criterion4 = ConceptLoss(weight=[1, 0.01, 0.1, 0.01], mode=3, risk_factor=to_var(torch.FloatTensor([1,1,0,0])))\n",
    "optimizer4 = optim.Adam(net4.parameters())\n",
    "\n",
    "train3(net4, trainloader, criterion4, optimizer4, print_every=100, epochs=10)"
   ]
  },
  {
   "cell_type": "code",
   "execution_count": 490,
   "metadata": {},
   "outputs": [
    {
     "name": "stdout",
     "output_type": "stream",
     "text": [
      "Accuracy of the network on 2000 test images: 100 %\n",
      "Accuracy of the network on 8000 train images: 100 %\n"
     ]
    }
   ],
   "source": [
    "show_acc(net4, testloader, 'test')\n",
    "show_acc(net4, trainloader, 'train')"
   ]
  },
  {
   "cell_type": "code",
   "execution_count": 491,
   "metadata": {},
   "outputs": [
    {
     "name": "stdout",
     "output_type": "stream",
     "text": [
      "weight: [-7.04, 3.87, 7.03, -9.14]\n"
     ]
    },
    {
     "data": {
      "image/png": "[encoded data removed]",
      "text/plain": [
       "<matplotlib.figure.Figure at 0x7f42bb0a43c8>"
      ]
     },
     "metadata": {},
     "output_type": "display_data"
    },
    {
     "name": "stdout",
     "output_type": "stream",
     "text": [
      "output 0: [0.01, 0.99]\n",
      "output 1: [0.00, 1.00]\n",
      "output 2: [1.00, 0.00]\n",
      "output 3: [1.00, 0.00]\n",
      "output 4: [0.00, 1.00]\n",
      "output 5: [1.00, 0.00]\n",
      "output 6: [1.00, 0.00]\n",
      "output 7: [1.00, 0.00]\n"
     ]
    }
   ],
   "source": [
    "x1 = torch.LongTensor([[1,0,0,0,0,0,0,0,0],\n",
    "                       [2,0,0,0,0,0,0,0,0],\n",
    "                       [3,0,0,0,0,0,0,0,0],\n",
    "                       [0,0,0,0,0,0,0,0,0],\n",
    "                       [1,2,0,0,0,0,0,0,0],\n",
    "                       [1,3,0,0,0,0,0,0,0],\n",
    "                       [2,3,0,0,0,0,0,0,0],\n",
    "                       [1,2,3,0,0,0,0,0,0]])\n",
    "\n",
    "c, a, o, v = net4(to_var(x1))\n",
    "W = net4.classifier.weight\n",
    "\n",
    "weight = (W[1] - W[0]).data.numpy()\n",
    "print('weight:', formatFloatList(weight,2))\n",
    "plotAttn(a, x1, c)\n",
    "for i, r in enumerate(net.sm(o).data.numpy()):\n",
    "    print('output %d:' % i, formatFloatList(r, 2))\n"
   ]
  },
  {
   "cell_type": "markdown",
   "metadata": {},
   "source": [
    "summary:\n",
    "\n",
    "Good regularization saves the day. In this case, we have data loss, attention to concept link loss (make sure concept matches attention), and attention risk factor loss (penalyze background noise attention).\n",
    "\n",
    "Although this is a very small toy set (in fact, since our attention ignores spatial order, there are only 8 cases to consider), I think the result is encouraging."
   ]
  },
  {
   "cell_type": "markdown",
   "metadata": {},
   "source": [
    "# Recreate the wolf (2) v.s. snow (1) v.s. dog (3) with background (0) problem\n",
    "\n",
    "The basic setup is wolf (2) has background with snow (1) and noise (0), dog (3) only have regular background (0), the classification task is to find if there is a wolf:\n",
    "\n",
    "y = 0 x background + 0 x snow + 1 x wolf + 0 x dog"
   ]
  },
  {
   "cell_type": "code",
   "execution_count": 12,
   "metadata": {},
   "outputs": [],
   "source": [
    "def fillWolfBoard(b):\n",
    "    '''\n",
    "    constraints:\n",
    "    1. only have 1 wolf or 1 dog, not both\n",
    "    2. whenever there is a wolf, there is 20% - 80% snow\n",
    "    '''\n",
    "    b.board = b.board.ravel()\n",
    "    exist = []\n",
    "    # decide is wolf or dog\n",
    "    if np.random.random() > 0.5:\n",
    "        exist.append(2) # wolf\n",
    "        left = b.w * b.h - 1\n",
    "        n_snows = np.random.choice(range(math.ceil(left * 0.2), math.floor(left * 0.8)))\n",
    "        exist.extend([1] * n_snows)\n",
    "    else:\n",
    "        exist.append(3) # dog\n",
    "        \n",
    "    exist.extend([0] * (b.w*b.h-len(exist)))\n",
    "    exist = np.random.permutation(exist)\n",
    "    b.board = np.array(exist)\n",
    "        \n",
    "    b.board = b.board.reshape(b.w, b.h)     "
   ]
  },
  {
   "cell_type": "code",
   "execution_count": 32,
   "metadata": {},
   "outputs": [
    {
     "name": "stdout",
     "output_type": "stream",
     "text": [
      "[0, 0, 0]\n",
      "[0, 0, D]\n",
      "[0, 0, 0]\n",
      "\n"
     ]
    }
   ],
   "source": [
    "w, h = 3, 3\n",
    "max_obj = 3\n",
    "b = Board(max_obj, w, h, ['0', 'S', 'W', 'D'])\n",
    "fillWolfBoard(b)\n",
    "#print(b.to_input().reshape(h, w))\n",
    "print(b)"
   ]
  },
  {
   "cell_type": "code",
   "execution_count": 14,
   "metadata": {},
   "outputs": [],
   "source": [
    "wolf_data = BoardDataset(10000, weight=[0, 0, 1, 0], fillBoard=fillWolfBoard)\n",
    "wolf_dataloader = DataLoader(wolf_data, batch_size=10, \n",
    "                              sampler=SubsetRandomSampler(train_subset),\n",
    "                              num_workers=1)\n",
    "\n",
    "x, y = next(iter(wolf_dataloader))"
   ]
  },
  {
   "cell_type": "code",
   "execution_count": 15,
   "metadata": {},
   "outputs": [],
   "source": [
    "trainloader_wolf = DataLoader(wolf_data, batch_size=32, \n",
    "                         sampler=SubsetRandomSampler(train_subset),\n",
    "                         num_workers=1)\n",
    "testloader_wolf = DataLoader(wolf_data, batch_size=32, \n",
    "                        sampler=SubsetRandomSampler(test_subset),\n",
    "                        num_workers=1)\n"
   ]
  },
  {
   "cell_type": "code",
   "execution_count": 24,
   "metadata": {},
   "outputs": [],
   "source": [
    "net_wolf = Island(num_class=2, max_obj=max_obj, w=w, h=h, num_head=1)"
   ]
  },
  {
   "cell_type": "code",
   "execution_count": 25,
   "metadata": {},
   "outputs": [
    {
     "name": "stdout",
     "output_type": "stream",
     "text": [
      "[1,   100] losses: [0.70091, 0.16899, 0.11911, 0.00110]\n",
      "[1,   200] losses: [0.69985, 0.10737, 0.06905, 0.00065]\n",
      "[2,   100] losses: [0.51333, 0.00599, 0.00317, 0.00089]\n",
      "[2,   200] losses: [0.41372, 0.00140, 0.00068, 0.00056]\n",
      "[3,   100] losses: [0.31912, 0.00046, 0.00022, 0.00022]\n",
      "[3,   200] losses: [0.27427, 0.00028, 0.00013, 0.00011]\n",
      "[4,   100] losses: [0.22298, 0.00016, 0.00007, 0.00003]\n",
      "[4,   200] losses: [0.19634, 0.00012, 0.00005, 0.00001]\n",
      "[5,   100] losses: [0.16428, 0.00008, 0.00004, 0.00000]\n",
      "[5,   200] losses: [0.14694, 0.00007, 0.00003, 0.00000]\n",
      "[6,   100] losses: [0.12545, 0.00005, 0.00002, 0.00000]\n",
      "[6,   200] losses: [0.11352, 0.00004, 0.00002, 0.00000]\n",
      "[7,   100] losses: [0.09840, 0.00003, 0.00002, 0.00000]\n",
      "[7,   200] losses: [0.08984, 0.00003, 0.00001, 0.00000]\n",
      "[8,   100] losses: [0.07881, 0.00003, 0.00001, 0.00000]\n",
      "[8,   200] losses: [0.07247, 0.00002, 0.00001, 0.00000]\n",
      "[9,   100] losses: [0.06418, 0.00002, 0.00001, 0.00000]\n",
      "[9,   200] losses: [0.05935, 0.00002, 0.00001, 0.00000]\n",
      "[10,   100] losses: [0.05296, 0.00001, 0.00001, 0.00000]\n",
      "[10,   200] losses: [0.04920, 0.00001, 0.00001, 0.00000]\n",
      "Finished Training\n"
     ]
    }
   ],
   "source": [
    "# data_loss, not link loss, link loss, risk_factor_loss\n",
    "criterion_wolf = ConceptLoss(weight=[1, 0.01, 0.1, 0.01], mode=4, \n",
    "                             risk_factor=to_var(torch.FloatTensor([1,1,0,0])))\n",
    "optimizer_wolf = optim.Adam(net_wolf.parameters())\n",
    "\n",
    "train3(net_wolf, trainloader_wolf, criterion_wolf, optimizer_wolf, print_every=100, epochs=10)"
   ]
  },
  {
   "cell_type": "code",
   "execution_count": null,
   "metadata": {},
   "outputs": [
    {
     "name": "stdout",
     "output_type": "stream",
     "text": [
      "Accuracy of the network on 2000 test images: 100 %\n"
     ]
    }
   ],
   "source": [
    "show_acc(net_wolf, testloader_wolf, 'test')\n",
    "show_acc(net_wolf, trainloader_wolf, 'train')"
   ]
  },
  {
   "cell_type": "code",
   "execution_count": null,
   "metadata": {},
   "outputs": [],
   "source": [
    "x1 = x\n",
    "c, a, o, v = net_wolf(to_var(x1))\n",
    "W = net_wolf.classifier.weight\n",
    "\n",
    "weight = (W[1] - W[0]).data.numpy()\n",
    "print('weight:', formatFloatList(weight,2))\n",
    "plotAttn(a, x1, c)"
   ]
  },
  {
   "cell_type": "markdown",
   "metadata": {},
   "source": [
    "Lesson learned:\n",
    "\n",
    "1. once in local optima, it's hard to fix\n",
    "2. penalyzing concept activation is in conflict with penalyzing not seen concept in attention, so penalyze final layer weight instead\n",
    "\n",
    "# An example learned confounder"
   ]
  },
  {
   "cell_type": "code",
   "execution_count": 547,
   "metadata": {},
   "outputs": [],
   "source": [
    "net_wolf2 = Island(num_class=2, max_obj=max_obj, w=w, h=h, num_head=1)"
   ]
  },
  {
   "cell_type": "code",
   "execution_count": 548,
   "metadata": {},
   "outputs": [
    {
     "name": "stdout",
     "output_type": "stream",
     "text": [
      "[1,   100] losses: [0.68631, 0.18166, 0.14812, 0.00000]\n",
      "[1,   200] losses: [0.62565, 0.18074, 0.12467, 0.00000]\n",
      "[2,   100] losses: [0.51145, 0.07940, 0.07128, 0.00000]\n",
      "[2,   200] losses: [0.42509, 0.06064, 0.06356, 0.00000]\n",
      "[3,   100] losses: [0.31975, 0.05098, 0.05274, 0.00000]\n",
      "[3,   200] losses: [0.26906, 0.04798, 0.05124, 0.00000]\n",
      "[4,   100] losses: [0.21081, 0.04247, 0.04327, 0.00000]\n",
      "[4,   200] losses: [0.18135, 0.04022, 0.04192, 0.00000]\n",
      "[5,   100] losses: [0.14668, 0.03578, 0.03488, 0.00000]\n",
      "[5,   200] losses: [0.12821, 0.03375, 0.03337, 0.00000]\n",
      "[6,   100] losses: [0.10589, 0.02981, 0.02723, 0.00000]\n",
      "[6,   200] losses: [0.09347, 0.02795, 0.02577, 0.00000]\n",
      "[7,   100] losses: [0.07830, 0.02446, 0.02082, 0.00000]\n",
      "[7,   200] losses: [0.06962, 0.02286, 0.01966, 0.00000]\n",
      "[8,   100] losses: [0.05908, 0.01992, 0.01592, 0.00000]\n",
      "[8,   200] losses: [0.05292, 0.01864, 0.01510, 0.00000]\n",
      "[9,   100] losses: [0.04549, 0.01625, 0.01233, 0.00000]\n",
      "[9,   200] losses: [0.04106, 0.01526, 0.01178, 0.00000]\n",
      "[10,   100] losses: [0.03574, 0.01336, 0.00973, 0.00000]\n",
      "[10,   200] losses: [0.03248, 0.01260, 0.00936, 0.00000]\n",
      "Finished Training\n"
     ]
    }
   ],
   "source": [
    "# data_loss, not link loss, link loss, risk_factor_loss\n",
    "criterion_wolf2 = ConceptLoss(weight=[1, 0.01, 0.1, 1e-3], mode=4, \n",
    "                              risk_factor=to_var(torch.FloatTensor([0,0,0,0])))\n",
    "optimizer_wolf2 = optim.Adam(net_wolf2.parameters())\n",
    "\n",
    "train3(net_wolf2, trainloader_wolf, criterion_wolf2, optimizer_wolf2, print_every=100, epochs=10)"
   ]
  },
  {
   "cell_type": "code",
   "execution_count": 549,
   "metadata": {},
   "outputs": [
    {
     "name": "stdout",
     "output_type": "stream",
     "text": [
      "Accuracy of the network on 2000 test images: 100 %\n",
      "Accuracy of the network on 8000 train images: 100 %\n"
     ]
    }
   ],
   "source": [
    "show_acc(net_wolf2, testloader_wolf, 'test')\n",
    "show_acc(net_wolf2, trainloader_wolf, 'train')"
   ]
  },
  {
   "cell_type": "code",
   "execution_count": 550,
   "metadata": {},
   "outputs": [
    {
     "name": "stdout",
     "output_type": "stream",
     "text": [
      "weight: [-3.41, 4.06, 2.67, 0.62]\n"
     ]
    },
    {
     "data": {
      "image/png": "[encoded data removed]",
      "text/plain": [
       "<matplotlib.figure.Figure at 0x7f42badee780>"
      ]
     },
     "metadata": {},
     "output_type": "display_data"
    },
    {
     "name": "stdout",
     "output_type": "stream",
     "text": [
      "output 0: [0.03, 0.97]\n",
      "output 1: [0.97, 0.03]\n",
      "output 2: [0.97, 0.03]\n",
      "output 3: [0.03, 0.97]\n",
      "output 4: [0.03, 0.97]\n",
      "output 5: [0.03, 0.97]\n",
      "output 6: [0.97, 0.03]\n",
      "output 7: [0.97, 0.03]\n",
      "output 8: [0.97, 0.03]\n",
      "output 9: [0.03, 0.97]\n"
     ]
    }
   ],
   "source": [
    "x1 = x\n",
    "c, a, o, v = net_wolf2(to_var(x1))\n",
    "W = net_wolf2.classifier.weight\n",
    "\n",
    "weight = (W[1] - W[0]).data.numpy()\n",
    "print('weight:', formatFloatList(weight,2))\n",
    "plotAttn(a, x1, c)\n",
    "for i, r in enumerate(net.sm(o).data.numpy()):\n",
    "    print('output %d:' % i, formatFloatList(r, 2))\n"
   ]
  },
  {
   "cell_type": "code",
   "execution_count": 551,
   "metadata": {},
   "outputs": [
    {
     "name": "stdout",
     "output_type": "stream",
     "text": [
      "weight: [-3.41, 4.06, 2.67, 0.62]\n"
     ]
    },
    {
     "data": {
      "image/png": "[encoded data removed]",
      "text/plain": [
       "<matplotlib.figure.Figure at 0x7f42b4322668>"
      ]
     },
     "metadata": {},
     "output_type": "display_data"
    },
    {
     "name": "stdout",
     "output_type": "stream",
     "text": [
      "output 0: [0.03, 0.97]\n",
      "output 1: [0.03, 0.97]\n",
      "output 2: [0.97, 0.03]\n",
      "output 3: [0.04, 0.96]\n",
      "output 4: [0.03, 0.97]\n",
      "output 5: [0.03, 0.97]\n"
     ]
    }
   ],
   "source": [
    "x1 = torch.LongTensor([[1,1,1,0,0,0,0,0,3],\n",
    "                       [1,1,1,0,0,0,0,0,0],                       \n",
    "                       [0,0,0,0,0,0,0,0,2],\n",
    "                       [0,1,0,0,0,0,0,0,3],                       \n",
    "                       [1,0,0,0,0,0,0,0,3],                            \n",
    "                       [1,0,0,0,0,0,0,1,3],                                                   \n",
    "                      ])\n",
    "\n",
    "c, a, o, v = net_wolf2(to_var(x1))\n",
    "W = net_wolf2.classifier.weight\n",
    "\n",
    "weight = (W[1] - W[0]).data.numpy()\n",
    "print('weight:', formatFloatList(weight,2))\n",
    "plotAttn(a, x1, c)\n",
    "for i, r in enumerate(net.sm(o).data.numpy()):\n",
    "    print('output %d:' % i, formatFloatList(r, 2))\n"
   ]
  },
  {
   "cell_type": "markdown",
   "metadata": {},
   "source": [
    "# Remaining issues and next steps\n",
    "\n",
    "1. can we do per case penalty? yes we should be able to do\n",
    "2. add in spatial information in attention\n",
    "3. try on image dataset (CIFAR10 or any pixel level annotation dataset)\n",
    "\n",
    "## an important question: How to fix interpretation error once the model is learned?\n",
    "\n",
    "So with ISLAND we easily spot confounding, but can we fix confounding? Without retraining from scratch?\n",
    "\n",
    "I hypothesis we can by adding a backdoor path (uninterpretable neuron network) that are initially constrained to not to be used, but after we identify a problem in the interpretable network, we can use the uninterpretable network to absorb to huge loss in trying to remedy for interpretable one.\n",
    "\n",
    "**This requires the network to predict the amount of benefit to be unlocked and allocate this weight to let the network go backward and refine its decision!**"
   ]
  },
  {
   "cell_type": "code",
   "execution_count": null,
   "metadata": {},
   "outputs": [],
   "source": []
  }
 ],
 "metadata": {
  "kernelspec": {
   "display_name": "Python 3",
   "language": "python",
   "name": "python3"
  },
  "language_info": {
   "codemirror_mode": {
    "name": "ipython",
    "version": 3
   },
   "file_extension": ".py",
   "mimetype": "text/x-python",
   "name": "python",
   "nbconvert_exporter": "python",
   "pygments_lexer": "ipython3",
   "version": "3.5.2"
  }
 },
 "nbformat": 4,
 "nbformat_minor": 2
}
