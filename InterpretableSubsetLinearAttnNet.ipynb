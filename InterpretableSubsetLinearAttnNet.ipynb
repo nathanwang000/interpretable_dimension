{
 "cells": [
  {
   "cell_type": "markdown",
   "metadata": {
    "deletable": true,
    "editable": true
   },
   "source": [
    "# Interpretable Linear Attn Network\n",
    "## AKA the super sparse (only 1 on) linear classifier"
   ]
  },
  {
   "cell_type": "markdown",
   "metadata": {
    "deletable": true,
    "editable": true
   },
   "source": [
    "The aim of this work is to *build* a network with *attention* such that the neurons used for the final layer of classification is *interpretable*. This approach is designed to explain computer vision tasks, but can be easily extended to time series data and tabular data. The decision made is *subset linear* meaning that only a subset of concepts classes are selected for decision and the interactiion between concepts and output is linear. Note that this is different from a linear classifier in that subset linear classifiers can choose which subset of concepts to use. This selection of concepts is achieved using attention. The attention on the input has the effect of setting the weight for all other concepts to zero. \n",
    "\n",
    "## Contributions\n",
    "\n",
    "1. First method to investigate subset linear classifier (makes even nonlinear relationship representable)\n",
    "2. Easily spot confounding by looking at attention (no need for concept dataset to be unbiased)\n",
    "3. Subset linear attention is cognitively simple to understand: use attention to focus on important concepts, and then look up their importance score through interpretable last layer\n",
    "\n",
    "## Advantage of subset linear classifier\n",
    "\n",
    "1. Don't have to model attention and concept correctly for not important concepts (efficiency, need experiment to back up)\n",
    "2. Can account for nonlinear relationships: e.g. certain features are not reliable for one situation, while certain features are reliable for other situations (make sure the weight for a decision have the same sign, but not necessarily the same magnitude)\n",
    "\n",
    "## Limitations\n",
    "\n",
    "1. If spatial relation will completely reverse the linear weights, then subset linear models won't be able to capture that relationship. A future direction is to model this with a decision tree to decide mode of operation (do a soft decision tree).\n",
    "\n",
    "## Assumptions\n",
    "\n",
    "1. We have annotation of image segmentation (the segmentation is used to penalyze attention). \n",
    "2. The sign of the weight don't change (a concept can only be good or bad for the classification, if it is in the middle ground, ILAN will choose more robust features via attention)\n",
    "\n",
    "## Evaluation\n",
    "\n",
    "It's hard to evaluate the interpretability of individual neurons, but we can measure \n",
    "\n",
    "1. attention accuracy (as for image segmentation, say IoU)\n",
    "2. classification accuracy of the concept network\n",
    "3. attention switch frequency (lower switch of frequency means more robust)\n",
    "4. classification accuracy of the main network\n",
    "\n",
    "1-3 guarantees the interpretability of individual neurons, 4 guarantees the usefulness of the network.\n",
    "\n",
    "Back to the wolf vs. snow example. If the attention is always on the snow, it means the network confuses wolf from snow.\n",
    "\n",
    "## Extensions\n",
    "\n",
    "1. use an uninterpretable network to learn feature mapping and the classification task; essentially use that network to guide better attention\n",
    "2. add in human guidence on attention (a module that makes penalty order agnostic) for interactive learning (make it credible)\n",
    "3. take state of the art segmentation method to segment data an compare the utility\n",
    "4. Add self attention (global receptive field) before inputing to attention module\n",
    "5. Try ACT on self attention module\n",
    "6. RNN can be similarly trained but put attention on time instead\n",
    "7. learn a soft decision tree module to fit different mode of weights"
   ]
  },
  {
   "cell_type": "markdown",
   "metadata": {
    "deletable": true,
    "editable": true
   },
   "source": [
    "## Regularizations \n",
    "\n",
    "In this work, we present 4 different regularization terms to make a credible ILAN model.\n",
    "\n",
    "1. $L_{data}$: classification loss (main task)\n",
    "2. $L_{focus}$: link attention to concept use segmented region, set up as auxiliary task\n",
    "3. $L_{\\overline {focus}}$: what not to focus on, penalyze producing outside concept not in attention\n",
    "4. $L_{expert}$: expert knowledge on model weight, usually penalyzed by EYE"
   ]
  },
  {
   "cell_type": "code",
   "execution_count": 1,
   "metadata": {
    "collapsed": true,
    "deletable": true,
    "editable": true
   },
   "outputs": [],
   "source": [
    "import itertools\n",
    "import matplotlib.pyplot as plt\n",
    "import numpy as np\n",
    "import os, math\n",
    "import matplotlib.image as mpimg\n",
    "import glob, torch\n",
    "import matplotlib as mpl\n",
    "import torch.nn as nn\n",
    "import torch.nn.functional as F\n",
    "from torch.autograd import Variable\n",
    "from skimage import io\n",
    "from torchvision import transforms\n",
    "from torch.utils.data import Dataset, DataLoader\n",
    "from torchvision import transforms, utils\n",
    "from torch.utils.data.sampler import SubsetRandomSampler, RandomSampler\n",
    "import torch.optim as optim\n",
    "import copy\n",
    "from sklearn.decomposition import PCA\n",
    "import seaborn as sns\n",
    "import math"
   ]
  },
  {
   "cell_type": "code",
   "execution_count": 2,
   "metadata": {
    "collapsed": true,
    "deletable": true,
    "editable": true
   },
   "outputs": [],
   "source": [
    "def to_var(x, *args, **kwargs):\n",
    "    if type(x) is list or type(x) is tuple:\n",
    "        x = [Variable(x_, *args, **kwargs) for x_ in x]\n",
    "    else:\n",
    "        x = Variable(x, *args, **kwargs)\n",
    "    return x"
   ]
  },
  {
   "cell_type": "markdown",
   "metadata": {
    "deletable": true,
    "editable": true
   },
   "source": [
    "## toy domain: 0-3 items on 3x3 grid "
   ]
  },
  {
   "cell_type": "code",
   "execution_count": 3,
   "metadata": {
    "collapsed": true,
    "deletable": true,
    "editable": true
   },
   "outputs": [],
   "source": [
    "class Board:\n",
    "    def __init__(self, max_obj=3, w=3, h=3, repr_list=None):\n",
    "        '''\n",
    "        repr_list is a mapping from object number to name\n",
    "        0 is always the default background\n",
    "        '''\n",
    "        if repr_list is not None:\n",
    "            assert len(repr_list) == max_obj+1\n",
    "        else:\n",
    "            repr_list = [str(i) for i in range(max_obj+1)]\n",
    "        self.repr_list = repr_list\n",
    "            \n",
    "        self.w, self.h = w, h\n",
    "        self.board = np.zeros(w*h).astype(np.int)\n",
    "        self.max_obj = max_obj\n",
    "        self.board = self.board.reshape([w, h])\n",
    "\n",
    "    def __repr__(self):\n",
    "        res = \"\"\n",
    "        for r in self.board:\n",
    "            res += '['\n",
    "            res += \", \".join(list(map(lambda x: self.repr_list[x], r)))\n",
    "            res += ']\\n'\n",
    "        return res\n",
    "    \n",
    "    def to_input(self):\n",
    "        return self.board.ravel()\n",
    "    \n",
    "def fillBoard(b): # drop in objects 1 at a time, same type only 1\n",
    "    b.board = b.board.ravel()\n",
    "    # either there is an item or not\n",
    "    exist = []\n",
    "    for i in range(1, b.max_obj+1):\n",
    "        if np.random.rand() > 0.5:\n",
    "            exist.append(i)\n",
    "    exist = np.random.permutation(exist)\n",
    "    # choose where to put those item\n",
    "    where = np.random.choice(b.w*b.h, len(exist), replace=False)\n",
    "    for i, p in enumerate(where):\n",
    "        b.board[p] = exist[i]\n",
    "    b.board = b.board.reshape([b.w, b.h])\n"
   ]
  },
  {
   "cell_type": "code",
   "execution_count": 4,
   "metadata": {
    "collapsed": false,
    "deletable": true,
    "editable": true
   },
   "outputs": [
    {
     "name": "stdout",
     "output_type": "stream",
     "text": [
      "[[0 0 0]\n",
      " [0 1 0]\n",
      " [0 0 3]]\n",
      "[0, 0, 0]\n",
      "[0, A, 0]\n",
      "[0, 0, C]\n",
      "\n"
     ]
    }
   ],
   "source": [
    "w, h = 3, 3\n",
    "max_obj = 3\n",
    "b = Board(max_obj, w, h, ['0', 'A', 'B', 'C'])\n",
    "fillBoard(b)\n",
    "print(b.to_input().reshape(h, w))\n",
    "print(b)"
   ]
  },
  {
   "cell_type": "markdown",
   "metadata": {
    "deletable": true,
    "editable": true
   },
   "source": [
    "Assume the relationship is\n",
    "\n",
    "y = sign(1A + 2B - 3C)\n",
    "\n",
    "In other word, we don't care where A, B, C are\n",
    "\n",
    "Further, for simplicity, we only consider 1 attention head"
   ]
  },
  {
   "cell_type": "code",
   "execution_count": 5,
   "metadata": {
    "collapsed": true,
    "deletable": true,
    "editable": true
   },
   "outputs": [],
   "source": [
    "class BoardDataset(Dataset):\n",
    "    \n",
    "    def __init__(self, length, weight, fillBoard=fillBoard):\n",
    "        '''weight is class weight: the real weight for each class'''\n",
    "        self.length = length\n",
    "        self.w, self.h, self.max_obj = 3, 3, 3\n",
    "        self.weight = weight\n",
    "        self.fillBoard = fillBoard\n",
    "        \n",
    "    def __len__(self):\n",
    "        return self.length\n",
    "\n",
    "    def __getitem__(self, idx):\n",
    "        b = Board(self.max_obj, self.w, self.h)\n",
    "        self.fillBoard(b)\n",
    "        x = b.to_input()\n",
    "        #y = sum([self.weight[i] for i in x])\n",
    "        y = int(sum([self.weight[i] for i in x])>0)\n",
    "        return x, y"
   ]
  },
  {
   "cell_type": "code",
   "execution_count": 6,
   "metadata": {
    "collapsed": true,
    "deletable": true,
    "editable": true
   },
   "outputs": [],
   "source": [
    "train_portion = 0.8\n",
    "\n",
    "board_data = BoardDataset(10000, [0, 1, 2, -3])\n",
    "dataset_size = len(board_data)\n",
    "splitpoint = math.floor(train_portion*dataset_size)\n",
    "\n",
    "iter_order = np.random.permutation(dataset_size)\n",
    "train_subset = iter_order[:splitpoint]\n",
    "test_subset = iter_order[splitpoint:]"
   ]
  },
  {
   "cell_type": "code",
   "execution_count": 7,
   "metadata": {
    "collapsed": false,
    "deletable": true,
    "editable": true,
    "scrolled": true
   },
   "outputs": [
    {
     "name": "stdout",
     "output_type": "stream",
     "text": [
      "\n",
      "    0     2     0     3     0     0     0     0     0\n",
      "    0     0     0     0     0     0     1     0     3\n",
      "    0     0     0     0     0     3     0     0     0\n",
      "    0     0     1     0     0     0     0     0     0\n",
      "    0     0     0     3     0     1     0     0     0\n",
      "    0     0     0     1     0     0     0     0     0\n",
      "    0     0     0     3     0     0     2     1     0\n",
      "    0     0     0     0     0     2     0     3     0\n",
      "    0     0     0     2     0     0     1     0     0\n",
      "    0     0     0     0     1     0     0     0     0\n",
      "[torch.LongTensor of size 10x9]\n",
      "\n"
     ]
    }
   ],
   "source": [
    "board_dataloader = DataLoader(board_data, batch_size=10, \n",
    "                              sampler=SubsetRandomSampler(train_subset),\n",
    "                              num_workers=1)\n",
    "\n",
    "x, y = next(iter(board_dataloader))\n",
    "print(x)"
   ]
  },
  {
   "cell_type": "code",
   "execution_count": 56,
   "metadata": {
    "collapsed": true,
    "deletable": true,
    "editable": true
   },
   "outputs": [],
   "source": [
    "class SelfAttn(nn.Module):\n",
    "    def __init__(self, hidden_size, num_head=1):\n",
    "        super(SelfAttn, self).__init__()\n",
    "        self.hidden_size = hidden_size\n",
    "        self.num_head = num_head\n",
    "        \n",
    "        self.WQs = []\n",
    "        for i in range(num_head): # multihead attention shares K and V\n",
    "            self.WQs.append(nn.Linear(hidden_size, hidden_size))\n",
    "        self.WK = nn.Linear(hidden_size, hidden_size)\n",
    "        self.WV = nn.Linear(hidden_size, hidden_size)        \n",
    "        self.sm = nn.Softmax(dim=2)\n",
    "    \n",
    "    def forward(self, H): # H is of size bsx9xhidden_size\n",
    "        Qs = [WQ(H) for WQ in self.WQs]\n",
    "        K = self.WK(H)        \n",
    "        V = self.WV(H) \n",
    "        Zs = [torch.matmul(self.sm(torch.matmul(Q, K.transpose(1,2)) / np.sqrt(self.hidden_size)), V) for Q in Qs]\n",
    "        return Zs\n",
    "\n",
    "class Attn(nn.Module):\n",
    "    \n",
    "    def __init__(self, hidden_size, num_head=1, w=3, h=3):\n",
    "        super(Attn, self).__init__()\n",
    "        self.hidden_size = hidden_size\n",
    "        self.num_head = num_head\n",
    "        \n",
    "        # summarize all spatial vectors to 1 vector\n",
    "        self.Wcombine = nn.Linear(hidden_size*w*h, num_head*hidden_size)\n",
    "        self.relu = nn.ReLU(inplace=True)\n",
    "        self.WQ = nn.Linear(hidden_size, hidden_size)\n",
    "        self.WK = nn.Linear(hidden_size, hidden_size)\n",
    "        self.WV = nn.Linear(hidden_size, hidden_size)        \n",
    "        self.sm = nn.Softmax(dim=2)\n",
    "    \n",
    "    def forward(self, H): # H is of size bsx9xhidden_size\n",
    "        bs = H.shape[0]\n",
    "        H_combined = self.relu(self.Wcombine(H.view(bs,-1)).view(bs, self.num_head, self.hidden_size))\n",
    "        Q = self.WQ(H_combined)\n",
    "        K = self.WK(H)        \n",
    "        V = self.WV(H) \n",
    "        attn_weight = self.sm(torch.matmul(Q, K.transpose(1,2)) / np.sqrt(self.hidden_size))\n",
    "        Z = torch.matmul(attn_weight, V)\n",
    "        Zs = [Z[:,i,:] for i in range(Z.shape[1])]\n",
    "        attn_weights = [attn_weight[:,i,:] for i in range(attn_weight.shape[1])]\n",
    "        return Zs, attn_weights, V\n",
    "\n",
    "class Ilan(nn.Module):\n",
    "\n",
    "    def __init__(self, num_class=2, hidden_size=4, num_head=1, max_obj=3, w=3, h=3, mask=None):\n",
    "        super(Ilan, self).__init__()\n",
    "        self.max_obj = max_obj\n",
    "        self.num_class = num_class\n",
    "        self.hidden_size = hidden_size\n",
    "        if mask is None:\n",
    "            mask = to_var(torch.ones(max_obj+1))\n",
    "        self.mask = mask\n",
    "        \n",
    "        self.embed = nn.Embedding(max_obj+1, hidden_size)\n",
    "        self.attn = Attn(hidden_size, num_head, w, h)\n",
    "        self.sm = nn.Softmax(dim=1)\n",
    "        \n",
    "        self.concept_classifier = nn.Sequential(\n",
    "            nn.Linear(hidden_size, hidden_size),\n",
    "            nn.ReLU(inplace=True),\n",
    "            nn.Linear(hidden_size, max_obj+1),            \n",
    "        )\n",
    "        self.classifier = nn.Linear(max_obj+1, self.num_class)\n",
    "        \n",
    "    def forward(self, x):\n",
    "        # preprocess\n",
    "        H = self.embed(x)\n",
    "        # get attention: [bs x hidden_size] of length num_heads\n",
    "        Zs, attn_weights, V = self.attn(H)\n",
    "        # compute concept for each attention head\n",
    "        concepts = [self.sm(self.concept_classifier(Z)) for Z in Zs]\n",
    "        # compute final linear decision\n",
    "        o = self.classifier(sum(concepts) * self.mask)\n",
    "        return concepts, attn_weights, o, V"
   ]
  },
  {
   "cell_type": "code",
   "execution_count": 9,
   "metadata": {
    "collapsed": true,
    "deletable": true,
    "editable": true
   },
   "outputs": [],
   "source": [
    "trainloader = DataLoader(board_data, batch_size=32, \n",
    "                         sampler=SubsetRandomSampler(train_subset),\n",
    "                         num_workers=1)\n",
    "testloader = DataLoader(board_data, batch_size=32, \n",
    "                        sampler=SubsetRandomSampler(test_subset),\n",
    "                        num_workers=1)\n"
   ]
  },
  {
   "cell_type": "code",
   "execution_count": 10,
   "metadata": {
    "collapsed": true,
    "deletable": true,
    "editable": true
   },
   "outputs": [],
   "source": [
    "def criterion_crossentropy(outputs, y):\n",
    "    concepts, attentions, outputs, V = outputs\n",
    "    loss = nn.CrossEntropyLoss()(outputs, y) \n",
    "    return loss\n",
    "\n",
    "def train(net, trainloader, criterion, optimizer, print_every=10, epochs=2):\n",
    "\n",
    "    for epoch in range(epochs):  # loop over the dataset multiple times\n",
    "\n",
    "        running_loss = 0.0\n",
    "        for i, data in enumerate(trainloader, 0):\n",
    "            # get the inputs\n",
    "            inputs, labels = data\n",
    "\n",
    "            # zero the parameter gradients\n",
    "            optimizer.zero_grad()\n",
    "\n",
    "            # forward + backward + optimize\n",
    "            outputs = net(to_var(inputs))\n",
    "            loss = criterion(outputs, to_var(labels))\n",
    "            loss.backward()\n",
    "            optimizer.step()\n",
    "\n",
    "            # print statistics\n",
    "            running_loss += loss.data[0]\n",
    "            if i % print_every == (print_every-1): \n",
    "                print('[%d, %5d] loss: %.10f' %\n",
    "                      (epoch + 1, i + 1, running_loss / print_every))\n",
    "                running_loss = 0.0\n",
    "\n",
    "    print('Finished Training')\n",
    "\n",
    "def formatFloatList(l, decimal=5):\n",
    "    fstring = \"%%.%df\" % decimal\n",
    "    res = \", \".join([fstring % i for i in l])\n",
    "    return '[' + res + ']'\n",
    "\n",
    "def plotAttn(a_s, x, c):\n",
    "    for k, a in enumerate(a_s):\n",
    "        plt.figure(figsize=(10,10))\n",
    "        #plt.figure()\n",
    "        ax2=plt.subplot(1,2,2, aspect='equal', adjustable='box-forced')\n",
    "        sns.heatmap(c[k].data.numpy(), annot=True, fmt=\".1f\", vmin=0, vmax=1, cbar=False)\n",
    "        plt.title('concepts softmax')\n",
    "        \n",
    "        ax1 = plt.subplot(1,2,1, aspect='equal', adjustable='box-forced', sharex=ax2)#, sharey=ax2)\n",
    "        ax1.get_xaxis().set_visible(False)\n",
    "        plt.imshow(a.data.numpy(), vmin=0, vmax=1)\n",
    "        for (i, j), z in np.ndenumerate(x):\n",
    "            plt.gca().text(j, i, '{:d}'.format(z), ha='center', va='center', color='r')\n",
    "        plt.title('attention map %d' % k)\n",
    "        \n",
    "        #print(\"concepts:\", torch.max(c[k], 1)[1].data.numpy())\n",
    "        plt.show()\n",
    "    \n",
    "def show_acc(net, loader, name=\"\"):\n",
    "    correct = 0\n",
    "    total = 0\n",
    "\n",
    "    for data in loader:\n",
    "        x, y = data\n",
    "        x, y = to_var(x), to_var(y)\n",
    "        _, _, outputs, _ = net(x)\n",
    "        _, predicted = torch.max(outputs.data, 1)\n",
    "        total += y.size(0)\n",
    "        correct += (predicted == y.data).sum()\n",
    "\n",
    "    print('Accuracy of the network on %d %s images: %d %%' % (len(loader.sampler), name, 100 * correct / total))"
   ]
  },
  {
   "cell_type": "code",
   "execution_count": 11,
   "metadata": {
    "collapsed": true,
    "deletable": true,
    "editable": true
   },
   "outputs": [],
   "source": [
    "net = Ilan(num_class=2, max_obj=max_obj, w=w, h=h)\n",
    "concepts, attn_weights, o, V = net(to_var(x))    "
   ]
  },
  {
   "cell_type": "code",
   "execution_count": 12,
   "metadata": {
    "collapsed": false,
    "deletable": true,
    "editable": true,
    "scrolled": true
   },
   "outputs": [
    {
     "name": "stdout",
     "output_type": "stream",
     "text": [
      "[1,   100] loss: 0.6617482626\n",
      "[1,   200] loss: 0.6541054952\n",
      "[2,   100] loss: 0.6598008686\n",
      "[2,   200] loss: 0.6118395269\n",
      "[3,   100] loss: 0.3224825186\n",
      "[3,   200] loss: 0.2387669373\n",
      "[4,   100] loss: 0.1732127050\n",
      "[4,   200] loss: 0.1434235325\n",
      "[5,   100] loss: 0.1145677684\n",
      "[5,   200] loss: 0.0992423980\n",
      "[6,   100] loss: 0.0830195984\n",
      "[6,   200] loss: 0.0735899336\n",
      "[7,   100] loss: 0.0632235835\n",
      "[7,   200] loss: 0.0568603456\n",
      "[8,   100] loss: 0.0497297312\n",
      "[8,   200] loss: 0.0451798171\n",
      "[9,   100] loss: 0.0400266906\n",
      "[9,   200] loss: 0.0366387491\n",
      "[10,   100] loss: 0.0327784381\n",
      "[10,   200] loss: 0.0301781943\n",
      "Finished Training\n"
     ]
    }
   ],
   "source": [
    "criterion = criterion_crossentropy\n",
    "optimizer = optim.Adam(net.parameters())\n",
    "train(net, trainloader, criterion, optimizer, print_every=100, epochs=10)"
   ]
  },
  {
   "cell_type": "code",
   "execution_count": 13,
   "metadata": {
    "collapsed": false,
    "deletable": true,
    "editable": true
   },
   "outputs": [
    {
     "name": "stdout",
     "output_type": "stream",
     "text": [
      "Accuracy of the network on 2000 test images: 100 %\n",
      "Accuracy of the network on 8000 train images: 100 %\n"
     ]
    }
   ],
   "source": [
    "show_acc(net, testloader, 'test')\n",
    "show_acc(net, trainloader, 'train')"
   ]
  },
  {
   "cell_type": "code",
   "execution_count": 14,
   "metadata": {
    "collapsed": false,
    "deletable": true,
    "editable": true
   },
   "outputs": [
    {
     "name": "stdout",
     "output_type": "stream",
     "text": [
      "weight: [-0.54, -3.46, 1.23, 3.58]\n"
     ]
    },
    {
     "data": {
      "image/png": "[encoded data removed]",
      "text/plain": [
       "<matplotlib.figure.Figure at 0x7fe36386d470>"
      ]
     },
     "metadata": {},
     "output_type": "display_data"
    },
    {
     "name": "stdout",
     "output_type": "stream",
     "text": [
      "output 0: [0.04, 0.96]\n",
      "output 1: [0.04, 0.96]\n",
      "output 2: [0.98, 0.02]\n",
      "output 3: [0.98, 0.02]\n",
      "output 4: [0.04, 0.96]\n",
      "output 5: [0.98, 0.02]\n",
      "output 6: [0.98, 0.02]\n",
      "output 7: [0.98, 0.02]\n"
     ]
    }
   ],
   "source": [
    "x1 = torch.LongTensor([[1,0,0,0,0,0,0,0,0],\n",
    "                       [2,0,0,0,0,0,0,0,0],\n",
    "                       [3,0,0,0,0,0,0,0,0],\n",
    "                       [0,0,0,0,0,0,0,0,0],\n",
    "                       [1,2,0,0,0,0,0,0,0],\n",
    "                       [1,3,0,0,0,0,0,0,0],\n",
    "                       [2,3,0,0,0,0,0,0,0],\n",
    "                       [1,2,3,0,0,0,0,0,0]])\n",
    "\n",
    "c, a, o, v = net(to_var(x1))\n",
    "W = net.classifier.weight\n",
    "\n",
    "weight = (W[1] - W[0]).data.numpy()\n",
    "print('weight:', formatFloatList(weight,2))\n",
    "plotAttn(a, x1, c)\n",
    "for i, r in enumerate(net.sm(o).data.numpy()):\n",
    "    print('output %d:' % i, formatFloatList(r, 2))\n"
   ]
  },
  {
   "cell_type": "markdown",
   "metadata": {
    "deletable": true,
    "editable": true
   },
   "source": [
    "# 2 attention heads"
   ]
  },
  {
   "cell_type": "code",
   "execution_count": 15,
   "metadata": {
    "collapsed": true,
    "deletable": true,
    "editable": true
   },
   "outputs": [],
   "source": [
    "net2 = Ilan(num_class=2, max_obj=max_obj, w=w, h=h, num_head=2)\n",
    "concepts, attn_weights, o, v = net2(to_var(x))"
   ]
  },
  {
   "cell_type": "code",
   "execution_count": 16,
   "metadata": {
    "collapsed": false,
    "deletable": true,
    "editable": true
   },
   "outputs": [
    {
     "name": "stdout",
     "output_type": "stream",
     "text": [
      "[1,   100] loss: 0.6597346115\n",
      "[1,   200] loss: 0.6511538202\n",
      "[2,   100] loss: 0.5772115025\n",
      "[2,   200] loss: 0.3543908650\n",
      "[3,   100] loss: 0.1864445844\n",
      "[3,   200] loss: 0.1113435654\n",
      "[4,   100] loss: 0.0693779121\n",
      "[4,   200] loss: 0.0534447733\n",
      "[5,   100] loss: 0.0398151488\n",
      "[5,   200] loss: 0.0328099043\n",
      "[6,   100] loss: 0.0261729760\n",
      "[6,   200] loss: 0.0223528090\n",
      "[7,   100] loss: 0.0185654478\n",
      "[7,   200] loss: 0.0162158166\n",
      "[8,   100] loss: 0.0138322105\n",
      "[8,   200] loss: 0.0122688248\n",
      "[9,   100] loss: 0.0106650217\n",
      "[9,   200] loss: 0.0095656072\n",
      "[10,   100] loss: 0.0084324544\n",
      "[10,   200] loss: 0.0076270148\n",
      "Finished Training\n"
     ]
    }
   ],
   "source": [
    "criterion = criterion_crossentropy\n",
    "optimizer2 = optim.Adam(net2.parameters())\n",
    "\n",
    "train(net2, trainloader, criterion, optimizer2, print_every=100, epochs=10)"
   ]
  },
  {
   "cell_type": "code",
   "execution_count": 17,
   "metadata": {
    "collapsed": false,
    "deletable": true,
    "editable": true
   },
   "outputs": [
    {
     "name": "stdout",
     "output_type": "stream",
     "text": [
      "Accuracy of the network on 2000 test images: 100 %\n",
      "Accuracy of the network on 8000 train images: 100 %\n"
     ]
    }
   ],
   "source": [
    "show_acc(net2, testloader, 'test')\n",
    "show_acc(net2, trainloader, 'train')"
   ]
  },
  {
   "cell_type": "code",
   "execution_count": 18,
   "metadata": {
    "collapsed": false,
    "deletable": true,
    "editable": true
   },
   "outputs": [
    {
     "name": "stdout",
     "output_type": "stream",
     "text": [
      "weight: [2.26, 1.94, -3.12, 0.31]\n"
     ]
    },
    {
     "data": {
      "image/png": "[encoded data removed]",
      "text/plain": [
       "<matplotlib.figure.Figure at 0x7fe35491d940>"
      ]
     },
     "metadata": {},
     "output_type": "display_data"
    },
    {
     "data": {
      "image/png": "[encoded data removed]",
      "text/plain": [
       "<matplotlib.figure.Figure at 0x7fe354920b00>"
      ]
     },
     "metadata": {},
     "output_type": "display_data"
    },
    {
     "name": "stdout",
     "output_type": "stream",
     "text": [
      "output 0: [0.01, 0.99]\n",
      "output 1: [0.01, 0.99]\n",
      "output 2: [1.00, 0.00]\n",
      "output 3: [1.00, 0.00]\n",
      "output 4: [0.01, 0.99]\n",
      "output 5: [1.00, 0.00]\n",
      "output 6: [1.00, 0.00]\n",
      "output 7: [1.00, 0.00]\n"
     ]
    }
   ],
   "source": [
    "x1 = torch.LongTensor([[1,0,0,0,0,0,0,0,0],\n",
    "                       [2,0,0,0,0,0,0,0,0],\n",
    "                       [3,0,0,0,0,0,0,0,0],\n",
    "                       [0,0,0,0,0,0,0,0,0],\n",
    "                       [1,2,0,0,0,0,0,0,0],\n",
    "                       [1,3,0,0,0,0,0,0,0],\n",
    "                       [2,3,0,0,0,0,0,0,0],\n",
    "                       [1,2,3,0,0,0,0,0,0]])\n",
    "\n",
    "c, a, o, v = net2(to_var(x1))\n",
    "W = net2.classifier.weight\n",
    "\n",
    "weight = (W[1] - W[0]).data.numpy()\n",
    "print('weight:', formatFloatList(weight,2))\n",
    "plotAttn(a, x1, c)\n",
    "for i, r in enumerate(net.sm(o).data.numpy()):\n",
    "    print('output %d:' % i, formatFloatList(r, 2))\n"
   ]
  },
  {
   "cell_type": "markdown",
   "metadata": {
    "deletable": true,
    "editable": true
   },
   "source": [
    "# train with multiple objective: fix attention to concept association"
   ]
  },
  {
   "cell_type": "markdown",
   "metadata": {
    "deletable": true,
    "editable": true
   },
   "source": [
    "## A documentation of the concept loss below\n",
    "\n",
    "0. data_loss\n",
    "1. concept_classification_loss\n",
    "2. weight_decay\n",
    "\n",
    "1.1 max_attn_concept\n",
    "\n",
    "Force the detected concept towards the maximum attention concept in image annotation.\n",
    "- Attention could be too large that the maximum attn concept is not the true target\n",
    "\n",
    "1.2 max_attn_concept_pixel\n",
    "\n",
    "Similar to 1.1, but opens a new channel and penalyze the concept detected only using the maximum detection concept bounding box, thus avoiding problem in 1.1\n",
    "\n",
    "1.3 not_in_attention\n",
    "\n",
    "prevent the network from reporting concepts not in attention by finding objects in region with attention >= median sample attention and penalyze concept activation for those not in the set of objects\n",
    "\n",
    "2.1 weighted_l2_decay\n",
    "\n",
    "penalyze last layer weight with weighted l2\n",
    "\n",
    "2.2 weighted_concept_decay\n",
    "\n",
    "penalyze last layer input to not activate for certain concepts\n",
    "- in conflict with objective 1.3\n",
    "\n",
    "criteria_name | data_loss (0) | max_attn_concept (1.1) | max_attn_concept_pixel (1.2) | not_in_attention (1.3) | weighted_l2_decay (2.1) | weighted_concept_decay (2.2)\n",
    "---|---|---|---|---\n",
    "criterion_cross_entropy|1|0|0|0|0|0\n",
    "mode0|1|1|0|0|0|0\n",
    "mode1|1|0|1|0|1|0\n",
    "mode2|1|0|1|0|0|1\n",
    "mode3|1|0|1|1|0|1\n",
    "mode4|1|0|1|1|1|0\n",
    "\n",
    "My recommendation is to use mode 4\n",
    "\n"
   ]
  },
  {
   "cell_type": "code",
   "execution_count": 50,
   "metadata": {
    "collapsed": true,
    "deletable": true,
    "editable": true
   },
   "outputs": [],
   "source": [
    "def ConceptLoss(weight=1, mode=4, risk_factor=None):\n",
    "    '''weight: weight to differnt losses, if 1 means all equal'''\n",
    "    \n",
    "    def criterion_concept0(net, x, outputs, y): # doesn't make concept detector work with overall goal\n",
    "        concepts, attentions, outputs, v = outputs\n",
    "        losses = []\n",
    "        losses.append(nn.CrossEntropyLoss()(outputs, y))  # dataloss\n",
    "        # use attention to determine concepts\n",
    "        for c, a in zip(concepts, attentions):\n",
    "            # take the max of attention and see what's there\n",
    "            _, m = torch.max(a, dim=1)\n",
    "            real_c = x[torch.arange(len(m)).long(), m.data]\n",
    "            losses.append(nn.CrossEntropyLoss()(c, real_c))\n",
    "        if weight == 1:\n",
    "            return losses\n",
    "        else:\n",
    "            assert len(weight) == len(losses)\n",
    "            return [w * l for w, l in zip(weight, losses)]\n",
    "\n",
    "    def criterion_concept1(net, x, outputs, y): # add in attention to concept loss\n",
    "        concepts, attentions, outputs, v = outputs\n",
    "        losses = []\n",
    "        losses.append(nn.CrossEntropyLoss()(outputs, y))  # dataloss\n",
    "        # use attention to determine concepts\n",
    "        for c, a in zip(concepts, attentions):\n",
    "            # take the max of attention and see what's there\n",
    "            _, m = torch.max(a, dim=1)\n",
    "            real_c = x[torch.arange(len(m)).long(), m.data]\n",
    "            # penalyze the real bounding box bounded concept: v: bs x 9 x hidden_size\n",
    "            #                                                 a: bs x 1 x 9\n",
    "            bs, ndigits = a.shape\n",
    "            newa = torch.zeros(bs, ndigits)\n",
    "            newa[torch.arange(len(m)).long(), m.data] = 1\n",
    "            newa = to_var(newa.unsqueeze(1))\n",
    "            \n",
    "            value = torch.matmul(newa, v).squeeze(1)\n",
    "            c = net.concept_classifier(value)\n",
    "\n",
    "            losses.append(nn.CrossEntropyLoss()(c, real_c))\n",
    "            \n",
    "        if risk_factor is not None:\n",
    "            W = net.classifier.weight\n",
    "            losses.append(sum((W[1] - W[0])**2 * risk_factor))\n",
    "            \n",
    "        if weight == 1:\n",
    "            return losses\n",
    "        else:\n",
    "            assert len(weight) == len(losses)\n",
    "            return [w * l for w, l in zip(weight, losses)]\n",
    "        \n",
    "    def criterion_concept2(net, x, outputs, y): # constrain risk factor with less attention\n",
    "        concepts, attentions, outputs, v = outputs\n",
    "        losses = []\n",
    "        losses.append(nn.CrossEntropyLoss()(outputs, y))  # dataloss\n",
    "        # use attention to determine concepts\n",
    "        for c, a in zip(concepts, attentions):\n",
    "            # take the max of attention and see what's there\n",
    "            _, m = torch.max(a, dim=1)\n",
    "            real_c = x[torch.arange(len(m)).long(), m.data]\n",
    "            # penalyze the real bounding box bounded concept: v: bs x 9 x hidden_size\n",
    "            #                                                 a: bs x 1 x 9\n",
    "            bs, ndigits = a.shape\n",
    "            newa = torch.zeros(bs, ndigits)\n",
    "            newa[torch.arange(len(m)).long(), m.data] = 1\n",
    "            newa = to_var(newa.unsqueeze(1))\n",
    "            \n",
    "            value = torch.matmul(newa, v).squeeze(1)\n",
    "            c_ = net.concept_classifier(value)\n",
    "\n",
    "            losses.append(nn.CrossEntropyLoss()(c_, real_c))\n",
    "            \n",
    "        if risk_factor is not None:\n",
    "            losses.append(torch.sum(sum(concepts) * risk_factor))\n",
    "            \n",
    "        if weight == 1:\n",
    "            return losses\n",
    "        else:\n",
    "            assert len(weight) == len(losses)\n",
    "            return [w * l for w, l in zip(weight, losses)]\n",
    "\n",
    "\n",
    "    def criterion_concept3(net, x, outputs, y): # constrain attention leads to concept not in attention\n",
    "        concepts, attentions, outputs, v = outputs\n",
    "        losses = []\n",
    "        losses.append(nn.CrossEntropyLoss()(outputs, y))  # dataloss\n",
    "        # use attention to determine concepts\n",
    "        for c, a in zip(concepts, attentions):\n",
    "            # todo: form a mask m on c based on attention over median in each example\n",
    "            mask_a = a.ge(torch.median(a, dim=1)[0].unsqueeze(1))\n",
    "            # find out what's not there\n",
    "            mask_c = torch.ones_like(c)\n",
    "            maska_selected = (x+1) * mask_a.long() - 1\n",
    "\n",
    "            for i, r in enumerate(maska_selected.data):\n",
    "                for j in set(r):\n",
    "                    if j != -1:\n",
    "                        mask_c[i, j] = 0\n",
    "            losses.append(torch.sum(mask_c * c))\n",
    "            \n",
    "            # take the max of attention and see what's there\n",
    "            _, m = torch.max(a, dim=1)\n",
    "            real_c = x[torch.arange(len(m)).long(), m.data]\n",
    "            # penalyze the real bounding box bounded concept: v: bs x 9 x hidden_size\n",
    "            #                                                 a: bs x 1 x 9\n",
    "            bs, ndigits = a.shape\n",
    "            newa = torch.zeros(bs, ndigits)\n",
    "            newa[torch.arange(len(m)).long(), m.data] = 1\n",
    "            newa = to_var(newa.unsqueeze(1))\n",
    "            \n",
    "            value = torch.matmul(newa, v).squeeze(1)\n",
    "            c_ = net.concept_classifier(value)\n",
    "\n",
    "            losses.append(nn.CrossEntropyLoss()(c_, real_c))\n",
    "            \n",
    "        if risk_factor is not None:\n",
    "            losses.append(torch.sum(sum(concepts) * risk_factor))\n",
    "            \n",
    "        if weight == 1:\n",
    "            return losses\n",
    "        else:\n",
    "            assert len(weight) == len(losses)\n",
    "            return [w * l for w, l in zip(weight, losses)]\n",
    "\n",
    "    def criterion_concept4(net, x, outputs, y): # concept3 with penalyze W instead of activation of concept\n",
    "        concepts, attentions, outputs, v = outputs\n",
    "        losses = []\n",
    "        losses.append(nn.CrossEntropyLoss()(outputs, y))  # dataloss\n",
    "        # use attention to determine concepts\n",
    "        for c, a in zip(concepts, attentions):\n",
    "            # todo: form a mask m on c based on attention over median in each example\n",
    "            mask_a = a.ge(torch.median(a, dim=1)[0].unsqueeze(1))\n",
    "            # find out what's not there\n",
    "            mask_c = torch.ones_like(c)\n",
    "            maska_selected = (x+1) * mask_a.long() - 1\n",
    "\n",
    "            for i, r in enumerate(maska_selected.data):\n",
    "                for j in set(r):\n",
    "                    if j != -1:\n",
    "                        mask_c[i, j] = 0\n",
    "            losses.append(torch.sum(mask_c * c))\n",
    "            \n",
    "            # take the max of attention and see what's there\n",
    "            _, m = torch.max(a, dim=1)\n",
    "            real_c = x[torch.arange(len(m)).long(), m.data]\n",
    "            # penalyze the real bounding box bounded concept: v: bs x 9 x hidden_size\n",
    "            #                                                 a: bs x 1 x 9\n",
    "            bs, ndigits = a.shape\n",
    "            newa = torch.zeros(bs, ndigits)\n",
    "            newa[torch.arange(len(m)).long(), m.data] = 1\n",
    "            newa = to_var(newa.unsqueeze(1))\n",
    "            \n",
    "            value = torch.matmul(newa, v).squeeze(1)\n",
    "            c_ = net.concept_classifier(value)\n",
    "\n",
    "            losses.append(nn.CrossEntropyLoss()(c_, real_c))\n",
    "            \n",
    "        if risk_factor is not None:\n",
    "            W = net.classifier.weight\n",
    "            losses.append(sum((W[1] - W[0])**2 * risk_factor))\n",
    "            \n",
    "        if weight == 1:\n",
    "            return losses\n",
    "        else:\n",
    "            assert len(weight) == len(losses)\n",
    "            return [w * l for w, l in zip(weight, losses)]\n",
    "\n",
    "    mode_changer = [criterion_concept0, criterion_concept1, criterion_concept2, \n",
    "                    criterion_concept3, criterion_concept4]\n",
    "    return mode_changer[mode]\n",
    "\n",
    "def train3(net, trainloader, criterion, optimizer, print_every=10, epochs=2):\n",
    "\n",
    "    for epoch in range(epochs):  # loop over the dataset multiple times\n",
    "\n",
    "        running_loss = []\n",
    "        for i, data in enumerate(trainloader, 0):\n",
    "            # get the inputs\n",
    "            inputs, labels = data\n",
    "            inputs, labels = to_var(inputs), to_var(labels)\n",
    "\n",
    "            # zero the parameter gradients\n",
    "            optimizer.zero_grad()\n",
    "\n",
    "            # forward + backward + optimize\n",
    "            outputs = net(inputs)\n",
    "            losses = criterion(net, inputs, outputs, labels)\n",
    "            sum(losses).backward()\n",
    "            optimizer.step()\n",
    "\n",
    "            # print statistics\n",
    "            if len(running_loss) != len(losses):\n",
    "                running_loss = np.zeros(len(losses))\n",
    "            running_loss += np.array(list(map(lambda loss: loss.data[0], losses)))\n",
    "            if i % print_every == (print_every-1): \n",
    "                print('[%d, %5d] losses: %s' %\n",
    "                      (epoch + 1, i + 1, formatFloatList(running_loss / print_every)))\n",
    "                running_loss = []\n",
    "\n",
    "    print('Finished Training')\n"
   ]
  },
  {
   "cell_type": "code",
   "execution_count": 21,
   "metadata": {
    "collapsed": true,
    "deletable": true,
    "editable": true
   },
   "outputs": [],
   "source": [
    "net3 = Ilan(num_class=2, max_obj=max_obj, w=w, h=h, num_head=1)"
   ]
  },
  {
   "cell_type": "code",
   "execution_count": 22,
   "metadata": {
    "collapsed": false,
    "deletable": true,
    "editable": true
   },
   "outputs": [
    {
     "name": "stdout",
     "output_type": "stream",
     "text": [
      "[1,   100] losses: [0.68172, 0.12945]\n",
      "[1,   200] losses: [0.66007, 0.09755]\n",
      "[2,   100] losses: [0.66002, 0.10176]\n",
      "[2,   200] losses: [0.65386, 0.05782]\n",
      "[3,   100] losses: [0.64376, 0.02671]\n",
      "[3,   200] losses: [0.63055, 0.02400]\n",
      "[4,   100] losses: [0.62034, 0.02082]\n",
      "[4,   200] losses: [0.56327, 0.02292]\n",
      "[5,   100] losses: [0.45230, 0.01051]\n",
      "[5,   200] losses: [0.36852, 0.00997]\n",
      "[6,   100] losses: [0.25294, 0.01385]\n",
      "[6,   200] losses: [0.20101, 0.01218]\n",
      "[7,   100] losses: [0.15199, 0.00993]\n",
      "[7,   200] losses: [0.12743, 0.00897]\n",
      "[8,   100] losses: [0.10264, 0.00742]\n",
      "[8,   200] losses: [0.08896, 0.00662]\n",
      "[9,   100] losses: [0.07457, 0.00569]\n",
      "[9,   200] losses: [0.06603, 0.00527]\n",
      "[10,   100] losses: [0.05680, 0.00459]\n",
      "[10,   200] losses: [0.05103, 0.00426]\n",
      "Finished Training\n"
     ]
    }
   ],
   "source": [
    "criterion3 = ConceptLoss(weight=[1, 0.1], mode=1)\n",
    "optimizer3 = optim.Adam(net3.parameters())\n",
    "\n",
    "train3(net3, trainloader, criterion3, optimizer3, print_every=100, epochs=10)"
   ]
  },
  {
   "cell_type": "code",
   "execution_count": 23,
   "metadata": {
    "collapsed": false,
    "deletable": true,
    "editable": true
   },
   "outputs": [
    {
     "name": "stdout",
     "output_type": "stream",
     "text": [
      "Accuracy of the network on 2000 test images: 100 %\n",
      "Accuracy of the network on 8000 train images: 100 %\n"
     ]
    }
   ],
   "source": [
    "show_acc(net3, testloader, 'test')\n",
    "show_acc(net3, trainloader, 'train')"
   ]
  },
  {
   "cell_type": "code",
   "execution_count": 24,
   "metadata": {
    "collapsed": false,
    "deletable": true,
    "editable": true
   },
   "outputs": [
    {
     "name": "stdout",
     "output_type": "stream",
     "text": [
      "weight: [-4.06, -1.81, 2.54, 1.99]\n"
     ]
    },
    {
     "data": {
      "image/png": "[encoded data removed]",
      "text/plain": [
       "<matplotlib.figure.Figure at 0x7fe28861ab00>"
      ]
     },
     "metadata": {},
     "output_type": "display_data"
    },
    {
     "name": "stdout",
     "output_type": "stream",
     "text": [
      "output 0: [0.09, 0.91]\n",
      "output 1: [0.06, 0.94]\n",
      "output 2: [0.97, 0.03]\n",
      "output 3: [0.97, 0.03]\n",
      "output 4: [0.06, 0.94]\n",
      "output 5: [0.97, 0.03]\n",
      "output 6: [0.97, 0.03]\n",
      "output 7: [0.97, 0.03]\n"
     ]
    }
   ],
   "source": [
    "x1 = torch.LongTensor([[1,0,0,0,0,0,0,0,0],\n",
    "                       [2,0,0,0,0,0,0,0,0],\n",
    "                       [3,0,0,0,0,0,0,0,0],\n",
    "                       [0,0,0,0,0,0,0,0,0],\n",
    "                       [1,2,0,0,0,0,0,0,0],\n",
    "                       [1,3,0,0,0,0,0,0,0],\n",
    "                       [2,3,0,0,0,0,0,0,0],\n",
    "                       [1,2,3,0,0,0,0,0,0]])\n",
    "\n",
    "c, a, o, v = net3(to_var(x1))\n",
    "W = net3.classifier.weight\n",
    "\n",
    "weight = (W[1] - W[0]).data.numpy()\n",
    "print('weight:', formatFloatList(weight,2))\n",
    "plotAttn(a, x1, c)\n",
    "for i, r in enumerate(net.sm(o).data.numpy()):\n",
    "    print('output %d:' % i, formatFloatList(r, 2))\n"
   ]
  },
  {
   "cell_type": "code",
   "execution_count": 25,
   "metadata": {
    "collapsed": false,
    "deletable": true,
    "editable": true
   },
   "outputs": [
    {
     "name": "stdout",
     "output_type": "stream",
     "text": [
      "weight: [-4.06, -1.81, 2.54, 1.99]\n"
     ]
    },
    {
     "data": {
      "image/png": "[encoded data removed]",
      "text/plain": [
       "<matplotlib.figure.Figure at 0x7fe288471fd0>"
      ]
     },
     "metadata": {},
     "output_type": "display_data"
    },
    {
     "name": "stdout",
     "output_type": "stream",
     "text": [
      "output 0: [0.09, 0.91]\n",
      "weight: [-4.06, -1.81, 2.54, 1.99]\n"
     ]
    },
    {
     "data": {
      "image/png": "[encoded data removed]",
      "text/plain": [
       "<matplotlib.figure.Figure at 0x7fe288471e80>"
      ]
     },
     "metadata": {},
     "output_type": "display_data"
    },
    {
     "name": "stdout",
     "output_type": "stream",
     "text": [
      "output 0: [0.10, 0.90]\n",
      "weight: [-4.06, -1.81, 2.54, 1.99]\n"
     ]
    },
    {
     "data": {
      "image/png": "[encoded data removed]",
      "text/plain": [
       "<matplotlib.figure.Figure at 0x7fe354920668>"
      ]
     },
     "metadata": {},
     "output_type": "display_data"
    },
    {
     "name": "stdout",
     "output_type": "stream",
     "text": [
      "output 0: [0.35, 0.65]\n"
     ]
    }
   ],
   "source": [
    "x1 = torch.LongTensor([1,0,0,0,0,0,0,0,0])\n",
    "x1 = x1.unsqueeze(0)\n",
    "c, a, o, v = net3(to_var(x1))\n",
    "\n",
    "weight = (W[1] - W[0]).data.numpy()\n",
    "print('weight:', formatFloatList(weight,2))\n",
    "plotAttn(a, x1, c)\n",
    "for i, r in enumerate(net.sm(o).data.numpy()):\n",
    "    print('output %d:' % i, formatFloatList(r, 2))\n",
    "\n",
    "############################################\n",
    "x1 = torch.LongTensor([1,1,0,0,0,0,0,0,0])\n",
    "x1 = x1.unsqueeze(0)\n",
    "c, a, o, v = net3(to_var(x1))\n",
    "\n",
    "weight = (W[1] - W[0]).data.numpy()\n",
    "print('weight:', formatFloatList(weight,2))\n",
    "plotAttn(a, x1, c)\n",
    "for i, r in enumerate(net.sm(o).data.numpy()):\n",
    "    print('output %d:' % i, formatFloatList(r, 2))\n",
    "    \n",
    "############################################\n",
    "x1 = torch.LongTensor([1,1,1,1,1,1,1,1,0])\n",
    "x1 = x1.unsqueeze(0)\n",
    "c, a, o, v = net3(to_var(x1))\n",
    "\n",
    "weight = (W[1] - W[0]).data.numpy()\n",
    "print('weight:', formatFloatList(weight,2))\n",
    "plotAttn(a, x1, c)\n",
    "for i, r in enumerate(net.sm(o).data.numpy()):\n",
    "    print('output %d:' % i, formatFloatList(r, 2))"
   ]
  },
  {
   "cell_type": "markdown",
   "metadata": {
    "deletable": true,
    "editable": true
   },
   "source": [
    "The above example shows that ILAN's attention is really hard to predict. But it is still ok, I mean it's a perfectly fine interpretation. It just means the network thinks the example is negative because it sees 0 and 0 is in general negative.\n",
    "\n",
    "# fix wrong attention"
   ]
  },
  {
   "cell_type": "code",
   "execution_count": 63,
   "metadata": {
    "collapsed": true,
    "deletable": true,
    "editable": true
   },
   "outputs": [],
   "source": [
    "net4 = Ilan(num_class=2, max_obj=max_obj, w=w, h=h, num_head=1, mask=to_var(torch.FloatTensor([0,1,1,1])))"
   ]
  },
  {
   "cell_type": "code",
   "execution_count": 64,
   "metadata": {
    "collapsed": false,
    "deletable": true,
    "editable": true
   },
   "outputs": [
    {
     "name": "stdout",
     "output_type": "stream",
     "text": [
      "[1,   100] losses: [0.66797, 0.14405, 0.10415, 0.00000]\n",
      "[1,   200] losses: [0.59750, 0.07888, 0.05341, 0.00000]\n",
      "[2,   100] losses: [0.52597, 0.01471, 0.00491, 0.00000]\n",
      "[2,   200] losses: [0.48901, 0.00442, 0.00144, 0.00000]\n",
      "[3,   100] losses: [0.46403, 0.00165, 0.00053, 0.00000]\n",
      "[3,   200] losses: [0.43522, 0.00099, 0.00032, 0.00000]\n",
      "[4,   100] losses: [0.42058, 0.00058, 0.00019, 0.00000]\n",
      "[4,   200] losses: [0.39689, 0.00042, 0.00014, 0.00000]\n",
      "[5,   100] losses: [0.38927, 0.00029, 0.00009, 0.00000]\n",
      "[5,   200] losses: [0.36897, 0.00022, 0.00007, 0.00000]\n",
      "[6,   100] losses: [0.36639, 0.00017, 0.00006, 0.00000]\n",
      "[6,   200] losses: [0.34836, 0.00014, 0.00004, 0.00000]\n",
      "[7,   100] losses: [0.34946, 0.00011, 0.00004, 0.00000]\n",
      "[7,   200] losses: [0.33296, 0.00009, 0.00003, 0.00000]\n",
      "[8,   100] losses: [0.33680, 0.00008, 0.00002, 0.00000]\n",
      "[8,   200] losses: [0.32134, 0.00006, 0.00002, 0.00000]\n",
      "[9,   100] losses: [0.32721, 0.00005, 0.00002, 0.00000]\n",
      "[9,   200] losses: [0.31246, 0.00005, 0.00002, 0.00000]\n",
      "[10,   100] losses: [0.31988, 0.00004, 0.00001, 0.00000]\n",
      "[10,   200] losses: [0.30562, 0.00004, 0.00001, 0.00000]\n",
      "Finished Training\n"
     ]
    }
   ],
   "source": [
    "# data_loss, not focus loss, focus loss, risk_factor_loss\n",
    "#criterion4 = ConceptLoss(weight=[1, 0.01, 0.1, 0.01], mode=3, risk_factor=to_var(torch.FloatTensor([1,0,0,0])))\n",
    "criterion4 = ConceptLoss(weight=[1, 0.01, 0.1, 0.00], mode=3, risk_factor=to_var(torch.FloatTensor([1,0,0,0])))\n",
    "optimizer4 = optim.Adam(net4.parameters())\n",
    "\n",
    "train3(net4, trainloader, criterion4, optimizer4, print_every=100, epochs=10)"
   ]
  },
  {
   "cell_type": "code",
   "execution_count": 61,
   "metadata": {
    "collapsed": false,
    "deletable": true,
    "editable": true
   },
   "outputs": [
    {
     "name": "stdout",
     "output_type": "stream",
     "text": [
      "Accuracy of the network on 2000 test images: 62 %\n",
      "Accuracy of the network on 8000 train images: 63 %\n"
     ]
    }
   ],
   "source": [
    "show_acc(net4, testloader, 'test')\n",
    "show_acc(net4, trainloader, 'train')"
   ]
  },
  {
   "cell_type": "code",
   "execution_count": 62,
   "metadata": {
    "collapsed": false,
    "deletable": true,
    "editable": true
   },
   "outputs": [
    {
     "name": "stdout",
     "output_type": "stream",
     "text": [
      "weight: [0.69, -0.81, -0.22, -1.04]\n"
     ]
    },
    {
     "data": {
      "image/png": "[encoded data removed]",
      "text/plain": [
       "<matplotlib.figure.Figure at 0x7fe354b88860>"
      ]
     },
     "metadata": {},
     "output_type": "display_data"
    },
    {
     "name": "stdout",
     "output_type": "stream",
     "text": [
      "output 0: [0.64, 0.36]\n",
      "output 1: [0.64, 0.36]\n",
      "output 2: [0.64, 0.36]\n",
      "output 3: [0.64, 0.36]\n",
      "output 4: [0.64, 0.36]\n",
      "output 5: [0.64, 0.36]\n",
      "output 6: [0.64, 0.36]\n",
      "output 7: [0.64, 0.36]\n"
     ]
    }
   ],
   "source": [
    "x1 = torch.LongTensor([[1,0,0,0,0,0,0,0,0],\n",
    "                       [2,0,0,0,0,0,0,0,0],\n",
    "                       [3,0,0,0,0,0,0,0,0],\n",
    "                       [0,0,0,0,0,0,0,0,0],\n",
    "                       [1,2,0,0,0,0,0,0,0],\n",
    "                       [1,3,0,0,0,0,0,0,0],\n",
    "                       [2,3,0,0,0,0,0,0,0],\n",
    "                       [1,2,3,0,0,0,0,0,0]])\n",
    "\n",
    "c, a, o, v = net4(to_var(x1))\n",
    "W = net4.classifier.weight\n",
    "\n",
    "weight = (W[1] - W[0]).data.numpy()\n",
    "print('weight:', formatFloatList(weight,2))\n",
    "plotAttn(a, x1, c)\n",
    "for i, r in enumerate(net.sm(o).data.numpy()):\n",
    "    print('output %d:' % i, formatFloatList(r, 2))\n"
   ]
  },
  {
   "cell_type": "markdown",
   "metadata": {
    "deletable": true,
    "editable": true
   },
   "source": [
    "summary:\n",
    "\n",
    "Good regularization saves the day. In this case, we have data loss, attention to concept link loss (make sure concept matches attention), and attention risk factor loss (penalyze background noise attention).\n",
    "\n",
    "Although this is a very small toy set (in fact, since our attention ignores spatial order, there are only 8 cases to consider), I think the result is encouraging."
   ]
  },
  {
   "cell_type": "markdown",
   "metadata": {
    "deletable": true,
    "editable": true
   },
   "source": [
    "# Recreate the wolf (2) v.s. snow (1) v.s. dog (3) with background (0) problem\n",
    "\n",
    "The basic setup is wolf (2) has background with snow (1) and noise (0), dog (3) only have regular background (0), the classification task is to find if there is a wolf:\n",
    "\n",
    "y = 0 x background + 0 x snow + 1 x wolf + 0 x dog"
   ]
  },
  {
   "cell_type": "code",
   "execution_count": 30,
   "metadata": {
    "collapsed": true,
    "deletable": true,
    "editable": true
   },
   "outputs": [],
   "source": [
    "def fillWolfBoard(b):\n",
    "    '''\n",
    "    constraints:\n",
    "    1. only have 1 wolf or 1 dog, not both\n",
    "    2. whenever there is a wolf, there is 20% - 80% snow\n",
    "    '''\n",
    "    b.board = b.board.ravel()\n",
    "    exist = []\n",
    "    # decide is wolf or dog\n",
    "    if np.random.random() > 0.5:\n",
    "        exist.append(2) # wolf\n",
    "        left = b.w * b.h - 1\n",
    "        n_snows = np.random.choice(range(math.ceil(left * 0.2), math.floor(left * 0.8)))\n",
    "        exist.extend([1] * n_snows)\n",
    "    else:\n",
    "        exist.append(3) # dog\n",
    "        \n",
    "    exist.extend([0] * (b.w*b.h-len(exist)))\n",
    "    exist = np.random.permutation(exist)\n",
    "    b.board = np.array(exist)\n",
    "        \n",
    "    b.board = b.board.reshape(b.w, b.h)     "
   ]
  },
  {
   "cell_type": "code",
   "execution_count": 31,
   "metadata": {
    "collapsed": false,
    "deletable": true,
    "editable": true
   },
   "outputs": [
    {
     "name": "stdout",
     "output_type": "stream",
     "text": [
      "[0, 0, 0]\n",
      "[0, 0, 0]\n",
      "[0, D, 0]\n",
      "\n"
     ]
    }
   ],
   "source": [
    "w, h = 3, 3\n",
    "max_obj = 3\n",
    "b = Board(max_obj, w, h, ['0', 'S', 'W', 'D'])\n",
    "fillWolfBoard(b)\n",
    "#print(b.to_input().reshape(h, w))\n",
    "print(b)"
   ]
  },
  {
   "cell_type": "code",
   "execution_count": 32,
   "metadata": {
    "collapsed": true,
    "deletable": true,
    "editable": true
   },
   "outputs": [],
   "source": [
    "wolf_data = BoardDataset(10000, weight=[0, 0, 1, 0], fillBoard=fillWolfBoard)\n",
    "wolf_dataloader = DataLoader(wolf_data, batch_size=10, \n",
    "                              sampler=SubsetRandomSampler(train_subset),\n",
    "                              num_workers=1)\n",
    "\n",
    "x, y = next(iter(wolf_dataloader))"
   ]
  },
  {
   "cell_type": "code",
   "execution_count": 33,
   "metadata": {
    "collapsed": true,
    "deletable": true,
    "editable": true
   },
   "outputs": [],
   "source": [
    "trainloader_wolf = DataLoader(wolf_data, batch_size=32, \n",
    "                         sampler=SubsetRandomSampler(train_subset),\n",
    "                         num_workers=1)\n",
    "testloader_wolf = DataLoader(wolf_data, batch_size=32, \n",
    "                        sampler=SubsetRandomSampler(test_subset),\n",
    "                        num_workers=1)\n"
   ]
  },
  {
   "cell_type": "code",
   "execution_count": 34,
   "metadata": {
    "collapsed": true,
    "deletable": true,
    "editable": true
   },
   "outputs": [],
   "source": [
    "net_wolf = Ilan(num_class=2, max_obj=max_obj, w=w, h=h, num_head=1)"
   ]
  },
  {
   "cell_type": "code",
   "execution_count": 35,
   "metadata": {
    "collapsed": false,
    "deletable": true,
    "editable": true
   },
   "outputs": [
    {
     "name": "stdout",
     "output_type": "stream",
     "text": [
      "[1,   100] losses: [0.69145, 0.11193, 0.05693, 0.00216]\n",
      "[1,   200] losses: [0.69308, 0.02117, 0.00756, 0.00169]\n",
      "[2,   100] losses: [0.69317, 0.00132, 0.00046, 0.00110]\n",
      "[2,   200] losses: [0.69328, 0.00052, 0.00018, 0.00085]\n",
      "[3,   100] losses: [0.69327, 0.00021, 0.00007, 0.00080]\n",
      "[3,   200] losses: [0.69328, 0.00014, 0.00005, 0.00070]\n",
      "[4,   100] losses: [0.69327, 0.00008, 0.00003, 0.00071]\n",
      "[4,   200] losses: [0.69328, 0.00006, 0.00002, 0.00063]\n",
      "[5,   100] losses: [0.69327, 0.00004, 0.00002, 0.00064]\n",
      "[5,   200] losses: [0.69328, 0.00004, 0.00001, 0.00057]\n",
      "[6,   100] losses: [0.69327, 0.00003, 0.00001, 0.00058]\n",
      "[6,   200] losses: [0.69328, 0.00002, 0.00001, 0.00051]\n",
      "[7,   100] losses: [0.69327, 0.00002, 0.00001, 0.00052]\n",
      "[7,   200] losses: [0.69327, 0.00002, 0.00001, 0.00046]\n",
      "[8,   100] losses: [0.69327, 0.00001, 0.00000, 0.00047]\n",
      "[8,   200] losses: [0.69327, 0.00001, 0.00000, 0.00041]\n",
      "[9,   100] losses: [0.69326, 0.00001, 0.00000, 0.00043]\n",
      "[9,   200] losses: [0.69327, 0.00001, 0.00000, 0.00037]\n",
      "[10,   100] losses: [0.69326, 0.00001, 0.00000, 0.00039]\n",
      "[10,   200] losses: [0.69327, 0.00001, 0.00000, 0.00033]\n",
      "Finished Training\n"
     ]
    }
   ],
   "source": [
    "# data_loss, not link loss, link loss, risk_factor_loss\n",
    "criterion_wolf = ConceptLoss(weight=[1, 0.01, 0.1, 0.01], mode=4, \n",
    "                             risk_factor=to_var(torch.FloatTensor([1,1,0,0])))\n",
    "optimizer_wolf = optim.Adam(net_wolf.parameters())\n",
    "\n",
    "train3(net_wolf, trainloader_wolf, criterion_wolf, optimizer_wolf, print_every=100, epochs=10)"
   ]
  },
  {
   "cell_type": "code",
   "execution_count": 36,
   "metadata": {
    "collapsed": false,
    "deletable": true,
    "editable": true
   },
   "outputs": [
    {
     "name": "stdout",
     "output_type": "stream",
     "text": [
      "Accuracy of the network on 2000 test images: 49 %\n",
      "Accuracy of the network on 8000 train images: 49 %\n"
     ]
    }
   ],
   "source": [
    "show_acc(net_wolf, testloader_wolf, 'test')\n",
    "show_acc(net_wolf, trainloader_wolf, 'train')"
   ]
  },
  {
   "cell_type": "code",
   "execution_count": 37,
   "metadata": {
    "collapsed": false,
    "deletable": true,
    "editable": true
   },
   "outputs": [
    {
     "name": "stdout",
     "output_type": "stream",
     "text": [
      "weight: [-0.18, 0.00, 0.06, -0.39]\n"
     ]
    },
    {
     "data": {
      "image/png": "[encoded data removed]",
      "text/plain": [
       "<matplotlib.figure.Figure at 0x7fe3548695f8>"
      ]
     },
     "metadata": {},
     "output_type": "display_data"
    }
   ],
   "source": [
    "x1 = x\n",
    "c, a, o, v = net_wolf(to_var(x1))\n",
    "W = net_wolf.classifier.weight\n",
    "\n",
    "weight = (W[1] - W[0]).data.numpy()\n",
    "print('weight:', formatFloatList(weight,2))\n",
    "plotAttn(a, x1, c)"
   ]
  },
  {
   "cell_type": "markdown",
   "metadata": {
    "deletable": true,
    "editable": true
   },
   "source": [
    "Lesson learned:\n",
    "\n",
    "1. once in local optima, it's hard to fix\n",
    "2. penalyzing concept activation is in conflict with penalyzing not seen concept in attention, so penalyze final layer weight instead\n",
    "\n",
    "# An example learned confounder"
   ]
  },
  {
   "cell_type": "code",
   "execution_count": 38,
   "metadata": {
    "collapsed": true,
    "deletable": true,
    "editable": true
   },
   "outputs": [],
   "source": [
    "net_wolf2 = Ilan(num_class=2, max_obj=max_obj, w=w, h=h, num_head=1)"
   ]
  },
  {
   "cell_type": "code",
   "execution_count": 39,
   "metadata": {
    "collapsed": false,
    "deletable": true,
    "editable": true
   },
   "outputs": [
    {
     "name": "stdout",
     "output_type": "stream",
     "text": [
      "[1,   100] losses: [0.69361, 0.18411, 0.15148, 0.00000]\n",
      "[1,   200] losses: [0.69371, 0.16882, 0.11278, 0.00000]\n",
      "[2,   100] losses: [0.69439, 0.01469, 0.00540, 0.00000]\n",
      "[2,   200] losses: [0.69328, 0.00303, 0.00107, 0.00000]\n",
      "[3,   100] losses: [0.69327, 0.00104, 0.00036, 0.00000]\n",
      "[3,   200] losses: [0.69327, 0.00065, 0.00023, 0.00000]\n",
      "[4,   100] losses: [0.69325, 0.00038, 0.00013, 0.00000]\n",
      "[4,   200] losses: [0.69327, 0.00028, 0.00010, 0.00000]\n",
      "[5,   100] losses: [0.69325, 0.00020, 0.00007, 0.00000]\n",
      "[5,   200] losses: [0.69327, 0.00016, 0.00005, 0.00000]\n",
      "[6,   100] losses: [0.69325, 0.00012, 0.00004, 0.00000]\n",
      "[6,   200] losses: [0.69327, 0.00010, 0.00003, 0.00000]\n",
      "[7,   100] losses: [0.69325, 0.00008, 0.00003, 0.00000]\n",
      "[7,   200] losses: [0.69327, 0.00007, 0.00002, 0.00000]\n",
      "[8,   100] losses: [0.69325, 0.00005, 0.00002, 0.00000]\n",
      "[8,   200] losses: [0.69327, 0.00005, 0.00002, 0.00000]\n",
      "[9,   100] losses: [0.69325, 0.00004, 0.00001, 0.00000]\n",
      "[9,   200] losses: [0.69327, 0.00004, 0.00001, 0.00000]\n",
      "[10,   100] losses: [0.69325, 0.00003, 0.00001, 0.00000]\n",
      "[10,   200] losses: [0.69327, 0.00003, 0.00001, 0.00000]\n",
      "Finished Training\n"
     ]
    }
   ],
   "source": [
    "# data_loss, not link loss, link loss, risk_factor_loss\n",
    "criterion_wolf2 = ConceptLoss(weight=[1, 0.01, 0.1, 1e-3], mode=4, \n",
    "                              risk_factor=to_var(torch.FloatTensor([0,0,0,0])))\n",
    "optimizer_wolf2 = optim.Adam(net_wolf2.parameters())\n",
    "\n",
    "train3(net_wolf2, trainloader_wolf, criterion_wolf2, optimizer_wolf2, print_every=100, epochs=10)"
   ]
  },
  {
   "cell_type": "code",
   "execution_count": 40,
   "metadata": {
    "collapsed": false,
    "deletable": true,
    "editable": true
   },
   "outputs": [
    {
     "name": "stdout",
     "output_type": "stream",
     "text": [
      "Accuracy of the network on 2000 test images: 49 %\n",
      "Accuracy of the network on 8000 train images: 49 %\n"
     ]
    }
   ],
   "source": [
    "show_acc(net_wolf2, testloader_wolf, 'test')\n",
    "show_acc(net_wolf2, trainloader_wolf, 'train')"
   ]
  },
  {
   "cell_type": "code",
   "execution_count": 41,
   "metadata": {
    "collapsed": false,
    "deletable": true,
    "editable": true
   },
   "outputs": [
    {
     "name": "stdout",
     "output_type": "stream",
     "text": [
      "weight: [0.10, -0.21, -0.04, -0.05]\n"
     ]
    },
    {
     "data": {
      "image/png": "[encoded data removed]",
      "text/plain": [
       "<matplotlib.figure.Figure at 0x7fe28857b6a0>"
      ]
     },
     "metadata": {},
     "output_type": "display_data"
    },
    {
     "name": "stdout",
     "output_type": "stream",
     "text": [
      "output 0: [0.50, 0.50]\n",
      "output 1: [0.50, 0.50]\n",
      "output 2: [0.50, 0.50]\n",
      "output 3: [0.50, 0.50]\n",
      "output 4: [0.50, 0.50]\n",
      "output 5: [0.50, 0.50]\n",
      "output 6: [0.50, 0.50]\n",
      "output 7: [0.50, 0.50]\n",
      "output 8: [0.50, 0.50]\n",
      "output 9: [0.50, 0.50]\n"
     ]
    }
   ],
   "source": [
    "x1 = x\n",
    "c, a, o, v = net_wolf2(to_var(x1))\n",
    "W = net_wolf2.classifier.weight\n",
    "\n",
    "weight = (W[1] - W[0]).data.numpy()\n",
    "print('weight:', formatFloatList(weight,2))\n",
    "plotAttn(a, x1, c)\n",
    "for i, r in enumerate(net.sm(o).data.numpy()):\n",
    "    print('output %d:' % i, formatFloatList(r, 2))\n"
   ]
  },
  {
   "cell_type": "code",
   "execution_count": 42,
   "metadata": {
    "collapsed": false,
    "deletable": true,
    "editable": true
   },
   "outputs": [
    {
     "name": "stdout",
     "output_type": "stream",
     "text": [
      "weight: [0.10, -0.21, -0.04, -0.05]\n"
     ]
    },
    {
     "data": {
      "image/png": "[encoded data removed]",
      "text/plain": [
       "<matplotlib.figure.Figure at 0x7fe354cdbfd0>"
      ]
     },
     "metadata": {},
     "output_type": "display_data"
    },
    {
     "name": "stdout",
     "output_type": "stream",
     "text": [
      "output 0: [0.50, 0.50]\n",
      "output 1: [0.50, 0.50]\n",
      "output 2: [0.50, 0.50]\n",
      "output 3: [0.50, 0.50]\n",
      "output 4: [0.50, 0.50]\n",
      "output 5: [0.50, 0.50]\n"
     ]
    }
   ],
   "source": [
    "x1 = torch.LongTensor([[1,1,1,0,0,0,0,0,3],\n",
    "                       [1,1,1,0,0,0,0,0,0],                       \n",
    "                       [0,0,0,0,0,0,0,0,2],\n",
    "                       [0,1,0,0,0,0,0,0,3],                       \n",
    "                       [1,0,0,0,0,0,0,0,3],                            \n",
    "                       [1,0,0,0,0,0,0,1,3],                                                   \n",
    "                      ])\n",
    "\n",
    "c, a, o, v = net_wolf2(to_var(x1))\n",
    "W = net_wolf2.classifier.weight\n",
    "\n",
    "weight = (W[1] - W[0]).data.numpy()\n",
    "print('weight:', formatFloatList(weight,2))\n",
    "plotAttn(a, x1, c)\n",
    "for i, r in enumerate(net.sm(o).data.numpy()):\n",
    "    print('output %d:' % i, formatFloatList(r, 2))\n"
   ]
  },
  {
   "cell_type": "markdown",
   "metadata": {
    "deletable": true,
    "editable": true
   },
   "source": [
    "# Remaining issues and next steps\n",
    "\n",
    "1. add more classes, more noise\n",
    "2. can we do per case penalty? yes we should be able to do: do this by really setting unwanted concept \n",
    "3. add in spatial information in attention\n",
    "4. try on image dataset (CIFAR10 or any pixel level annotation dataset)\n",
    "\n",
    "## an important question: How to fix interpretation error once the model is learned?\n",
    "\n",
    "So with ILAN we easily spot confounding, but can we fix confounding? Without retraining from scratch?\n",
    "\n",
    "I hypothesis we can by adding a backdoor path (uninterpretable neuron network) that are initially constrained to not to be used, but after we identify a problem in the interpretable network, we can use the uninterpretable network to absorb to huge loss in trying to remedy for interpretable one.\n",
    "\n",
    "**This requires the network to predict the amount of benefit to be unlocked and allocate this weight to let the network go backward and refine its decision!**"
   ]
  },
  {
   "cell_type": "code",
   "execution_count": null,
   "metadata": {
    "collapsed": true,
    "deletable": true,
    "editable": true
   },
   "outputs": [],
   "source": []
  }
 ],
 "metadata": {
  "kernelspec": {
   "display_name": "Python 3",
   "language": "python",
   "name": "python3"
  },
  "language_info": {
   "codemirror_mode": {
    "name": "ipython",
    "version": 3
   },
   "file_extension": ".py",
   "mimetype": "text/x-python",
   "name": "python",
   "nbconvert_exporter": "python",
   "pygments_lexer": "ipython3",
   "version": "3.5.2"
  }
 },
 "nbformat": 4,
 "nbformat_minor": 2
}
