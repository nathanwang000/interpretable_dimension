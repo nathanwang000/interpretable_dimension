{
 "cells": [
  {
   "cell_type": "raw",
   "metadata": {},
   "source": [
    "# Minimal Viable Example: Colorful Shape Kingdom"
   ]
  },
  {
   "cell_type": "markdown",
   "metadata": {},
   "source": [
    "Some thoughts on the challenges of Interpretable Dimension\n",
    "\n",
    "## What does ID solve?\n",
    "\n",
    "Turn a non linear classifier into a linear classifier with interpretable concepts. Successfully done, ID will point out important concepts in the classifier for making the decision. \n",
    "\n",
    "## How do we evaluate ID?\n",
    "\n",
    "The main comparison is with visualization techniques to uncover the meaning of individual neuron. Being able to identify important concepts will help us 1) identify confounders (confounders are not likely directly represented by individual neurons) 2) compress network (remove duplicate links)? 3) transfer learned concept detector to other tasks (evaluate whether concepts can transfer) \n",
    "\n",
    "## Assumptions?\n",
    "\n",
    "1. There is a linear relationship between output and concepts\n",
    "2. Concepts are represented in the pretrained network\n",
    "\n",
    "## Issues?\n",
    "\n",
    "1. How do we know assumption 1 is met? If the unknown concepts have large coefficients\n",
    "2. How do we know assumption 2 is met? We can measure the concepts' interpretability score\n",
    "\n",
    "## User Interface?\n",
    "\n",
    "Give me the model you want to explain: (user input)\n",
    "\n",
    "Give me a list of concepts (concept directory): (user input)\n",
    "\n",
    "The following concepts are not recognized by the network: (computer output, based on interpretability score)\n",
    "\n",
    "Do you want to set up unrecognized concepts as auxiliary task?: (user input)\n",
    "\n",
    "Do you want to proceed with the recognized concepts?: (user input)\n",
    "\n",
    "Using the recognized concepts, we have the following explanation: \n",
    "(computer output: e.g. out of all recognized concepts, red triangle has the highest weight of 0.5, the unknown concepts (do PCA on them so that data are decorrelated) has the highest weigt of 0.9, thus we don't recommend using our explanation)\n",
    "\n",
    "## Degenerative issues\n",
    "\n",
    "Since we are doing change of basis, we must make sure the basis matrix is invertible. There could be multiple points in the current implementation that violate this assumption.\n",
    "\n",
    "1. in solving for least square regression, the learned vector could be a linear combination of previous directions, in this case, we should just give it an arbitrary direction\n",
    "\n",
    "\n",
    "The main reason for not orthogonal is that the last dimension usually gives theta very close to 0. So solution is to give an arbitrary dimension and then orthogonize. It is also very important to let theta have unit length at the begining to prevent numerical issues."
   ]
  },
  {
   "cell_type": "markdown",
   "metadata": {},
   "source": [
    "# Essay on Interpretability\n",
    "\n",
    "Interpretability is tricky. It's one of those things that you can recognize, but are hard to define. If we cannot formalize what interpretability is, there's no interpretable algorithm. Thus, the core of the subject lies in arguing its definition.\n",
    "\n",
    "To claim a model is interpretable, one must link concepts from the the model to concepts that are understandable. For example, the weight of a predictor in a linear model maps naturally to the interpretation of the change in outcome if the covariate is increased by 1 unit. Another example is a decision tree, each spliting on a variable maps to an if clause in programming. The tricky thing about a black box model is that its internal concepts are opaque from those used by us humans, that is the translation from a machine concept to a human concept does not exist. In this work, we focus on the translation of neural network concept.\n",
    "\n",
    "The traditional method has been to look at what an individual neuron means. There has been some success in this attempt, for example, we've learned that a lot of neurons in CNN correspond to object part detectors. However, for a lot more neurons, we still don't understand what's their purpose, sometimes due to the compression of a lot of concepts, somtimes due to lack of vocabulary to describe their concepts.\n",
    "\n",
    "The insight of this paper is the realization that the translation process does not have to be a one party effort. The machine should actively search its expressable concept space to match concepts of our own. For example, each neuron is just one direction in the representation space, we would be crazy to expect it to be interpretable as if we should expect half banana and half dog to exist in real life.  Of course, the implicit assumption we made here is that there is a common language spoken by both human and machine, without it, there's nothing we can do."
   ]
  },
  {
   "cell_type": "code",
   "execution_count": 568,
   "metadata": {},
   "outputs": [],
   "source": [
    "import itertools\n",
    "import matplotlib.pyplot as plt\n",
    "import numpy as np\n",
    "import os, math\n",
    "import matplotlib.image as mpimg\n",
    "import glob, torch\n",
    "import matplotlib as mpl\n",
    "import torch.nn as nn\n",
    "import torch.nn.functional as F\n",
    "from torch.autograd import Variable\n",
    "from skimage import io\n",
    "from torchvision import transforms\n",
    "from torch.utils.data import Dataset, DataLoader\n",
    "from torchvision import transforms, utils\n",
    "from torch.utils.data.sampler import SubsetRandomSampler, RandomSampler\n",
    "import torch.optim as optim\n",
    "import copy\n",
    "from sklearn.decomposition import PCA\n",
    "import seaborn as sns"
   ]
  },
  {
   "cell_type": "code",
   "execution_count": 2,
   "metadata": {},
   "outputs": [],
   "source": [
    "def to_var(x, *args, **kwargs):\n",
    "    if type(x) is list or type(x) is tuple:\n",
    "        x = [Variable(x_, *args, **kwargs) for x_ in x]\n",
    "    else:\n",
    "        x = Variable(x, *args, **kwargs)\n",
    "    return x"
   ]
  },
  {
   "cell_type": "markdown",
   "metadata": {},
   "source": [
    "## Meet Our Data: Shape x Color"
   ]
  },
  {
   "cell_type": "markdown",
   "metadata": {},
   "source": [
    "Assume we live in a colorful geometric world. All we know are colors and shapes.\n",
    "\n",
    "In fact, we only know red and green colors, with square or triangle shape as shown below."
   ]
  },
  {
   "cell_type": "code",
   "execution_count": 3,
   "metadata": {},
   "outputs": [
    {
     "data": {
      "image/png": "[encoded data removed]",
      "text/plain": [
       "<matplotlib.figure.Figure at 0x7f3eca7ffa58>"
      ]
     },
     "metadata": {},
     "output_type": "display_data"
    }
   ],
   "source": [
    "def gen_shape(shape, tx=0, ty=0, c='r', s=0.6, r=0):\n",
    "    if shape == 'circle':\n",
    "        shapelet = plt.Circle((tx, ty), radius=s, fc=c)\n",
    "    elif shape == 'rectangle1':\n",
    "        shapelet = plt.Rectangle((tx-0.5*s, ty-s), s, 2*s, fc=c)\n",
    "    elif shape == 'rectangle2':\n",
    "        shapelet = plt.Rectangle((tx-s, ty-0.5*s), 2*s, s, fc=c)\n",
    "    elif shape == 'square':\n",
    "        shapelet = plt.Rectangle((tx-s, ty-s), 2*s, 2*s, fc=c)\n",
    "    elif shape == 'triangle' or shape == 'triangle1':\n",
    "        points = [[tx-s, ty-s], [tx+s, ty-s], [tx+s, ty+s]]\n",
    "        shapelet = plt.Polygon(points, fc=c)\n",
    "    elif shape == 'triangle2':\n",
    "        points = [[tx-s, ty-s], [tx+s, ty-s], [tx-s, ty+s]]\n",
    "        shapelet = plt.Polygon(points, fc=c)\n",
    "    elif shape == 'triangle3':\n",
    "        points = [[tx-s, ty-s], [tx+s, ty-s], [tx, ty+s]]\n",
    "        shapelet = plt.Polygon(points, fc=c)\n",
    "    elif shape == 'pentagon':\n",
    "        c1 = 1 / 4 * (math.sqrt(5) - 1)\n",
    "        c2 = 1 / 4 * (math.sqrt(5) + 1)\n",
    "        s1 = 1 / 4 * (math.sqrt(10 + 2 * math.sqrt(5)))\n",
    "        s2 = 1 / 4 * (math.sqrt(10 - 2 * math.sqrt(5)))\n",
    "        points = [[0,1], [s1, c1], [s2, -c2], [-s2, -c2], [-s1, c1]]\n",
    "        # scale down and translate these points\n",
    "        points = list(map(lambda p: [p[0]*s + tx, p[1]*s + ty], points))\n",
    "        shapelet = plt.Polygon(points, fc=c)\n",
    "\n",
    "    rotate = mpl.transforms.Affine2D().rotate_deg(r) + plt.gca().transData\n",
    "    shapelet.set_transform(rotate)\n",
    "    \n",
    "    return shapelet\n",
    "\n",
    "def plot_shape(shapelet, axis='off', name=\"\", xlim=(-1,1), ylim=(-1,1)):\n",
    "    plt.gca().add_patch(shapelet)\n",
    "    plt.axis('scaled')\n",
    "    plt.xlim(*xlim)\n",
    "    plt.ylim(*ylim)\n",
    "    if axis is 'off':\n",
    "        plt.gca().set_axis_off()\n",
    "    if name is not \"\":\n",
    "        basename = 'color_shape_combined/'\n",
    "        fig_name = basename + \"_\".join(name.split(\" \")) + \".png\"\n",
    "        dirname = os.path.dirname(fig_name)\n",
    "        if not os.path.exists(dirname):\n",
    "            os.makedirs(dirname)\n",
    "        plt.savefig(fig_name)\n",
    "        plt.close()\n",
    "\n",
    "plt.subplot('141')\n",
    "rs = gen_shape('square', c='r')\n",
    "plot_shape(rs)\n",
    "\n",
    "plt.subplot('142')\n",
    "gs = gen_shape('square', c='g')\n",
    "plot_shape(gs)\n",
    "\n",
    "plt.subplot('143')\n",
    "rt = gen_shape('triangle', c='r')\n",
    "plot_shape(rt)\n",
    "\n",
    "plt.subplot('144')\n",
    "gt = gen_shape('triangle', c='g')\n",
    "plot_shape(gt)\n",
    "plt.show()"
   ]
  },
  {
   "cell_type": "markdown",
   "metadata": {},
   "source": [
    "In this world, we only care about triangles and their colors. That is we only have two target classes to distinguish: red triangle (RT) vs. green triangle (GT). However, instead of having pictures of triangles alone, squares love to hangout with triangles, so we have training images like these: "
   ]
  },
  {
   "cell_type": "code",
   "execution_count": 744,
   "metadata": {},
   "outputs": [
    {
     "data": {
      "image/png": "[encoded data removed]",
      "text/plain": [
       "<matplotlib.figure.Figure at 0x7f6cffe0fe80>"
      ]
     },
     "metadata": {},
     "output_type": "display_data"
    }
   ],
   "source": [
    "rs = gen_shape('square', c='r')\n",
    "gs = gen_shape('square', c='g')\n",
    "rt = gen_shape('triangle', c='r')\n",
    "gt = gen_shape('triangle', c='g')\n",
    "\n",
    "def put_shapes(s1, s2, transform1, transform2, axis='off', name=\"\"):\n",
    "    # assume both s1 and s2 are in range(-1,1)    \n",
    "    s1.set_transform(transform1)\n",
    "    s2.set_transform(transform2)\n",
    "    \n",
    "    plt.gca().add_patch(s1)\n",
    "    plt.gca().add_patch(s2)\n",
    "    plt.axis('scaled')\n",
    "    plt.xlim(-2, 2)\n",
    "    plt.ylim(-2, 2)    \n",
    "    if axis == 'off':\n",
    "        plt.axis('off')\n",
    "    \n",
    "    if name is not \"\":\n",
    "        basename = 'color_shape_combined/'\n",
    "        if not os.path.exists(basename):\n",
    "            os.makedirs(basename)\n",
    "        plt.savefig(basename + \"_\".join(name.split(\" \")) + \".png\", bbox_inches='tight')\n",
    "        plt.close()\n",
    "\n",
    "def put_up_down(s1, s2, axis='off', name=\"\"):\n",
    "    up = mpl.transforms.Affine2D().translate(0, 1)  + plt.gca().transData\n",
    "    down = mpl.transforms.Affine2D().translate(0, -1)  + plt.gca().transData\n",
    "    put_shapes(s1, s2, up, down, axis, name)\n",
    "\n",
    "def put_left_right(s1, s2, axis='off', name=\"\"):\n",
    "    left = mpl.transforms.Affine2D().translate(-1, 0)  + plt.gca().transData\n",
    "    right = mpl.transforms.Affine2D().translate(1, 0)  + plt.gca().transData\n",
    "    put_shapes(s1, s2, left, right, axis, name)\n",
    "\n",
    "axis = 'on'\n",
    "for i, (scolor, tcolor, order) in enumerate(itertools.product(['r','g'], ['r','g'], \n",
    "                                                              ['u','d','l','r'])):\n",
    "    plt.subplot(4,4,i+1)\n",
    "    plt.title(tcolor)\n",
    "    if order is 'u':\n",
    "        put_up_down(gen_shape('triangle', c=tcolor), \n",
    "                    gen_shape('square', c=scolor), axis)\n",
    "    elif order is 'd':\n",
    "        put_up_down(gen_shape('square', c=scolor), \n",
    "                    gen_shape('triangle', c=tcolor), axis)\n",
    "    elif order is 'l':\n",
    "        put_left_right(gen_shape('triangle', c=tcolor), \n",
    "                       gen_shape('square', c=scolor), axis)\n",
    "    elif order is 'r':\n",
    "        put_left_right(gen_shape('square', c=scolor), \n",
    "                       gen_shape('triangle', c=tcolor), axis)\n",
    "    \n",
    "plt.tight_layout()\n",
    "plt.show()\n",
    "\n"
   ]
  },
  {
   "cell_type": "markdown",
   "metadata": {},
   "source": [
    "of course there's ton of small noises in the dataset"
   ]
  },
  {
   "cell_type": "markdown",
   "metadata": {},
   "source": [
    "### generate dataset"
   ]
  },
  {
   "cell_type": "code",
   "execution_count": 184,
   "metadata": {},
   "outputs": [
    {
     "name": "stdout",
     "output_type": "stream",
     "text": [
      "single shape datasize: 32\n"
     ]
    }
   ],
   "source": [
    "shapes = ['square', 'triangle1']\n",
    "colors = ['r', 'g']\n",
    "rotations = [-10, 10]\n",
    "trans_x = [-0.3, 0.3]\n",
    "trans_y = trans_x\n",
    "scales = [0.3, 0.6]\n",
    "total_count = len(colors) * len(rotations) * len(trans_x) * len(trans_y) * len(scales)\n",
    "print('single shape datasize: %d' % total_count)"
   ]
  },
  {
   "cell_type": "code",
   "execution_count": 187,
   "metadata": {},
   "outputs": [
    {
     "name": "stdout",
     "output_type": "stream",
     "text": [
      "progress 0\n",
      "progress 1000\n",
      "progress 2000\n",
      "progress 3000\n",
      "progress 4000\n"
     ]
    }
   ],
   "source": [
    "dirname = 'original_size/'\n",
    "for i, (stx, ttx, sty, tty, scolor,\\\n",
    "        tcolor, ss, ts, sr, tr, order) in enumerate(itertools.product(trans_x, trans_x,                                                                                                 trans_y, trans_y,\n",
    "                                                                      colors, colors,\n",
    "                                                                      scales, scales,\n",
    "                                                                      rotations, rotations,\n",
    "                                                                      ['u','d','l','r'])):\n",
    "    \n",
    "    if i % 1000 == 0:\n",
    "        print('progress', i)\n",
    "    y = tcolor\n",
    "    tname = \"triangle r: %d c: %s tr: (%.1f %.1f) s: %.1f\" % (tr, tcolor, ttx, tty, ts) \n",
    "    sname = \"square r: %d c: %s tr: (%.1f %.1f) s: %.1f\" % (sr, scolor, stx, sty, ss) \n",
    "\n",
    "    if order is 'u':\n",
    "        put_up_down(gen_shape('triangle', ttx, tty, tcolor, ts, tr), \n",
    "                    gen_shape('square', stx, sty, scolor, ss, sr), name=dirname + 'u ' + sname + tname)\n",
    "    elif order is 'd':\n",
    "        put_up_down(gen_shape('square', stx, sty, scolor, ss, sr), \n",
    "                    gen_shape('triangle', ttx, tty, tcolor, ts, tr), name=dirname + 'd ' + sname + tname)\n",
    "    elif order is 'l':\n",
    "        put_left_right(gen_shape('triangle', ttx, tty, tcolor, ts, tr), \n",
    "                       gen_shape('square', stx, sty, scolor, ss, sr), name=dirname + 'l ' + sname + tname)\n",
    "    elif order is 'r':\n",
    "        put_left_right(gen_shape('square', stx, sty, scolor, ss, sr), \n",
    "                       gen_shape('triangle', ttx, tty, tcolor, ts, tr), name=dirname + 'r ' + sname + tname)\n"
   ]
  },
  {
   "cell_type": "markdown",
   "metadata": {},
   "source": [
    "The default resolution is too high, convert it to some lower resolution (47 x 50) with the following bash command\n",
    "\n",
    "```bash\n",
    "mkdir -p color_shape_combined/original_size/resized\n",
    "\n",
    "cd color_shape_combined/original_size\n",
    "\n",
    "find . -maxdepth 1 -iname \"*.png\" | xargs -L1 -I{} convert -resize 47x50! \"{}\" resized/\"{}\"\n",
    "\n",
    "cd ../..\n",
    "```"
   ]
  },
  {
   "cell_type": "code",
   "execution_count": 191,
   "metadata": {
    "scrolled": false
   },
   "outputs": [
    {
     "data": {
      "image/png": "[encoded data removed]",
      "text/plain": [
       "<matplotlib.figure.Figure at 0x7f6caccde358>"
      ]
     },
     "metadata": {},
     "output_type": "display_data"
    }
   ],
   "source": [
    "def plot_figures_dir(dirname, top=9):\n",
    "    side = math.ceil(math.sqrt(top))\n",
    "    for i, fn in enumerate(glob.glob(dirname)[:top]):\n",
    "        img=mpimg.imread(fn)\n",
    "        plt.subplot(side, side, i+1)\n",
    "        imgplot = plt.imshow(img)\n",
    "        plt.axis('off')\n",
    "\n",
    "plot_figures_dir(\"color_shape_combined/original_size/resized/*\")\n",
    "plt.tight_layout()\n",
    "plt.show()"
   ]
  },
  {
   "cell_type": "markdown",
   "metadata": {},
   "source": [
    "### generate explanation dataset: slight variations from the original dataset"
   ]
  },
  {
   "cell_type": "code",
   "execution_count": 178,
   "metadata": {},
   "outputs": [
    {
     "name": "stdout",
     "output_type": "stream",
     "text": [
      "generating red_square with 100\n",
      "generating red_triangle with 100\n",
      "generating green_square with 100\n",
      "generating green_triangle with 100\n"
     ]
    }
   ],
   "source": [
    "concepts = ['red_square', 'red_triangle', 'green_square', 'green_triangle']\n",
    "n_examples = 100\n",
    "dirname = 'concepts/'\n",
    "for c in concepts:\n",
    "    print('generating %s with %d' % (c, n_examples))\n",
    "    color, shape = c.split('_')\n",
    "    \n",
    "    for i in range(n_examples):\n",
    "        shapelet = gen_shape(shape, \n",
    "                             tx=np.random.uniform(-1.5,1.5), \n",
    "                             ty=np.random.uniform(-1.5,1.5), c=color, \n",
    "                             s=np.random.choice([0.6,0.3]), \n",
    "                             r=np.random.uniform(-10,10))\n",
    "        plot_shape(shapelet, xlim=(-2,2), ylim=(-2,2), name=dirname + c+'/%d' % i)    "
   ]
  },
  {
   "cell_type": "markdown",
   "metadata": {},
   "source": [
    "again we need to resize\n",
    "\n",
    "```bash\n",
    "cd color_shape_combined\n",
    "\n",
    "for fn in concepts/*\n",
    "do \n",
    "   cd $fn\n",
    "   mkdir -p resized\n",
    "   find . -maxdepth 1 -iname \"*.png\" | xargs -L1 -I{} convert -resize 47x50! \"{}\" resized/\"{}\"\n",
    "   cd -\n",
    "done\n",
    "\n",
    "cd ../..\n",
    "```"
   ]
  },
  {
   "cell_type": "code",
   "execution_count": 188,
   "metadata": {},
   "outputs": [
    {
     "data": {
      "image/png": "[encoded data removed]",
      "text/plain": [
       "<matplotlib.figure.Figure at 0x7f6cac8b7898>"
      ]
     },
     "metadata": {},
     "output_type": "display_data"
    }
   ],
   "source": [
    "plot_figures_dir(\"color_shape_combined/concepts/red_triangle/resized/*\", 4)\n",
    "plt.tight_layout()\n",
    "plt.show()"
   ]
  },
  {
   "cell_type": "markdown",
   "metadata": {},
   "source": [
    "load into dataloader\n",
    "## running model starts here"
   ]
  },
  {
   "cell_type": "code",
   "execution_count": 4,
   "metadata": {},
   "outputs": [],
   "source": [
    "def red_triangle(image_name):\n",
    "    return image_name.split('/')[-1].split('_')[14] == 'r'\n",
    "\n",
    "def green_triangle(image_name):\n",
    "    return image_name.split('/')[-1].split('_')[14] == 'g'\n",
    "\n",
    "def red_square(image_name):\n",
    "    return image_name.split('/')[-1].split('_')[5] == 'r'\n",
    "\n",
    "def green_square(image_name):\n",
    "    return image_name.split('/')[-1].split('_')[5] == 'g'\n",
    "\n",
    "\n",
    "class ColorShapeDataset(Dataset):\n",
    "    \n",
    "    def __init__(self, root_dir, pos_criteria=red_triangle,transform=None):\n",
    "        \"\"\"\n",
    "        Args:\n",
    "            root_dir (string): Directory with all the images.\n",
    "            pos_criteria: criteria for being considered to be positive, input is image name\n",
    "            transform (callable, optional): Optional transform to be applied\n",
    "                on a sample.\n",
    "        \"\"\"\n",
    "        self.root_dir = root_dir\n",
    "        self.transform = transform\n",
    "        self.image_names = glob.glob(root_dir + '/*.png')\n",
    "        self.pos_criteria = pos_criteria\n",
    "\n",
    "    def __len__(self):\n",
    "        return len(self.image_names)\n",
    "\n",
    "    def __getitem__(self, idx):\n",
    "        image_name = self.image_names[idx]\n",
    "        image = io.imread(image_name)\n",
    "        \n",
    "        y = self.pos_criteria(image_name)\n",
    "\n",
    "        if self.transform:\n",
    "            image = self.transform(image)\n",
    "\n",
    "        return image, y"
   ]
  },
  {
   "cell_type": "markdown",
   "metadata": {},
   "source": [
    "define train set and test set"
   ]
  },
  {
   "cell_type": "code",
   "execution_count": 16,
   "metadata": {},
   "outputs": [],
   "source": [
    "train_portion = 0.8\n",
    "\n",
    "color_shape_data = ColorShapeDataset('color_shape_combined/original_size/resized/', \n",
    "                                     red_triangle,\n",
    "                                     transforms.Compose([transforms.ToTensor()]))\n",
    "dataset_size = len(color_shape_data)\n",
    "splitpoint = math.floor(train_portion*dataset_size)\n",
    "\n",
    "iter_order = np.random.permutation(dataset_size)\n",
    "train_subset = iter_order[:splitpoint]\n",
    "test_subset = iter_order[splitpoint:]"
   ]
  },
  {
   "cell_type": "code",
   "execution_count": 17,
   "metadata": {},
   "outputs": [
    {
     "name": "stdout",
     "output_type": "stream",
     "text": [
      "labels \n",
      " 0\n",
      " 0\n",
      " 1\n",
      " 1\n",
      "[torch.LongTensor of size 4]\n",
      "\n"
     ]
    },
    {
     "data": {
      "image/png": "[encoded data removed]",
      "text/plain": [
       "<matplotlib.figure.Figure at 0x7f3eca763ef0>"
      ]
     },
     "metadata": {},
     "output_type": "display_data"
    }
   ],
   "source": [
    "# Helper function to show a batch\n",
    "def show_tensor_batch(sample_batched):\n",
    "    \"\"\"Show image for a batch of samples.\"\"\"\n",
    "    images_batch, y = sample_batched\n",
    "    batch_size = len(images_batch)\n",
    "\n",
    "    grid = utils.make_grid(images_batch)\n",
    "    plt.imshow(grid.numpy().transpose((1, 2, 0)))\n",
    "    \n",
    "color_shape_dataloader = DataLoader(color_shape_data, batch_size=4, \n",
    "                                    sampler=SubsetRandomSampler(train_subset),\n",
    "                                    num_workers=1)\n",
    "\n",
    "for x, y in color_shape_dataloader:\n",
    "    show_tensor_batch((x,y))\n",
    "    print('labels', y)\n",
    "    plt.show()\n",
    "    break"
   ]
  },
  {
   "cell_type": "markdown",
   "metadata": {},
   "source": [
    "## Meet Our Model: CNN, the last layer has only 4 neurons"
   ]
  },
  {
   "cell_type": "code",
   "execution_count": 18,
   "metadata": {},
   "outputs": [],
   "source": [
    "class Net(nn.Module):\n",
    "    def __init__(self, num_class):\n",
    "        super(Net, self).__init__()\n",
    "        self.feature = nn.Sequential(\n",
    "            nn.Conv2d(3,6,5),\n",
    "            nn.ReLU(inplace=True),\n",
    "            nn.MaxPool2d(2,2),\n",
    "            \n",
    "            nn.Conv2d(6,10,5),\n",
    "            nn.ReLU(inplace=True),\n",
    "            nn.MaxPool2d(2,2),\n",
    "        )\n",
    "        \n",
    "        self.classifier = nn.Sequential(\n",
    "            nn.Linear(10 * 8 * 9, 4),\n",
    "            nn.ReLU(inplace=True),\n",
    "            nn.Linear(4, num_class),            \n",
    "        )\n",
    "\n",
    "    def forward(self, x):\n",
    "        out = self.feature(x).view(x.size(0), 10*8*9)\n",
    "        return self.classifier(out)\n",
    "\n",
    "net = Net(2)\n",
    "\n",
    "trainloader = DataLoader(color_shape_data, batch_size=32, \n",
    "                         sampler=SubsetRandomSampler(train_subset),\n",
    "                         num_workers=1)\n",
    "testloader = DataLoader(color_shape_data, batch_size=32, \n",
    "                        sampler=SubsetRandomSampler(test_subset),\n",
    "                        num_workers=1)\n"
   ]
  },
  {
   "cell_type": "code",
   "execution_count": 19,
   "metadata": {},
   "outputs": [],
   "source": [
    "criterion = nn.CrossEntropyLoss()\n",
    "optimizer = optim.Adam(net.parameters())\n",
    "\n",
    "def train(net, trainloader, criterion, optimizer, print_every=10, epochs=2):\n",
    "\n",
    "    for epoch in range(epochs):  # loop over the dataset multiple times\n",
    "\n",
    "        running_loss = 0.0\n",
    "        for i, data in enumerate(trainloader, 0):\n",
    "            # get the inputs\n",
    "            inputs, labels = data\n",
    "\n",
    "            # zero the parameter gradients\n",
    "            optimizer.zero_grad()\n",
    "\n",
    "            # forward + backward + optimize\n",
    "            outputs = net(Variable(inputs))\n",
    "            loss = criterion(outputs, to_var(labels))\n",
    "            loss.backward()\n",
    "            optimizer.step()\n",
    "\n",
    "            # print statistics\n",
    "            running_loss += loss.data[0]\n",
    "            if i % print_every == (print_every-1): \n",
    "                print('[%d, %5d] loss: %.10f' %\n",
    "                      (epoch + 1, i + 1, running_loss / 2000))\n",
    "                running_loss = 0.0\n",
    "\n",
    "    print('Finished Training')\n",
    "    "
   ]
  },
  {
   "cell_type": "code",
   "execution_count": 68,
   "metadata": {},
   "outputs": [
    {
     "name": "stdout",
     "output_type": "stream",
     "text": [
      "[1,    10] loss: 0.0006437423\n",
      "[1,    20] loss: 0.0005238393\n",
      "[1,    30] loss: 0.0006311071\n",
      "[1,    40] loss: 0.0004860946\n",
      "[1,    50] loss: 0.0004074358\n",
      "[1,    60] loss: 0.0004364895\n",
      "[1,    70] loss: 0.0005219233\n",
      "[1,    80] loss: 0.0003082604\n",
      "[1,    90] loss: 0.0003331145\n",
      "[1,   100] loss: 0.0003279001\n",
      "[2,    10] loss: 0.0002677899\n",
      "[2,    20] loss: 0.0002518771\n",
      "[2,    30] loss: 0.0002399656\n",
      "[2,    40] loss: 0.0002165895\n",
      "[2,    50] loss: 0.0002479352\n",
      "[2,    60] loss: 0.0002684831\n",
      "[2,    70] loss: 0.0002570736\n",
      "[2,    80] loss: 0.0001961296\n",
      "[2,    90] loss: 0.0001390852\n",
      "[2,   100] loss: 0.0001489098\n",
      "Finished Training\n"
     ]
    }
   ],
   "source": [
    "train(net, trainloader, criterion, optimizer)"
   ]
  },
  {
   "cell_type": "code",
   "execution_count": 23,
   "metadata": {},
   "outputs": [
    {
     "name": "stdout",
     "output_type": "stream",
     "text": [
      "test:\n"
     ]
    },
    {
     "data": {
      "image/png": "[encoded data removed]",
      "text/plain": [
       "<matplotlib.figure.Figure at 0x7f3ecaa50cc0>"
      ]
     },
     "metadata": {},
     "output_type": "display_data"
    },
    {
     "name": "stdout",
     "output_type": "stream",
     "text": [
      "ground truth \n",
      " 1\n",
      " 0\n",
      " 1\n",
      " 0\n",
      "[torch.LongTensor of size 4]\n",
      "\n",
      "predicted \n",
      " 1\n",
      " 0\n",
      " 1\n",
      " 0\n",
      "[torch.LongTensor of size 4]\n",
      "\n"
     ]
    }
   ],
   "source": [
    "def show_dataloader(loader, net=None, top=4):\n",
    "    dataiter = iter(loader)\n",
    "    image, y = dataiter.next()\n",
    "    show_tensor_batch((image[:top], y[:top]))\n",
    "    plt.show()\n",
    "    print('ground truth', y[:top])\n",
    "    if net is not None:\n",
    "        output = net(Variable(image))\n",
    "        _, predicted = torch.max(output.data, 1)\n",
    "        print('predicted', predicted[:top])\n",
    "\n",
    "print('test:')\n",
    "show_dataloader(testloader, net=net)\n",
    "#print('train:')\n",
    "#show_dataloader(trainloader, net=net)"
   ]
  },
  {
   "cell_type": "code",
   "execution_count": 69,
   "metadata": {},
   "outputs": [
    {
     "name": "stdout",
     "output_type": "stream",
     "text": [
      "Accuracy of the network on 820 test images: 100 %\n",
      "Accuracy of the network on 3276 train images: 100 %\n"
     ]
    }
   ],
   "source": [
    "def show_acc(net, loader, name=\"\"):\n",
    "    correct = 0\n",
    "    total = 0\n",
    "\n",
    "    for data in loader:\n",
    "        images, labels = data\n",
    "        outputs = net(Variable(images))\n",
    "        _, predicted = torch.max(outputs.data, 1)\n",
    "        total += to_var(labels).size(0)\n",
    "        correct += (predicted == labels).sum()\n",
    "\n",
    "    print('Accuracy of the network on %d %s images: %d %%' % (len(loader.sampler), name, 100 * correct / total))\n",
    "\n",
    "show_acc(net, testloader, 'test')\n",
    "show_acc(net, trainloader, 'train')"
   ]
  },
  {
   "cell_type": "markdown",
   "metadata": {},
   "source": [
    "## Explain the Model: W\n",
    "\n",
    "Find the explanation photo that best matches neurons in the model"
   ]
  },
  {
   "cell_type": "code",
   "execution_count": 70,
   "metadata": {},
   "outputs": [
    {
     "data": {
      "image/png": "[encoded data removed]",
      "text/plain": [
       "<matplotlib.figure.Figure at 0x7f3f60bab048>"
      ]
     },
     "metadata": {},
     "output_type": "display_data"
    },
    {
     "name": "stdout",
     "output_type": "stream",
     "text": [
      "ground truth ('color_shape_combined/concepts/green_square/resized/47.png', 'color_shape_combined/concepts/green_square/resized/62.png', 'color_shape_combined/concepts/green_triangle/resized/24.png', 'color_shape_combined/concepts/red_triangle/resized/65.png')\n"
     ]
    }
   ],
   "source": [
    "class ConceptDataset(Dataset):\n",
    "    \n",
    "    def __init__(self, root_dir, transform=None):\n",
    "        \"\"\"\n",
    "        Assumes the root_dir contains directories with the name of the concept\n",
    "        \n",
    "        Args:\n",
    "            root_dir (string): Directory with all the images.\n",
    "            transform (callable, optional): Optional transform to be applied\n",
    "                on a sample.\n",
    "        \"\"\"\n",
    "        self.root_dir = root_dir\n",
    "        self.transform = transform\n",
    "        concept_names = glob.glob(root_dir + '/*')\n",
    "        self.image_names = []\n",
    "        self.labels = []\n",
    "        for concept_dir in concept_names:\n",
    "            image_names = glob.glob(concept_dir + '/resized/*.png')\n",
    "            self.image_names.extend(image_names)\n",
    "            concept_name = concept_dir.split('/')[-1]\n",
    "            self.labels.extend([concept_name] * len(image_names))\n",
    "\n",
    "    def __len__(self):\n",
    "        return len(self.image_names)\n",
    "\n",
    "    def __getitem__(self, idx):\n",
    "        image_name = self.image_names[idx]\n",
    "        image = io.imread(image_name)\n",
    "        \n",
    "        y = self.labels[idx]\n",
    "\n",
    "        if self.transform:\n",
    "            image = self.transform(image)\n",
    "        \n",
    "        return image, image_name\n",
    "    \n",
    "concept_data = ConceptDataset('color_shape_combined/concepts/', \n",
    "                              transform=transforms.Compose([transforms.ToTensor()]))\n",
    "concept_loader = DataLoader(concept_data, batch_size=32, num_workers=4, \n",
    "                            sampler=RandomSampler(concept_data))\n",
    "\n",
    "show_dataloader(concept_loader)"
   ]
  },
  {
   "cell_type": "code",
   "execution_count": 679,
   "metadata": {},
   "outputs": [],
   "source": [
    "def explain(net, concept_loader):\n",
    "    '''explaination in the form of y = sigma(W P P^-1 phi(x))'''\n",
    "    model = copy.deepcopy(net)\n",
    "    model.classifier = nn.Sequential(*list(net.classifier.children())[:-1])\n",
    "    W = list(net.classifier.children())[-1].weight.cpu().data.numpy()\n",
    "    \n",
    "    activation_matrix = []\n",
    "    labels = []\n",
    "    for x, y in concept_loader:\n",
    "        activation_matrix.append(model(Variable(x)).data.cpu().numpy())\n",
    "        labels.extend(y)\n",
    "    activation_matrix = np.vstack(activation_matrix)\n",
    "    return activation_matrix, labels, W\n",
    "\n",
    "def print_result(W, concepts, errors, threshold=0.1, mask=True):\n",
    "    '''assumes binary classification'''\n",
    "    coe = W[1] - W[0]\n",
    "    print('\"*\" postfixed means error < %.4f' % threshold)\n",
    "    print('%15s %10s %10s' % ('concepts', 'coeff', 'error'))\n",
    "    print('-'*37)\n",
    "    for w, c, e in sorted(zip(coe, concepts, errors), key=lambda x: abs(x[0]), reverse=True):\n",
    "        if e < threshold:\n",
    "            c = c+\"*\"\n",
    "        else:\n",
    "            if mask: c = 'unknown'\n",
    "        print(\"%15s %10.4f %10.4f\" % (c, w, e))   \n",
    "\n",
    "def eval_direction(theta, c, l, A, plot=False, verbose=False):\n",
    "    '''concept c, labels l, activation map A'''\n",
    "    cat = list(map(lambda x: x.split('/')[2], l))\n",
    "    y = np.zeros(len(cat))\n",
    "    y[np.array(cat) == c] = 1\n",
    "    \n",
    "    n, d = A.shape\n",
    "    a = A.dot(theta).ravel()\n",
    "    X = np.vstack([a, np.ones(n)]).T\n",
    "    m, b = np.linalg.lstsq(X, y)[0]\n",
    "    error = np.mean((X.dot(np.array([m,b])) - y)**2)\n",
    "    \n",
    "    if verbose:\n",
    "        print('%s error: %.4f, slope: %+.4f, intercept: %+4f' % (c.ljust(14), error, m, b))        \n",
    "    if plot:\n",
    "        colors = list(map(switch_color, l))\n",
    "        transformed = X.dot(np.array([m,b]))\n",
    "        plt.scatter(transformed, transformed + np.random.random(n), c=colors)\n",
    "        plt.show()\n",
    "    return error, m, b\n",
    "\n",
    "def interpret_direction(t, concepts_list, labels, A):\n",
    "    min_e = 1000\n",
    "    min_c = \"\"\n",
    "    min_m = 0\n",
    "    for c in concepts_list:\n",
    "        e, m, b = eval_direction(t, c, labels, A)\n",
    "        if e < min_e:\n",
    "            min_e = e\n",
    "            min_c = c\n",
    "            min_m = m\n",
    "    return min_e, min_m, min_c \n",
    "    \n",
    "activations, labels, W = explain(net, concept_loader)"
   ]
  },
  {
   "cell_type": "code",
   "execution_count": 683,
   "metadata": {},
   "outputs": [
    {
     "name": "stdout",
     "output_type": "stream",
     "text": [
      "color_shape_combined/concepts/red_square/resized/84.png\n",
      "color_shape_combined/concepts/red_triangle/resized/8.png\n",
      "color_shape_combined/concepts/red_triangle/resized/78.png\n",
      "color_shape_combined/concepts/red_triangle/resized/61.png\n"
     ]
    },
    {
     "data": {
      "image/png": "[encoded data removed]",
      "text/plain": [
       "<matplotlib.figure.Figure at 0x7f3e71713be0>"
      ]
     },
     "metadata": {},
     "output_type": "display_data"
    },
    {
     "name": "stdout",
     "output_type": "stream",
     "text": [
      "coefficeints [-0.57273757  0.32391644  0.42642879 -0.28805149]\n",
      "\n",
      "nueron 0\n",
      "  red_triangle error: 0.1160 sign(slope): -1\n",
      "\n",
      "nueron 1\n",
      "  red_triangle error: 0.1017 sign(slope): 1\n",
      "\n",
      "nueron 2\n",
      "  red_triangle error: 0.1026 sign(slope): 1\n",
      "\n",
      "nueron 3\n",
      "    red_square error: 0.1875 sign(slope): 0\n",
      "\"*\" postfixed means error < 0.1300\n",
      "       concepts      coeff      error\n",
      "-------------------------------------\n",
      "  red_triangle*     0.5727     0.1160\n",
      "  red_triangle*     0.4264     0.1026\n",
      "  red_triangle*     0.3239     0.1017\n",
      "        unknown    -0.2881     0.1875\n",
      "0.126943779619\n"
     ]
    }
   ],
   "source": [
    "for i, idx in enumerate(np.argmax(activations, axis=0)):\n",
    "    fn = labels[idx]\n",
    "    print(fn)\n",
    "    img = mpimg.imread(fn)\n",
    "    plt.subplot(1, 4, i+1)\n",
    "    plt.imshow(img)\n",
    "    plt.axis('off')\n",
    "plt.show()\n",
    "\n",
    "print('coefficeints', W[1] - W[0])\n",
    "\n",
    "# explain\n",
    "plot=False\n",
    "verbose=True\n",
    "min_c = []\n",
    "errors = []\n",
    "theta_list = []\n",
    "for i in range(4):\n",
    "    direction = np.zeros(4)\n",
    "    direction[i] = 1\n",
    "    e, m, c = interpret_direction(direction, concepts_order, labels, activations) \n",
    "    if m < 0:\n",
    "        direction = -direction\n",
    "    theta_list.append(direction)\n",
    "    min_c.append(c)\n",
    "    errors.append(e)\n",
    "    print('\\nnueron %d' % i)\n",
    "    print('%14s error: %.4f sign(slope): %d' % (c, e, np.sign(m)))\n",
    "    \n",
    "P = np.vstack(theta_list).T\n",
    "print_result(W.dot(P), min_c, errors, threshold, mask=True)\n",
    "print(np.mean(errors))\n",
    "\n"
   ]
  },
  {
   "cell_type": "markdown",
   "metadata": {},
   "source": [
    "It seems like the explanation is making sense. Since we are detecting red triangles, we want to discourage green triangle (dimension 3 and 4). However, the high weight on the first 2 dimensions seems troublesome. Detection of green squares seems to hurt the prediction."
   ]
  },
  {
   "cell_type": "code",
   "execution_count": 681,
   "metadata": {},
   "outputs": [
    {
     "data": {
      "image/png": "[encoded data removed]",
      "text/plain": [
       "<matplotlib.figure.Figure at 0x7f3e71770748>"
      ]
     },
     "metadata": {},
     "output_type": "display_data"
    }
   ],
   "source": [
    "def switch_color(image_name):\n",
    "    cat = image_name.split('/')[2]\n",
    "    return {'green_square': 'b', 'green_triangle': 'y', 'red_square': 'r', 'red_triangle': 'k'}[cat]\n",
    "\n",
    "colors = list(map(switch_color, labels))\n",
    "\n",
    "plt.figure(figsize=(10,10))\n",
    "for i in range(4):\n",
    "    plt.subplot(2,2,i+1)\n",
    "    plt.scatter(activations[:, i], activations[:, i] + np.random.random(len(activations[:,i])), c=colors)\n",
    "    plt.title('neuron %d activation' % i)\n",
    "\n",
    "plt.tight_layout()\n",
    "plt.show()"
   ]
  },
  {
   "cell_type": "markdown",
   "metadata": {},
   "source": [
    "## Improve the Explanation: WP"
   ]
  },
  {
   "cell_type": "markdown",
   "metadata": {},
   "source": [
    "### build theta by least square\n",
    "\n",
    "The last plot seems like a good way of quantifying what each neuron is detecting. We essentially want one color dots to concentrate on the high end, and all other color dots to concentrate on the low end. We can quantify this relationship pretty easily by normalize activation to range [0, 1] by solving the following optimization function, given the intend interpertation concept c.\n",
    "\n",
    "$\\min_{\\theta, b} || X\\theta + b -y ||_2$ where $y_i=1$ if $concept(x_i) = c$ else $y_i=0$, and $x_i$ are concepts examples from the concept dataset.\n",
    "\n",
    "To see whether this is a plausible proxy for measuring interpretability of the dimension, let's first confirm our analysis on the previous two plots."
   ]
  },
  {
   "cell_type": "code",
   "execution_count": 682,
   "metadata": {},
   "outputs": [
    {
     "name": "stdout",
     "output_type": "stream",
     "text": [
      "\n",
      "nueron 0\n",
      "red_triangle   error: 0.1160, slope: -0.1050, intercept: +1.086889\n",
      "green_triangle error: 0.1715, slope: +0.0497, intercept: -0.145948\n",
      "red_square     error: 0.1860, slope: +0.0151, intercept: +0.130006\n",
      "green_square   error: 0.1770, slope: +0.0403, intercept: -0.070948\n",
      "\n",
      "nueron 1\n",
      "red_triangle   error: 0.1017, slope: +0.0805, intercept: -0.051105\n",
      "green_triangle error: 0.1537, slope: -0.0506, intercept: +0.439140\n",
      "red_square     error: 0.1805, slope: +0.0231, intercept: +0.163737\n",
      "green_square   error: 0.1503, slope: -0.0530, intercept: +0.448229\n",
      "\n",
      "nueron 2\n",
      "red_triangle   error: 0.1026, slope: +0.0828, intercept: -0.057566\n",
      "green_triangle error: 0.1542, slope: -0.0518, intercept: +0.442545\n",
      "red_square     error: 0.1810, slope: +0.0229, intercept: +0.165120\n",
      "green_square   error: 0.1516, slope: -0.0538, intercept: +0.449902\n",
      "\n",
      "nueron 3\n",
      "red_triangle   error: 0.1875, slope: +0.0000, intercept: +0.250000\n",
      "green_triangle error: 0.1875, slope: +0.0000, intercept: +0.250000\n",
      "red_square     error: 0.1875, slope: +0.0000, intercept: +0.250000\n",
      "green_square   error: 0.1875, slope: +0.0000, intercept: +0.250000\n"
     ]
    }
   ],
   "source": [
    "plot=False\n",
    "verbose=True\n",
    "for i in range(4):\n",
    "    print('\\nnueron %d' % i)\n",
    "    direction = np.zeros(4)\n",
    "    direction[i] = 1\n",
    "    eval_direction(direction, 'red_triangle', labels, activations, plot=plot, verbose=verbose)\n",
    "    eval_direction(direction, 'green_triangle', labels, activations, plot=plot, verbose=verbose)\n",
    "    eval_direction(direction, 'red_square', labels, activations, plot=plot, verbose=verbose)\n",
    "    eval_direction(direction, 'green_square', labels, activations, plot=plot, verbose=verbose)    \n"
   ]
  },
  {
   "cell_type": "markdown",
   "metadata": {},
   "source": [
    "However, with this, we really don't know how or if any of the other concepts contribute to our decision making process."
   ]
  },
  {
   "cell_type": "code",
   "execution_count": 273,
   "metadata": {},
   "outputs": [
    {
     "name": "stdout",
     "output_type": "stream",
     "text": [
      "without orthogonal (concept order independent)\n",
      "red_triangle   error: 0.1012\n",
      "green_triangle error: 0.1480\n",
      "red_square     error: 0.1239\n",
      "green_square   error: 0.1302\n"
     ]
    }
   ],
   "source": [
    "concepts_order = np.array(['red_triangle', 'green_triangle', 'red_square', 'green_square'])\n",
    "\n",
    "def fit_leastsq_concept(c, l, A, plot=False, verbose=False):\n",
    "    '''concept c, labels l, activation map A'''\n",
    "    cat = list(map(lambda x: x.split('/')[2], l))\n",
    "    y = np.zeros(len(cat))\n",
    "    y[np.array(cat) == c] = 1\n",
    "    \n",
    "    n, d = A.shape\n",
    "    A = np.hstack([A, np.ones([n, 1])])\n",
    "    theta = np.linalg.lstsq(A, y)[0]\n",
    "    error = np.mean((A.dot(theta) - y)**2)\n",
    "    \n",
    "    if verbose:\n",
    "        print('%s error: %.4f' % (c.ljust(14), error))\n",
    "    if plot:\n",
    "        colors = list(map(switch_color, l))\n",
    "        transformed = A.dot(theta).ravel()\n",
    "        plt.scatter(transformed, transformed + np.random.random(n), c=colors)\n",
    "        plt.show()\n",
    "    return theta[:-1], error\n",
    "\n",
    "plot, verbose = False, True\n",
    "print('without orthogonal (concept order independent)')\n",
    "for c in concepts_order:\n",
    "    theta, error =  fit_leastsq_concept(c, labels, activations, plot, verbose)"
   ]
  },
  {
   "cell_type": "markdown",
   "metadata": {},
   "source": [
    "So this illustrate a limitation of interpretable dimension, that is if too few interpretable concepts are captured in a model, there's nothing we can do (no magic here).\n",
    "\n",
    "Let's look at how we can build P and look at that interpretation. The way we do that is to iteratively solve for theta and project the data back to an orthogonal plane so that solved theta don't collide with one another."
   ]
  },
  {
   "cell_type": "code",
   "execution_count": 493,
   "metadata": {},
   "outputs": [
    {
     "name": "stdout",
     "output_type": "stream",
     "text": [
      "orthogonized (order dependent)\n",
      "red_triangle   error: 0.1012\n",
      "green_triangle error: 0.1484\n",
      "red_square     error: 0.1861\n",
      "green_square   error: 0.1875\n"
     ]
    }
   ],
   "source": [
    "def check_ortho(theta_list, plot=False, verbose=False):\n",
    "    Q = [t/np.linalg.norm(t) for t in theta_list]\n",
    "    Q = np.vstack(Q).T\n",
    "    error = np.sum(np.abs(Q.T.dot(Q) - np.eye(Q.shape[1])))\n",
    "    if verbose:\n",
    "        print(\"orthogonal check error: \", error)\n",
    "    if plot:\n",
    "        print(Q.T.dot(Q))\n",
    "        plt.matshow(Q.T.dot(Q))\n",
    "        plt.show()\n",
    "    return error\n",
    "    \n",
    "def orthogonize_(theta, prev_theta_list):\n",
    "    '''goal: theta should be orthogonal to all vectors in prev_theta_list'''\n",
    "    theta = theta / np.linalg.norm(theta)\n",
    "    for t in prev_theta_list:\n",
    "        theta = theta - theta.dot(t) / np.dot(t,t) * t \n",
    "    return theta\n",
    "\n",
    "def orthogonize(theta, prev_theta_list, verbose=False):\n",
    "    done = len(prev_theta_list) == 0\n",
    "    while not done:\n",
    "        theta = orthogonize_(theta, prev_theta_list)\n",
    "        #check_ortho(prev_theta_list, plot=False)        \n",
    "        #check_ortho(prev_theta_list + [theta], plot=False)\n",
    "        #print('in middle', theta)\n",
    "        if check_ortho(prev_theta_list + [theta]) > 1e-5:\n",
    "        #if np.linalg.norm(theta) < 1e-10: # give a random direction to theta to theta too close to 0\n",
    "            if verbose:\n",
    "                print('restart a vector')\n",
    "            theta = np.random.randn(len(theta))\n",
    "        else:\n",
    "            done = True\n",
    "        \n",
    "    return theta / np.linalg.norm(theta) # to keep theta in a good range for numerical stability\n",
    "\n",
    "A = copy.deepcopy(activations)\n",
    "errors = []\n",
    "theta_list = []\n",
    "\n",
    "order = [0,1,2,3]\n",
    "for c in concepts_order[order]:\n",
    "    theta, error = fit_leastsq_concept(c, labels, A, plot=False)\n",
    "    \n",
    "    theta = orthogonize(theta, theta_list) # just make sure theta are orthogonal\n",
    "    theta_list.append(theta)\n",
    "    \n",
    "    A = A - np.outer(A.dot(theta).ravel(), theta) / np.dot(theta, theta) # project data down 1 dimension\n",
    "\n",
    "errors = list(map(lambda x: x[0], \n",
    "                  [eval_direction(t,c,labels,activations) \\\n",
    "                   for c, t in zip(concepts_order[order], theta_list)]))\n",
    "print('orthogonized (order dependent)')\n",
    "for c, e in zip(concepts_order[order], errors):\n",
    "    print('%s error: %.4f' % (c.ljust(14), e))    "
   ]
  },
  {
   "cell_type": "code",
   "execution_count": 495,
   "metadata": {},
   "outputs": [
    {
     "name": "stdout",
     "output_type": "stream",
     "text": [
      "coefficient and concepts without normalization\n",
      "\"*\" postfixed means error < 0.1300\n",
      "       concepts      coeff      error\n",
      "-------------------------------------\n",
      "        unknown    -0.7851     0.1861\n",
      "  red_triangle*     0.2731     0.1012\n",
      "        unknown    -0.0616     0.1484\n",
      "        unknown     0.0553     0.1875\n"
     ]
    }
   ],
   "source": [
    "threshold = 0.13\n",
    "P = np.vstack(theta_list).T\n",
    "newW = W.dot(P)\n",
    "\n",
    "print('coefficient and concepts without normalization')\n",
    "print_result(newW, concepts_order[order], errors, threshold, mask=True)"
   ]
  },
  {
   "cell_type": "markdown",
   "metadata": {},
   "source": [
    "let's check are the thetas learned orthogonal."
   ]
  },
  {
   "cell_type": "code",
   "execution_count": 491,
   "metadata": {},
   "outputs": [
    {
     "name": "stdout",
     "output_type": "stream",
     "text": [
      "orthogonal check error:  8.53334078878e-16\n"
     ]
    },
    {
     "data": {
      "text/plain": [
       "8.5333407887828935e-16"
      ]
     },
     "execution_count": 491,
     "metadata": {},
     "output_type": "execute_result"
    }
   ],
   "source": [
    "def ortho_inverse(P):\n",
    "    out = copy.deepcopy(P.T)\n",
    "    div = np.diag(P.T.dot(P))\n",
    "    for i, v in enumerate(div):\n",
    "        out[i] /= v\n",
    "    return out\n",
    "    \n",
    "check_ortho(theta_list, verbose=True)"
   ]
  },
  {
   "cell_type": "markdown",
   "metadata": {},
   "source": [
    "It is very important to normalize activation to have same variance for fair comparison\n",
    "**note: orthogonalize introduces randomness when direction is restarted, a consequence is the sign in eval_direction could be changed, see note in the following cell**"
   ]
  },
  {
   "cell_type": "code",
   "execution_count": 498,
   "metadata": {
    "scrolled": true
   },
   "outputs": [
    {
     "name": "stdout",
     "output_type": "stream",
     "text": [
      "normalizing activation variance\n",
      "\"*\" postfixed means error < 0.1300\n",
      "       concepts      coeff      error\n",
      "-------------------------------------\n",
      "  red_triangle*     3.1576     0.1026\n",
      "        unknown    -0.8323     0.1504\n",
      "        unknown    -0.2525     0.1397\n",
      "        unknown     0.0216     0.1875\n"
     ]
    },
    {
     "data": {
      "text/plain": [
       "9.6318968379157064e-16"
      ]
     },
     "execution_count": 498,
     "metadata": {},
     "output_type": "execute_result"
    }
   ],
   "source": [
    "print('normalizing activation variance')\n",
    "\n",
    "def buildP(A, concepts_list, labels, plot=False, verbose=False, threshold=0.1875/2):\n",
    "\n",
    "    def data_range(A, t):\n",
    "        return A.dot(t/t.dot(t)).ravel().std()\n",
    "\n",
    "    def normalize_theta(A, t):\n",
    "        drange = data_range(A, t)\n",
    "        if drange == 0: # no need to normalize\n",
    "            return t\n",
    "        return t * drange # multiply so that in P^-1 is divide by\n",
    "    \n",
    "    A_backup = copy.deepcopy(A)\n",
    "    theta_list = []\n",
    "\n",
    "    for c in concepts_list:\n",
    "        theta, error = fit_leastsq_concept(c, labels, A, plot=False, verbose=False)\n",
    "        theta = orthogonize(theta, theta_list) # just make sure theta are orthogonal # note: randomness here\n",
    "        theta_list.append(theta)\n",
    "        A = A - np.outer(A.dot(theta).ravel(), theta) / np.sum(theta**2) # project data down 1 dimension\n",
    "\n",
    "    # normalize variance\n",
    "    A = copy.deepcopy(A_backup)\n",
    "    errors = list(map(lambda x: x[0], \n",
    "                      [eval_direction(t, c, labels, A) # note: sign could change here due to restart\n",
    "                       for c, t in zip(concepts_list, theta_list)]))\n",
    "    P = np.vstack(theta_list).T\n",
    "    \n",
    "    # orthogonize unknown data using pca\n",
    "    B = A.dot(ortho_inverse(P).T)\n",
    "    A = []\n",
    "    ind_changed = []\n",
    "    for i in range(len(P)):\n",
    "        if errors[i] >= threshold:\n",
    "            A.append(B[:,i])\n",
    "            ind_changed.append(i)\n",
    "    if len(ind_changed) > 0:\n",
    "        A = np.vstack(A).T\n",
    "        pca = PCA(n_components=A.shape[1])\n",
    "        pca.fit(A)\n",
    "        \n",
    "        P_subset = np.vstack([P[:,i] for i in ind_changed]).T\n",
    "\n",
    "        pca_comp = P_subset.dot(pca.components_.T) # n_comp x d\n",
    "        for i, ind in enumerate(ind_changed):\n",
    "            comp = pca_comp[:,i] \n",
    "            theta_list[ind] = comp\n",
    "\n",
    "    # normalize variance\n",
    "    A = copy.deepcopy(A_backup)\n",
    "    \n",
    "    theta_list = [normalize_theta(A, t) for t in theta_list]\n",
    "    emb = [eval_direction(t, c, labels, A, plot=plot, verbose=verbose)\\\n",
    "           for c, t in zip(concepts_list, theta_list)]    \n",
    "    errors = list(map(lambda x: x[0], emb))\n",
    "    slopes = list(map(lambda x: x[1], emb))\n",
    "    theta_list = list(map(lambda x: x[0] * np.sign(x[1]), zip(theta_list, slopes)))\n",
    "    \n",
    "    P = np.vstack(theta_list).T\n",
    "\n",
    "    return P, errors, theta_list\n",
    "\n",
    "#np.random.seed(1)\n",
    "order = [1,0,2,3]\n",
    "A = copy.deepcopy(activations)\n",
    "P, errors, theta_list = buildP(A, concepts_order[order], labels, threshold=threshold,verbose=False,plot=False)\n",
    "newW = W.dot(P)\n",
    "\n",
    "print_result(newW, concepts_order[order], errors, threshold, mask=True)\n",
    "check_ortho(theta_list)\n"
   ]
  },
  {
   "cell_type": "code",
   "execution_count": 500,
   "metadata": {},
   "outputs": [
    {
     "name": "stdout",
     "output_type": "stream",
     "text": [
      "\"*\" postfixed means error < 0.1300\n",
      "       concepts      coeff      error\n",
      "-------------------------------------\n",
      "        unknown    -3.2708     0.1570\n",
      "  red_triangle*     0.7465     0.1012\n",
      "    red_square*    -0.3128     0.1274\n",
      "        unknown     0.0000     0.1875\n"
     ]
    },
    {
     "data": {
      "text/plain": [
       "1.3568945404944365e-15"
      ]
     },
     "execution_count": 500,
     "metadata": {},
     "output_type": "execute_result"
    }
   ],
   "source": [
    "order = [0,1,2,3]\n",
    "A = copy.deepcopy(activations)\n",
    "P, errors, theta_list = buildP(A, concepts_order[order], labels, threshold=threshold)\n",
    "newW = W.dot(P)\n",
    "print_result(newW, concepts_order[order], errors, threshold, mask=True)\n",
    "check_ortho(theta_list)\n"
   ]
  },
  {
   "cell_type": "code",
   "execution_count": 501,
   "metadata": {},
   "outputs": [
    {
     "name": "stdout",
     "output_type": "stream",
     "text": [
      "\"*\" postfixed means error < 0.1300\n",
      "       concepts      coeff      error\n",
      "-------------------------------------\n",
      "        unknown    -3.7800     0.1553\n",
      "    red_square*    -0.3543     0.1279\n",
      "  red_triangle*     0.2283     0.1020\n",
      "        unknown     0.0146     0.1875\n"
     ]
    },
    {
     "data": {
      "text/plain": [
       "2.8657240121590433e-15"
      ]
     },
     "execution_count": 501,
     "metadata": {},
     "output_type": "execute_result"
    }
   ],
   "source": [
    "order = [3,0,2,1]\n",
    "A = copy.deepcopy(activations)\n",
    "P, errors, theta_list = buildP(A, concepts_order[order], labels, threshold=threshold)\n",
    "newW = W.dot(P)\n",
    "print_result(newW, concepts_order[order], errors, threshold, mask=True)\n",
    "check_ortho(theta_list)\n"
   ]
  },
  {
   "cell_type": "code",
   "execution_count": 503,
   "metadata": {},
   "outputs": [
    {
     "name": "stdout",
     "output_type": "stream",
     "text": [
      "\"*\" postfixed means error < 0.1300\n",
      "       concepts      coeff      error\n",
      "-------------------------------------\n",
      "  red_triangle*     3.1332     0.1036\n",
      "  red_triangle*     0.7465     0.1012\n",
      "  red_triangle*     0.0886     0.1112\n",
      "  red_triangle*     0.0744     0.1088\n"
     ]
    },
    {
     "data": {
      "text/plain": [
       "4.5721628459011229e-14"
      ]
     },
     "execution_count": 503,
     "metadata": {},
     "output_type": "execute_result"
    }
   ],
   "source": [
    "# debug: the order should monotonically decrease: doesn't necessarily due to orthogonal restart\n",
    "order = [0,0,0,0]\n",
    "A = copy.deepcopy(activations)\n",
    "P, errors, theta_list = buildP(A, concepts_order[order], labels, threshold=threshold, plot=False)\n",
    "newW = W.dot(P)\n",
    "print_result(newW, concepts_order[order], errors, threshold, mask=True)\n",
    "check_ortho(theta_list)\n"
   ]
  },
  {
   "cell_type": "markdown",
   "metadata": {},
   "source": [
    "This shows the order in which the directions are learned would affect the result, so that we are not sure if red triangle or green triangle is the reason for the classification"
   ]
  },
  {
   "cell_type": "code",
   "execution_count": 359,
   "metadata": {},
   "outputs": [
    {
     "name": "stdout",
     "output_type": "stream",
     "text": [
      "numpy inverse error\n",
      "P_inv P 9.20537163483e-16\n",
      "P P_inv 5.43764303943e-16\n",
      "\n",
      "orthogonal inverse error\n",
      "P_inv P 9.51784683916e-16\n",
      "P P_inv 9.37414316908e-16\n"
     ]
    }
   ],
   "source": [
    "Pinv = np.linalg.inv(P)\n",
    "print('numpy inverse error')\n",
    "print('P_inv P', np.sum(np.abs(Pinv.dot(P) -np.eye(4))))\n",
    "print('P P_inv', np.sum(np.abs(P.dot(Pinv) -np.eye(4))))\n",
    "\n",
    "print('\\northogonal inverse error')\n",
    "print('P_inv P', np.sum(np.abs(ortho_inverse(P).dot(P) -np.eye(4))))\n",
    "print('P P_inv', np.sum(np.abs(P.dot(ortho_inverse(P)) -np.eye(4))))"
   ]
  },
  {
   "cell_type": "markdown",
   "metadata": {},
   "source": [
    "Since we only care about P P_inv case, I'd say P is pretty orthogonal"
   ]
  },
  {
   "cell_type": "code",
   "execution_count": 506,
   "metadata": {},
   "outputs": [
    {
     "name": "stdout",
     "output_type": "stream",
     "text": [
      "interpret each dimension anyway\n",
      "\"*\" postfixed means error < 0.1300\n",
      "       concepts      coeff      error\n",
      "-------------------------------------\n",
      "  red_triangle*     3.2421     0.1026\n",
      "  red_triangle*     0.6429     0.1038\n",
      "  red_triangle*     0.2279     0.1024\n",
      "  red_triangle*    -0.0933     0.1183\n"
     ]
    },
    {
     "data": {
      "text/plain": [
       "6.7449435431605291e-16"
      ]
     },
     "execution_count": 506,
     "metadata": {},
     "output_type": "execute_result"
    }
   ],
   "source": [
    "print('interpret each dimension anyway')\n",
    "\n",
    "def buildP2(A, concepts_list, labels, plot=False, verbose=False, threshold=0.1875/2):\n",
    "\n",
    "    def data_range(A, t):\n",
    "        return A.dot(t/t.dot(t)).ravel().std()\n",
    "\n",
    "    def normalize_theta(A, t):\n",
    "        drange = data_range(A, t)\n",
    "        if drange == 0: # no need to normalize\n",
    "            return t\n",
    "        return t * drange # multiply so that in P^-1 is divide by\n",
    "    \n",
    "    A_backup = copy.deepcopy(A)\n",
    "    theta_list = []\n",
    "\n",
    "    for c in concepts_list:\n",
    "        theta, error = fit_leastsq_concept(c, labels, A, plot=False, verbose=False)\n",
    "        theta = orthogonize(theta, theta_list) # just make sure theta are orthogonal # note: randomness here\n",
    "        theta_list.append(theta)\n",
    "        A = A - np.outer(A.dot(theta).ravel(), theta) / np.sum(theta**2) # project data down 1 dimension\n",
    "\n",
    "    # normalize variance\n",
    "    A = copy.deepcopy(A_backup)\n",
    "    errors = list(map(lambda x: x[0], \n",
    "                      [interpret_direction(t, concepts_list, labels, A) \n",
    "                       for t in theta_list]))\n",
    "    P = np.vstack(theta_list).T\n",
    "    \n",
    "    # orthogonize unknown data using pca\n",
    "    B = A.dot(ortho_inverse(P).T)\n",
    "    A = []\n",
    "    ind_changed = []\n",
    "    for i in range(len(P)):\n",
    "        if errors[i] >= threshold:\n",
    "            A.append(B[:,i])\n",
    "            ind_changed.append(i)\n",
    "    if len(ind_changed) > 0:\n",
    "        A = np.vstack(A).T\n",
    "        pca = PCA(n_components=A.shape[1])\n",
    "        pca.fit(A)\n",
    "        \n",
    "        P_subset = np.vstack([P[:,i] for i in ind_changed]).T\n",
    "\n",
    "        pca_comp = P_subset.dot(pca.components_.T) # n_comp x d\n",
    "        for i, ind in enumerate(ind_changed):\n",
    "            comp = pca_comp[:,i] \n",
    "            theta_list[ind] = comp\n",
    "\n",
    "    # normalize variance\n",
    "    A = copy.deepcopy(A_backup)\n",
    "    \n",
    "    theta_list = [normalize_theta(A, t) for t in theta_list]\n",
    "    emc = [interpret_direction(t, concepts_list, labels, A)\\\n",
    "           for t in theta_list]    \n",
    "    errors = list(map(lambda x: x[0], emc))\n",
    "    slopes = list(map(lambda x: x[1], emc))\n",
    "    min_c = list(map(lambda x: x[2], emc))\n",
    "    theta_list = list(map(lambda x: x[0] * np.sign(x[1]), zip(theta_list, slopes)))\n",
    "    \n",
    "    P = np.vstack(theta_list).T\n",
    "\n",
    "    return P, errors, theta_list, min_c\n",
    "\n",
    "order = [1,0,2,3]\n",
    "A = copy.deepcopy(activations)\n",
    "P, errors, theta_list, min_c = buildP2(A, concepts_order[order], labels, \n",
    "                                       threshold=threshold,verbose=False,plot=False)\n",
    "newW = W.dot(P)\n",
    "print_result(newW, min_c, errors, threshold, mask=True)\n",
    "check_ortho(theta_list)\n"
   ]
  },
  {
   "cell_type": "code",
   "execution_count": 509,
   "metadata": {},
   "outputs": [
    {
     "name": "stdout",
     "output_type": "stream",
     "text": [
      "Greedy interpret anyway (order independent)\n",
      "\"*\" postfixed means error < 0.1300\n",
      "       concepts      coeff      error\n",
      "-------------------------------------\n",
      "  red_triangle*     3.3631     0.1022\n",
      "  red_triangle*     0.7465     0.1012\n",
      "    red_square*    -0.2088     0.1248\n",
      "    red_square*    -0.0561     0.1252\n"
     ]
    },
    {
     "data": {
      "text/plain": [
       "2.5941577322870466e-15"
      ]
     },
     "execution_count": 509,
     "metadata": {},
     "output_type": "execute_result"
    }
   ],
   "source": [
    "print('Greedy interpret anyway (order independent)')\n",
    "def buildP3(A, concepts_list, labels, plot=False, verbose=False, threshold=0.1875/2):\n",
    "\n",
    "    def data_range(A, t):\n",
    "        return A.dot(t/t.dot(t)).ravel().std()\n",
    "\n",
    "    def normalize_theta(A, t):\n",
    "        drange = data_range(A, t)\n",
    "        if drange == 0: # no need to normalize\n",
    "            return t\n",
    "        return t * drange # multiply so that in P^-1 is divide by\n",
    "    \n",
    "    def greedy_find_c(concepts_list, labels, A):\n",
    "        min_e = 1000\n",
    "        min_t = 0\n",
    "        min_c = \"\"\n",
    "        for c in concepts_list:\n",
    "            theta, error = fit_leastsq_concept(c, labels, A, plot=False, verbose=False)\n",
    "            if error < min_e:\n",
    "                min_e = error\n",
    "                min_t = theta\n",
    "                min_c = c\n",
    "        return min_c, min_t, min_e\n",
    "    \n",
    "    A_backup = copy.deepcopy(A)\n",
    "    theta_list = []\n",
    "    \n",
    "    #concepts_used = []\n",
    "    for _ in range(len(concepts_list)):\n",
    "        min_c, theta, error = greedy_find_c(concepts_list, labels, A)\n",
    "        #concepts_used.append(min_c)\n",
    "        theta = orthogonize(theta, theta_list) # just make sure theta are orthogonal # note: randomness here\n",
    "        theta_list.append(theta)\n",
    "        A = A - np.outer(A.dot(theta).ravel(), theta) / np.sum(theta**2) # project data down 1 dimension\n",
    "\n",
    "    # normalize variance\n",
    "    A = copy.deepcopy(A_backup)\n",
    "    errors = list(map(lambda x: x[0], \n",
    "                      [interpret_direction(t, concepts_list, labels, A) \n",
    "                       for t in theta_list]))\n",
    "    P = np.vstack(theta_list).T\n",
    "    \n",
    "    # orthogonize unknown data using pca\n",
    "    B = A.dot(ortho_inverse(P).T)\n",
    "    A = []\n",
    "    ind_changed = []\n",
    "    for i in range(len(P)):\n",
    "        if errors[i] >= threshold:\n",
    "            A.append(B[:,i])\n",
    "            ind_changed.append(i)\n",
    "    if len(ind_changed) > 0:\n",
    "        A = np.vstack(A).T\n",
    "        pca = PCA(n_components=A.shape[1])\n",
    "        pca.fit(A)\n",
    "        \n",
    "        P_subset = np.vstack([P[:,i] for i in ind_changed]).T\n",
    "\n",
    "        pca_comp = P_subset.dot(pca.components_.T) # n_comp x d\n",
    "        for i, ind in enumerate(ind_changed):\n",
    "            comp = pca_comp[:,i] \n",
    "            theta_list[ind] = comp\n",
    "\n",
    "    # normalize variance\n",
    "    A = copy.deepcopy(A_backup)\n",
    "    \n",
    "    theta_list = [normalize_theta(A, t) for t in theta_list]\n",
    "    emc = [interpret_direction(t, concepts_list, labels, A)\\\n",
    "           for t in theta_list]    \n",
    "    errors = list(map(lambda x: x[0], emc))\n",
    "    slopes = list(map(lambda x: x[1], emc))\n",
    "    min_c = list(map(lambda x: x[2], emc))\n",
    "    theta_list = list(map(lambda x: x[0] * np.sign(x[1]), zip(theta_list, slopes)))\n",
    "    \n",
    "    P = np.vstack(theta_list).T\n",
    "\n",
    "    return P, errors, theta_list, min_c\n",
    "\n",
    "A = copy.deepcopy(activations)\n",
    "P, errors, theta_list, min_c = buildP3(A, concepts_order, labels, \n",
    "                                       threshold=threshold,verbose=False,plot=False)\n",
    "newW = W.dot(P)\n",
    "print_result(newW, min_c, errors, threshold, mask=True)\n",
    "check_ortho(theta_list)\n"
   ]
  },
  {
   "cell_type": "markdown",
   "metadata": {},
   "source": [
    "## TODO:\n",
    "\n",
    "1. Try an approach that interpret a direction even after PCA and also before trying PCA (done, need refactor)\n",
    "2. get confounder really working: that is change the correlation\n",
    "3. find out the reason why need to restart using least square regression"
   ]
  },
  {
   "cell_type": "markdown",
   "metadata": {},
   "source": [
    "From the coefficient, we know that to be a red triangle, it is important to be red (red square and red triangle has positive weights). However, as we know that red square shouldn't have positive weight, it leaves us wondering what is red_square really detecting. Looking at its activation plot, we see that it is actually detecting not green triangle. In this case, because every concepts except for green triangle is modeled robustly, our explanation doesn't helps much.\n",
    "\n",
    "On the positive side, we learnt that the model doesn't directly model other shape color combination.\n",
    "\n",
    "To make our method work, either we can add learning the desired concept as an auxillary task, or we try to find other concept in which the network does model. For simplicity, in this case, I'd train an auxilary task."
   ]
  },
  {
   "cell_type": "markdown",
   "metadata": {},
   "source": [
    "## Auxiliary task to force learning new concepts"
   ]
  },
  {
   "cell_type": "code",
   "execution_count": 650,
   "metadata": {},
   "outputs": [],
   "source": [
    "class Net_Aux(nn.Module): # auxilliary task network\n",
    "    def __init__(self, net, num_aux_class):\n",
    "        '''\n",
    "        net is the original network, we use the last layer activation and \n",
    "        add a linear layer to predict auxilliary task\n",
    "        '''\n",
    "        super(Net_Aux, self).__init__()\n",
    "        self.aux_net = nn.Linear(4, num_aux_class)\n",
    "        \n",
    "        self.model = copy.deepcopy(net)\n",
    "        self.classifier_net = list(self.model.classifier.children())[-1]\n",
    "        self.model.classifier = nn.Sequential(*list(self.model.classifier.children())[:-1])\n",
    "\n",
    "    def forward(self, x):\n",
    "        out = self.model(x)\n",
    "        out_c = self.classifier_net(out)\n",
    "        out_a = self.aux_net(out)\n",
    "        return out_c, out_a\n",
    "    \n",
    "    def forwardNet(self, x):\n",
    "        out = self.model(x)\n",
    "        out_c = self.classifier_net(out)\n",
    "        return out_c\n",
    "    \n",
    "    def forwardAux(self, x):\n",
    "        out = self.model(x)\n",
    "        out_a = self.aux_net(out)\n",
    "        return out_a\n",
    "\n",
    "class ColorShapeAuxDataset(Dataset):\n",
    "    \n",
    "    def __init__(self, root_dir, pos_criteria=red_triangle,transform=None):\n",
    "        \"\"\"\n",
    "        Args:\n",
    "            root_dir (string): Directory with all the images.\n",
    "            pos_criteria: criteria for being considered to be positive, input is image name\n",
    "            transform (callable, optional): Optional transform to be applied\n",
    "                on a sample.\n",
    "                \n",
    "        Outptut:\n",
    "            different from ColorShapeDataset, the y output now is an array containing answers\n",
    "            to the main task and the auxillary tasks\n",
    "        \"\"\"\n",
    "        self.root_dir = root_dir\n",
    "        self.transform = transform\n",
    "        self.image_names = glob.glob(root_dir + '/*.png')\n",
    "        self.pos_criteria = pos_criteria\n",
    "\n",
    "    def __len__(self):\n",
    "        return len(self.image_names)\n",
    "\n",
    "    def __getitem__(self, idx):\n",
    "        image_name = self.image_names[idx]\n",
    "        image = io.imread(image_name)\n",
    "        \n",
    "        y = []\n",
    "        y.append(self.pos_criteria(image_name)) # main task\n",
    "        # aux tasks: ['red_triangle', 'red_square', 'green_triangle', 'green_square']\n",
    "        y.append(red_triangle(image_name))\n",
    "        y.append(red_square(image_name))\n",
    "        y.append(green_triangle(image_name))\n",
    "        y.append(green_square(image_name))\n",
    "        \n",
    "        if self.transform:\n",
    "            image = self.transform(image)\n",
    "\n",
    "        return image, y\n",
    "    \n"
   ]
  },
  {
   "cell_type": "code",
   "execution_count": 651,
   "metadata": {},
   "outputs": [],
   "source": [
    "color_shape_aux_data = ColorShapeAuxDataset('color_shape_combined/original_size/resized/', \n",
    "                                         red_triangle,\n",
    "                                         transforms.Compose([transforms.ToTensor()]))\n",
    "trainloader_aux = DataLoader(color_shape_aux_data, batch_size=32, \n",
    "                             sampler=SubsetRandomSampler(train_subset),\n",
    "                             num_workers=4)\n",
    "testloader_aux = DataLoader(color_shape_aux_data, batch_size=32, \n",
    "                             sampler=SubsetRandomSampler(test_subset),\n",
    "                             num_workers=4)\n",
    "\n",
    "#show_dataloader(trainloader_aux, top=5)#, net_aux.forwardNet)"
   ]
  },
  {
   "cell_type": "code",
   "execution_count": 652,
   "metadata": {},
   "outputs": [],
   "source": [
    "net_aux = Net_Aux(net, 4) # 4 more tasks to predict\n",
    "\n",
    "def logitLoss(x, y):\n",
    "    return torch.mean(torch.log(1 + torch.exp(x)) - x * y.float())\n",
    "\n",
    "def criterion_aux(outputs, y):\n",
    "    out_c, out_a = outputs\n",
    "    y0, y1, y2, y3, y4 = y\n",
    "    # add the new tasks here\n",
    "    loss = nn.CrossEntropyLoss()(out_c, y0) \n",
    "    loss += logitLoss(out_a[:,0], y1)\n",
    "    loss += logitLoss(out_a[:,1], y2)\n",
    "    loss += logitLoss(out_a[:,2], y3)\n",
    "    loss += logitLoss(out_a[:,3], y4)\n",
    "    return loss\n",
    "\n",
    "optimizer_aux = optim.Adam(net_aux.parameters())"
   ]
  },
  {
   "cell_type": "code",
   "execution_count": 656,
   "metadata": {
    "scrolled": true
   },
   "outputs": [
    {
     "name": "stdout",
     "output_type": "stream",
     "text": [
      "[1,    10] loss: 0.0204189824\n",
      "[1,    20] loss: 0.0160004969\n",
      "[1,    30] loss: 0.0149709772\n",
      "[1,    40] loss: 0.0151463417\n",
      "[1,    50] loss: 0.0138136212\n",
      "[1,    60] loss: 0.0139996699\n",
      "[1,    70] loss: 0.0124699014\n",
      "[1,    80] loss: 0.0123346330\n",
      "[1,    90] loss: 0.0108815907\n",
      "[1,   100] loss: 0.0094664729\n",
      "[2,    10] loss: 0.0084571671\n",
      "[2,    20] loss: 0.0077115818\n",
      "[2,    30] loss: 0.0067377484\n",
      "[2,    40] loss: 0.0060552260\n",
      "[2,    50] loss: 0.0055324849\n",
      "[2,    60] loss: 0.0051660048\n",
      "[2,    70] loss: 0.0044253426\n",
      "[2,    80] loss: 0.0048477306\n",
      "[2,    90] loss: 0.0045450293\n",
      "[2,   100] loss: 0.0042360782\n",
      "Finished Training\n"
     ]
    }
   ],
   "source": [
    "train(net_aux, trainloader_aux, criterion_aux, optimizer_aux)"
   ]
  },
  {
   "cell_type": "code",
   "execution_count": 657,
   "metadata": {},
   "outputs": [
    {
     "name": "stdout",
     "output_type": "stream",
     "text": [
      "Accuracy of the network on 820 test images: 100 %\n",
      "Accuracy of the network on 3276 train images: 99 %\n"
     ]
    }
   ],
   "source": [
    "show_acc(net_aux.forwardNet, testloader, 'test')\n",
    "show_acc(net_aux.forwardNet, trainloader, 'train')"
   ]
  },
  {
   "cell_type": "code",
   "execution_count": 658,
   "metadata": {},
   "outputs": [],
   "source": [
    "def show_acc_sigmoid(net, loader, name=\"\"):\n",
    "    correct = 0\n",
    "    total = 0\n",
    "    first = True\n",
    "    \n",
    "    for data in loader:\n",
    "        images, labels = data\n",
    "        labels = labels[1:]\n",
    "        if first:\n",
    "            correct = np.zeros(len(labels))\n",
    "            first = False\n",
    "        outputs = net(Variable(images))\n",
    "        outputs = (nn.Sigmoid()(outputs) >= 0.5).long()\n",
    "        total += outputs.size(0)\n",
    "        for i in range(len(labels)):\n",
    "            correct[i] += (outputs[:,i] == to_var(labels[i])).sum().data[0]\n",
    "    return total, correct\n",
    "\n",
    "# show auxilliary task acc\n",
    "#net_aux.aux_net.weight\n",
    "total, correct = show_acc_sigmoid(net_aux.forwardAux, testloader_aux, 'test')"
   ]
  },
  {
   "cell_type": "code",
   "execution_count": 659,
   "metadata": {},
   "outputs": [
    {
     "name": "stdout",
     "output_type": "stream",
     "text": [
      "[1.0, 0.90000000000000002, 0.99024390243902438, 0.83292682926829265]\n",
      "['red_triangle', 'red_square', 'green_triangle', 'green_square']\n"
     ]
    },
    {
     "data": {
      "text/plain": [
       "array([ 820.,  738.,  812.,  683.])"
      ]
     },
     "execution_count": 659,
     "metadata": {},
     "output_type": "execute_result"
    }
   ],
   "source": [
    "print([c/total for c in correct])\n",
    "print(['red_triangle', 'red_square', 'green_triangle', 'green_square'])\n",
    "correct"
   ]
  },
  {
   "cell_type": "code",
   "execution_count": 670,
   "metadata": {},
   "outputs": [],
   "source": [
    "B = net_aux.aux_net.weight.data.cpu().numpy()"
   ]
  },
  {
   "cell_type": "markdown",
   "metadata": {},
   "source": [
    "### W explanation for aux data "
   ]
  },
  {
   "cell_type": "code",
   "execution_count": 671,
   "metadata": {},
   "outputs": [],
   "source": [
    "def explain_aux(net, concept_loader):\n",
    "    '''explaination in the form of y = sigma(W P P^-1 phi(x))'''\n",
    "    model = net.model\n",
    "    W = net.classifier_net.weight.cpu().data.numpy()\n",
    "    \n",
    "    activation_matrix = []\n",
    "    labels = []\n",
    "    for x, y in concept_loader:\n",
    "        activation_matrix.append(model(Variable(x)).data.cpu().numpy())\n",
    "        labels.extend(y)\n",
    "    activation_matrix = np.vstack(activation_matrix)\n",
    "    return activation_matrix, labels, W\n",
    "    \n",
    "activations_aux, labels_aux, W_aux = explain_aux(net_aux, concept_loader)"
   ]
  },
  {
   "cell_type": "code",
   "execution_count": 678,
   "metadata": {},
   "outputs": [
    {
     "name": "stdout",
     "output_type": "stream",
     "text": [
      "0.0951478724771 0.146272141059 red_triangle\n",
      "0.0960814524537 0.226949523248 red_square\n",
      "0.166559963797 0.0556471336229 green_triangle\n",
      "0.137554515038 0.146264234177 green_square\n"
     ]
    }
   ],
   "source": [
    "concepts_order = ['red_triangle', 'red_square', 'green_triangle', 'green_square']\n",
    "for i in range(len(B)):\n",
    "    e, m, _ = eval_direction(B[i], concepts_order[i], labels_aux, activations_aux) \n",
    "    print(e, m, concepts_order[i])"
   ]
  },
  {
   "cell_type": "code",
   "execution_count": 581,
   "metadata": {},
   "outputs": [
    {
     "name": "stdout",
     "output_type": "stream",
     "text": [
      "how meaningful are random directions?\n"
     ]
    },
    {
     "data": {
      "image/png": "[encoded data removed]",
      "text/plain": [
       "<matplotlib.figure.Figure at 0x7f3f60bb09b0>"
      ]
     },
     "metadata": {},
     "output_type": "display_data"
    },
    {
     "data": {
      "text/plain": [
       "0.10991285634524076"
      ]
     },
     "execution_count": 581,
     "metadata": {},
     "output_type": "execute_result"
    }
   ],
   "source": [
    "print('how meaningful are random directions?')\n",
    "nruns = 1000\n",
    "errors = []\n",
    "for i in range(nruns):\n",
    "    e, m, c = interpret_direction(np.random.randn(4), concepts_order, labels_aux, activations_aux) \n",
    "    errors.append(e)\n",
    "sns.distplot(errors)\n",
    "plt.ylabel('frequency')\n",
    "plt.xlabel('interpretable error')\n",
    "plt.show()\n",
    "np.mean(errors)"
   ]
  },
  {
   "cell_type": "code",
   "execution_count": 664,
   "metadata": {},
   "outputs": [
    {
     "name": "stdout",
     "output_type": "stream",
     "text": [
      "color_shape_combined/concepts/red_square/resized/99.png\n",
      "color_shape_combined/concepts/red_square/resized/2.png\n",
      "color_shape_combined/concepts/red_triangle/resized/78.png\n",
      "color_shape_combined/concepts/red_square/resized/84.png\n"
     ]
    },
    {
     "data": {
      "image/png": "[encoded data removed]",
      "text/plain": [
       "<matplotlib.figure.Figure at 0x7f3f51f94080>"
      ]
     },
     "metadata": {},
     "output_type": "display_data"
    },
    {
     "name": "stdout",
     "output_type": "stream",
     "text": [
      "coefficeints [-0.67612153  0.47422418  0.64644027 -0.29483742]\n",
      "\n",
      "nueron 0\n",
      "  red_triangle error: 0.1127 sign(slope): -1\n",
      "\n",
      "nueron 1\n",
      "  green_square error: 0.1305 sign(slope): -1\n",
      "\n",
      "nueron 2\n",
      "  red_triangle error: 0.0964 sign(slope): 1\n",
      "\n",
      "nueron 3\n",
      "    red_square error: 0.1315 sign(slope): -1\n",
      "\"*\" postfixed means error < 0.1300\n",
      "       concepts      coeff      error\n",
      "-------------------------------------\n",
      "  red_triangle*     0.6761     0.1127\n",
      "  red_triangle*     0.6464     0.0964\n",
      "        unknown    -0.4742     0.1305\n",
      "        unknown     0.2948     0.1315\n",
      "0.117786392908\n"
     ]
    }
   ],
   "source": [
    "for i, idx in enumerate(np.argmax(activations_aux, axis=0)):\n",
    "    fn = labels_aux[idx]\n",
    "    print(fn)\n",
    "    img = mpimg.imread(fn)\n",
    "    plt.subplot(1, 4, i+1)\n",
    "    plt.imshow(img)\n",
    "    plt.axis('off')\n",
    "plt.show()\n",
    "\n",
    "print('coefficeints', W_aux[1] - W_aux[0])\n",
    "\n",
    "# explain\n",
    "plot=False\n",
    "verbose=True\n",
    "min_c = []\n",
    "errors = []\n",
    "theta_list = []\n",
    "for i in range(4):\n",
    "    direction = np.zeros(4)\n",
    "    direction[i] = 1\n",
    "    e, m, c = interpret_direction(direction, concepts_order, labels_aux, activations_aux) \n",
    "    if m < 0:\n",
    "        direction = -direction\n",
    "    theta_list.append(direction)\n",
    "    min_c.append(c)\n",
    "    errors.append(e)\n",
    "    print('\\nnueron %d' % i)\n",
    "    print('%14s error: %.4f sign(slope): %d' % (c, e, np.sign(m)))\n",
    "    \n",
    "P = np.vstack(theta_list).T\n",
    "print_result(W_aux.dot(P), min_c, errors, threshold, mask=True)\n",
    "print(np.mean(errors))"
   ]
  },
  {
   "cell_type": "code",
   "execution_count": 665,
   "metadata": {},
   "outputs": [
    {
     "name": "stdout",
     "output_type": "stream",
     "text": [
      "what does the network understand?\n",
      "without orthogonal (concept order independent)\n",
      "red_triangle   error: 0.0638\n",
      "green_triangle error: 0.1286\n",
      "red_square     error: 0.0758\n",
      "green_square   error: 0.1143\n",
      "0.0956188995755\n"
     ]
    }
   ],
   "source": [
    "print('what does the network understand?')\n",
    "plot, verbose = False, True\n",
    "print('without orthogonal (concept order independent)')\n",
    "errors = []\n",
    "for c in concepts_order:\n",
    "    theta, error =  fit_leastsq_concept(c, labels_aux, activations_aux, plot, verbose)\n",
    "    errors.append(error)\n",
    "print(np.mean(errors))"
   ]
  },
  {
   "cell_type": "code",
   "execution_count": 666,
   "metadata": {},
   "outputs": [
    {
     "name": "stdout",
     "output_type": "stream",
     "text": [
      "WP interpret anyway\n",
      "\"*\" postfixed means error < 0.1300\n",
      "       concepts      coeff      error\n",
      "-------------------------------------\n",
      "  red_triangle*     5.4140     0.1116\n",
      "    red_square*    -1.4540     0.1175\n",
      "    red_square*     0.1351     0.1210\n",
      "  red_triangle*     0.0577     0.0638\n",
      "0.103470832295\n"
     ]
    }
   ],
   "source": [
    "print('WP interpret anyway')\n",
    "order = [0,1,2,3]\n",
    "A = copy.deepcopy(activations_aux)\n",
    "P, errors, theta_list, min_c = buildP2(A, concepts_order[order], labels_aux, \n",
    "                                       threshold=threshold,verbose=False,plot=False)\n",
    "newW = W_aux.dot(P)\n",
    "print_result(newW, min_c, errors, threshold, mask=False)\n",
    "print(np.mean(errors))"
   ]
  },
  {
   "cell_type": "code",
   "execution_count": 667,
   "metadata": {},
   "outputs": [
    {
     "name": "stdout",
     "output_type": "stream",
     "text": [
      "WP greedy anyway\n",
      "\"*\" postfixed means error < 0.1300\n",
      "       concepts      coeff      error\n",
      "-------------------------------------\n",
      "  red_triangle*     4.1394     0.1208\n",
      "  red_triangle*     2.5066     0.1256\n",
      "  red_triangle*     0.0577     0.0638\n",
      "    red_square*    -0.0066     0.0762\n",
      "0.0965840771929\n"
     ]
    }
   ],
   "source": [
    "print('WP greedy anyway')\n",
    "A = copy.deepcopy(activations_aux)\n",
    "P, errors, theta_list, min_c = buildP3(A, concepts_order, labels_aux, \n",
    "                                       threshold=threshold,verbose=False,plot=False)\n",
    "newW = W_aux.dot(P)\n",
    "print_result(newW, min_c, errors, threshold, mask=False)\n",
    "print(np.mean(errors))"
   ]
  },
  {
   "cell_type": "markdown",
   "metadata": {},
   "source": [
    "Current takeaways:\n",
    "\n",
    "1. the explanations of W and WP tends to agree\n",
    "2. the interpretability of WP is slightly higher than W\n",
    "3. random directionsare quite interpretable\n",
    "\n",
    "How do we limit W?\n",
    "\n",
    "we need a model that is fairly complex, but the task should again be easy enough"
   ]
  },
  {
   "cell_type": "code",
   "execution_count": null,
   "metadata": {},
   "outputs": [],
   "source": []
  },
  {
   "cell_type": "markdown",
   "metadata": {},
   "source": [
    "## Introduce confounder: RT ~ GS\n",
    "\n",
    "start from GS, RS model, then recreate the dataset and train with the old model"
   ]
  },
  {
   "cell_type": "code",
   "execution_count": 426,
   "metadata": {},
   "outputs": [],
   "source": [
    "net2 = Net(2)\n",
    "\n",
    "green_square_data = ColorShapeDataset('color_shape_combined/original_size/resized/', \n",
    "                                     green_square,\n",
    "                                     transforms.Compose([transforms.ToTensor()]))\n",
    "\n",
    "trainloader2 = DataLoader(green_square_data, batch_size=32, \n",
    "                         sampler=SubsetRandomSampler(train_subset),\n",
    "                         num_workers=4)\n",
    "testloader2 = DataLoader(green_square_data, batch_size=32, \n",
    "                         sampler=SubsetRandomSampler(test_subset),\n",
    "                         num_workers=4)\n"
   ]
  },
  {
   "cell_type": "code",
   "execution_count": 427,
   "metadata": {},
   "outputs": [
    {
     "name": "stdout",
     "output_type": "stream",
     "text": [
      "[1,    10] loss: 0.0035214192\n",
      "[1,    20] loss: 0.0033738096\n",
      "[1,    30] loss: 0.0030995546\n",
      "[1,    40] loss: 0.0029537059\n",
      "[1,    50] loss: 0.0026892515\n",
      "[1,    60] loss: 0.0020129184\n",
      "[1,    70] loss: 0.0021518419\n",
      "[1,    80] loss: 0.0018535325\n",
      "[1,    90] loss: 0.0017955938\n",
      "[1,   100] loss: 0.0017028076\n",
      "[2,    10] loss: 0.0015541420\n",
      "[2,    20] loss: 0.0014598360\n",
      "[2,    30] loss: 0.0012577055\n",
      "[2,    40] loss: 0.0012386259\n",
      "[2,    50] loss: 0.0009892407\n",
      "[2,    60] loss: 0.0010070287\n",
      "[2,    70] loss: 0.0011232527\n",
      "[2,    80] loss: 0.0010112567\n",
      "[2,    90] loss: 0.0008969869\n",
      "[2,   100] loss: 0.0008098836\n",
      "Finished Training\n"
     ]
    }
   ],
   "source": [
    "criterion2 = nn.CrossEntropyLoss()\n",
    "optimizer2 = optim.Adam(net2.parameters())\n",
    "\n",
    "train(net2, trainloader2, criterion2, optimizer2)"
   ]
  },
  {
   "cell_type": "code",
   "execution_count": 456,
   "metadata": {
    "scrolled": true
   },
   "outputs": [
    {
     "name": "stdout",
     "output_type": "stream",
     "text": [
      "Accuracy of the network on 3276 train images: 98 %\n",
      "Accuracy of the network on 820 test images: 97 %\n"
     ]
    }
   ],
   "source": [
    "show_acc(net2, trainloader2, 'train')\n",
    "show_acc(net2, testloader2, 'test')"
   ]
  },
  {
   "cell_type": "code",
   "execution_count": 457,
   "metadata": {},
   "outputs": [],
   "source": [
    "activations2, labels2, W2 = explain(net2, concept_loader)"
   ]
  },
  {
   "cell_type": "code",
   "execution_count": 515,
   "metadata": {},
   "outputs": [
    {
     "name": "stdout",
     "output_type": "stream",
     "text": [
      "W explaination\n"
     ]
    },
    {
     "data": {
      "image/png": "[encoded data removed]",
      "text/plain": [
       "<matplotlib.figure.Figure at 0x7f3f60b235c0>"
      ]
     },
     "metadata": {},
     "output_type": "display_data"
    },
    {
     "name": "stdout",
     "output_type": "stream",
     "text": [
      "coefficeints [-0.61756492 -0.64131325  0.50590301  1.01482534]\n",
      "\n",
      "nueron 0\n",
      "  green_square error: 0.0875 sign(slope): -1\n",
      "\n",
      "nueron 1\n",
      "green_triangle error: 0.1875 sign(slope): 0\n",
      "\n",
      "nueron 2\n",
      "  green_square error: 0.0762 sign(slope): 1\n",
      "\n",
      "nueron 3\n",
      "  green_square error: 0.0755 sign(slope): 1\n",
      "\"*\" postfixed means error < 0.1300\n",
      "       concepts      coeff      error\n",
      "-------------------------------------\n",
      "  green_square*     1.0148     0.0755\n",
      "        unknown    -0.6413     0.1875\n",
      "  green_square*    -0.6176     0.0875\n",
      "  green_square*     0.5059     0.0762\n"
     ]
    }
   ],
   "source": [
    "print('W explaination')\n",
    "for i, idx in enumerate(np.argmax(activations2, axis=0)):\n",
    "    fn = labels2[idx]\n",
    "    #print(fn)\n",
    "    img = mpimg.imread(fn)\n",
    "    plt.subplot(1, 4, i+1)\n",
    "    plt.imshow(img)\n",
    "    plt.axis('off')\n",
    "plt.show()\n",
    "\n",
    "print('coefficeints', W2[1] - W2[0])\n",
    "\n",
    "# explain\n",
    "plot=False\n",
    "verbose=True\n",
    "min_c = []\n",
    "errors = []\n",
    "for i in range(4):\n",
    "    direction = np.zeros(4)\n",
    "    direction[i] = 1\n",
    "    e, m, c = interpret_direction(direction, concepts_order, labels2, activations2) \n",
    "    min_c.append(c)\n",
    "    errors.append(e)\n",
    "    print('\\nnueron %d' % i)\n",
    "    print('%14s error: %.4f sign(slope): %d' % (c, e, np.sign(m)))\n",
    "    \n",
    "print_result(W2, min_c, errors, threshold, mask=True)"
   ]
  },
  {
   "cell_type": "code",
   "execution_count": 520,
   "metadata": {},
   "outputs": [
    {
     "name": "stdout",
     "output_type": "stream",
     "text": [
      "what does the network understand?\n",
      "without orthogonal (concept order independent)\n",
      "red_triangle   error: 0.1603\n",
      "green_triangle error: 0.1642\n",
      "red_square     error: 0.1189\n",
      "green_square   error: 0.0722\n"
     ]
    }
   ],
   "source": [
    "print('what does the network understand?')\n",
    "plot, verbose = False, True\n",
    "print('without orthogonal (concept order independent)')\n",
    "for c in concepts_order:\n",
    "    theta, error =  fit_leastsq_concept(c, labels2, activations2, plot, verbose)"
   ]
  },
  {
   "cell_type": "code",
   "execution_count": 522,
   "metadata": {},
   "outputs": [
    {
     "name": "stdout",
     "output_type": "stream",
     "text": [
      "WP interpret anyway\n",
      "\"*\" postfixed means error < 0.1300\n",
      "       concepts      coeff      error\n",
      "-------------------------------------\n",
      "  green_square*     1.7092     0.0769\n",
      "  green_square*     1.0790     0.0782\n",
      "        unknown     0.0109     0.1481\n",
      "        unknown    -0.0000     0.1875\n"
     ]
    }
   ],
   "source": [
    "print('WP interpret anyway')\n",
    "order = [1,0,2,3]\n",
    "A = copy.deepcopy(activations2)\n",
    "P, errors, theta_list, min_c = buildP2(A, concepts_order[order], labels2, \n",
    "                                       threshold=threshold,verbose=False,plot=False)\n",
    "newW = W2.dot(P)\n",
    "print_result(newW, min_c, errors, threshold, mask=True)"
   ]
  },
  {
   "cell_type": "code",
   "execution_count": 518,
   "metadata": {},
   "outputs": [
    {
     "name": "stdout",
     "output_type": "stream",
     "text": [
      "WP greedy anyway\n",
      "\"*\" postfixed means error < 0.1300\n",
      "       concepts      coeff      error\n",
      "-------------------------------------\n",
      "  green_square*     1.6017     0.0780\n",
      "  green_square*     0.8847     0.0808\n",
      "  green_square*     0.3106     0.0722\n",
      "        unknown     0.0000     0.1875\n"
     ]
    }
   ],
   "source": [
    "print('WP greedy anyway')\n",
    "A = copy.deepcopy(activations2)\n",
    "P, errors, theta_list, min_c = buildP3(A, concepts_order, labels2, \n",
    "                                       threshold=threshold,verbose=False,plot=False)\n",
    "newW = W2.dot(P)\n",
    "print_result(newW, min_c, errors, threshold, mask=True)"
   ]
  },
  {
   "cell_type": "markdown",
   "metadata": {},
   "source": [
    "so both tells you green square is the confounder. This means this is a too easy task"
   ]
  },
  {
   "cell_type": "markdown",
   "metadata": {},
   "source": [
    "## A more complicated task: \n",
    "\n",
    "The idea is to force the network to learn all 4 concepts"
   ]
  },
  {
   "cell_type": "code",
   "execution_count": null,
   "metadata": {},
   "outputs": [],
   "source": []
  }
 ],
 "metadata": {
  "kernelspec": {
   "display_name": "Python 3",
   "language": "python",
   "name": "python3"
  },
  "language_info": {
   "codemirror_mode": {
    "name": "ipython",
    "version": 3
   },
   "file_extension": ".py",
   "mimetype": "text/x-python",
   "name": "python",
   "nbconvert_exporter": "python",
   "pygments_lexer": "ipython3",
   "version": "3.5.2"
  }
 },
 "nbformat": 4,
 "nbformat_minor": 2
}
